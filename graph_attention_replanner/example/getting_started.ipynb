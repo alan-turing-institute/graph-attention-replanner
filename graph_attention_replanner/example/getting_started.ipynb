{
 "cells": [
  {
   "cell_type": "markdown",
   "id": "8ace15be",
   "metadata": {},
   "source": [
    "# Solving the Cooperative Mission Replanning Problem (CMRP)\n",
    "\n",
    "This notebook shows us how build a single model (GATR General) that can handle a diverse range of problem setups (different number of tasks, agents, discretization level) and compared it against specific model."
   ]
  },
  {
   "cell_type": "code",
   "execution_count": 1,
   "id": "a4397d38",
   "metadata": {},
   "outputs": [],
   "source": [
    "import os\n",
    "from types import SimpleNamespace\n",
    "import pandas as pd\n",
    "import numpy as np\n",
    "import matplotlib.pyplot as plt\n",
    "from graph_attention_replanner.config import (\n",
    "    LogFileConfig,\n",
    "    get_generator,\n",
    "    get_env,\n",
    ")\n",
    "\n",
    "large_problem_setup_dict = {\n",
    "    \"mtsp_problem_type\": 5,\n",
    "    \"min_num_task\": 1,\n",
    "    \"max_num_task\": 6,\n",
    "    \"min_num_agent\": 1,\n",
    "    \"max_num_agent\": 6,\n",
    "    \"min_discretize_level\": 1,\n",
    "    \"max_discretize_level\": 4,\n",
    "    \"num_node\": 24,\n",
    "    \"batch_size\": 10,\n",
    "    \"seed\": 0\n",
    "}\n",
    "large_problem_setup = SimpleNamespace(**large_problem_setup_dict)\n",
    "\n",
    "small_problem_setup_dict = {\n",
    "    \"mtsp_problem_type\": 5,\n",
    "    \"num_task\": 3,\n",
    "    \"num_agent\": 3,\n",
    "    \"discretize_level\": 2,\n",
    "    \"num_node\": 6,\n",
    "    \"batch_size\": 10,\n",
    "    \"seed\": 0\n",
    "}\n",
    "small_problem_setup = SimpleNamespace(**small_problem_setup_dict)"
   ]
  },
  {
   "cell_type": "markdown",
   "id": "344fe6ac",
   "metadata": {
    "vscode": {
     "languageId": "plaintext"
    }
   },
   "source": [
    "# Training\n",
    "Here, we try to train 3 models (1 general, 2 specific). \n",
    "- A General model that can solve the CMRP with up to 6 tasks, up to 6 agents, and up to 4 discretization levels.\n",
    "- A specific model that can only solve CMRPs with 6 tasks, 6 agents, and 4 discretization levels.\n",
    "- A specific model that can only solve CMRPs with 3 tasks, 3 agents, and 2 discretization levels.\n",
    "\n",
    "After this section, you should have the following code artifacts in your cache (Default location of the cache is at `../../cache`)\n",
    "<pre>\n",
    "├── checkpoints\n",
    "│   └── algo_reinforce\n",
    "│       ├── problem5_node24_task1to6_dislevel1to4_agent1to6_seed0_20250804163332\n",
    "│       │   └── epoch_epoch=000.ckpt\n",
    "│       ├── problem5_node24_task6to6_dislevel4to4_agent6to6_seed0_20250804163554\n",
    "│       │   └── epoch_epoch=000.ckpt\n",
    "│       └── problem5_node6_task3to3_dislevel2to2_agent3to3_seed0_20250804163826\n",
    "│           └── epoch_epoch=000.ckpt\n",
    "</pre>"
   ]
  },
  {
   "cell_type": "code",
   "execution_count": 4,
   "id": "ac6e6841",
   "metadata": {},
   "outputs": [
    {
     "name": "stdout",
     "output_type": "stream",
     "text": [
      "{'mtsp_problem_type': 5, 'num_node': 24, 'exact_num_node': False, 'num_task': None, 'min_num_task': 1, 'max_num_task': 6, 'discretize_level': None, 'min_discretize_level': 1, 'max_discretize_level': 4, 'num_agent': None, 'min_num_agent': 1, 'max_num_agent': 6, 'batch_size': 10, 'device_id': 0, 'seed': 0, 'num_exp': 1, 'embed_dim': 128, 'num_encoder_layers': 8, 'num_heads': 4, 'train_data_size': 1000, 'val_data_size': 100, 'learning_rate': 1e-05, 'max_epochs': 1, 'algo': 'reinforce', 'disable_wandb': True}\n"
     ]
    },
    {
     "name": "stderr",
     "output_type": "stream",
     "text": [
      "Seed set to 0\n",
      "/Users/ekwan/graph-attention-replanner/.venv/lib/python3.10/site-packages/torchrl/data/tensor_specs.py:6911: DeprecationWarning: The BoundedTensorSpec has been deprecated and will be removed in v0.8. Please use Bounded instead.\n",
      "  warnings.warn(\n",
      "/Users/ekwan/graph-attention-replanner/.venv/lib/python3.10/site-packages/torchrl/data/tensor_specs.py:6911: DeprecationWarning: The UnboundedDiscreteTensorSpec has been deprecated and will be removed in v0.8. Please use Unbounded instead.\n",
      "  warnings.warn(\n",
      "/Users/ekwan/graph-attention-replanner/.venv/lib/python3.10/site-packages/torchrl/data/tensor_specs.py:6911: DeprecationWarning: The UnboundedContinuousTensorSpec has been deprecated and will be removed in v0.8. Please use Unbounded instead.\n",
      "  warnings.warn(\n",
      "/Users/ekwan/graph-attention-replanner/.venv/lib/python3.10/site-packages/torchrl/data/tensor_specs.py:6911: DeprecationWarning: The CompositeSpec has been deprecated and will be removed in v0.8. Please use Composite instead.\n",
      "  warnings.warn(\n",
      "Using 16bit Automatic Mixed Precision (AMP)\n",
      "Trainer already configured with model summary callbacks: [<class 'lightning.pytorch.callbacks.rich_model_summary.RichModelSummary'>]. Skipping setting a default `ModelSummary` callback.\n",
      "GPU available: True (mps), used: True\n",
      "TPU available: False, using: 0 TPU cores\n",
      "HPU available: False, using: 0 HPUs\n",
      "val_file not set. Generating dataset instead\n",
      "test_file not set. Generating dataset instead\n",
      "/Users/ekwan/graph-attention-replanner/.venv/lib/python3.10/site-packages/torchrl/data/tensor_specs.py:6911: DeprecationWarning: The CompositeSpec has been deprecated and will be removed in v0.8. Please use Composite instead.\n",
      "  warnings.warn(\n"
     ]
    },
    {
     "name": "stdout",
     "output_type": "stream",
     "text": [
      "┏━━━━┳━━━━━━━━━━━━━━━━━━━━━━━━━━━━━━━━━━━━━━━━┳━━━━━━━━━━━━━━━┳━━━━━━━━┳━━━━━━━┓\n",
      "┃\u001b[1;35m \u001b[0m\u001b[1;35m  \u001b[0m\u001b[1;35m \u001b[0m┃\u001b[1;35m \u001b[0m\u001b[1;35mName                                  \u001b[0m\u001b[1;35m \u001b[0m┃\u001b[1;35m \u001b[0m\u001b[1;35mType         \u001b[0m\u001b[1;35m \u001b[0m┃\u001b[1;35m \u001b[0m\u001b[1;35mParams\u001b[0m\u001b[1;35m \u001b[0m┃\u001b[1;35m \u001b[0m\u001b[1;35mMode \u001b[0m\u001b[1;35m \u001b[0m┃\n",
      "┡━━━━╇━━━━━━━━━━━━━━━━━━━━━━━━━━━━━━━━━━━━━━━━╇━━━━━━━━━━━━━━━╇━━━━━━━━╇━━━━━━━┩\n",
      "│\u001b[2m \u001b[0m\u001b[2m0 \u001b[0m\u001b[2m \u001b[0m│ env                                    │ MTSPEnv_Type5 │      0 │ train │\n",
      "│\u001b[2m \u001b[0m\u001b[2m1 \u001b[0m\u001b[2m \u001b[0m│ policy                                 │ AttentionMod… │  1.7 M │ train │\n",
      "│\u001b[2m \u001b[0m\u001b[2m2 \u001b[0m\u001b[2m \u001b[0m│ policy.encoder                         │ AttentionMod… │  1.6 M │ train │\n",
      "│\u001b[2m \u001b[0m\u001b[2m3 \u001b[0m\u001b[2m \u001b[0m│ policy.encoder.init_embedding          │ MTSPwithTLIn… │    896 │ train │\n",
      "│\u001b[2m \u001b[0m\u001b[2m4 \u001b[0m\u001b[2m \u001b[0m│ policy.encoder.net                     │ GraphAttenti… │  1.6 M │ train │\n",
      "│\u001b[2m \u001b[0m\u001b[2m5 \u001b[0m\u001b[2m \u001b[0m│ policy.decoder                         │ AttentionMod… │  115 K │ train │\n",
      "│\u001b[2m \u001b[0m\u001b[2m6 \u001b[0m\u001b[2m \u001b[0m│ policy.decoder.context_embedding       │ MTSPContext   │ 33.3 K │ train │\n",
      "│\u001b[2m \u001b[0m\u001b[2m7 \u001b[0m\u001b[2m \u001b[0m│ policy.decoder.dynamic_embedding       │ StaticEmbedd… │      0 │ train │\n",
      "│\u001b[2m \u001b[0m\u001b[2m8 \u001b[0m\u001b[2m \u001b[0m│ policy.decoder.pointer                 │ PointerAtten… │ 16.4 K │ train │\n",
      "│\u001b[2m \u001b[0m\u001b[2m9 \u001b[0m\u001b[2m \u001b[0m│ policy.decoder.project_node_embeddings │ Linear        │ 49.2 K │ train │\n",
      "│\u001b[2m \u001b[0m\u001b[2m10\u001b[0m\u001b[2m \u001b[0m│ policy.decoder.project_fixed_context   �� Linear        │ 16.4 K │ train │\n",
      "│\u001b[2m \u001b[0m\u001b[2m11\u001b[0m\u001b[2m \u001b[0m│ baseline                               │ WarmupBaseli… │  1.7 M │ train │\n",
      "│\u001b[2m \u001b[0m\u001b[2m12\u001b[0m\u001b[2m \u001b[0m│ baseline.baseline                      │ RolloutBasel… │  1.7 M │ train │\n",
      "│\u001b[2m \u001b[0m\u001b[2m13\u001b[0m\u001b[2m \u001b[0m│ baseline.baseline.policy               │ AttentionMod… │  1.7 M │ eval  │\n",
      "│\u001b[2m \u001b[0m\u001b[2m14\u001b[0m\u001b[2m \u001b[0m│ baseline.warmup_baseline               │ ExponentialB… │      0 │ train │\n",
      "└────┴────────────────────────────────────────┴───────────────┴────────┴───────┘\n",
      "\u001b[1mTrainable params\u001b[0m: 3.4 M                                                         \n",
      "\u001b[1mNon-trainable params\u001b[0m: 0                                                         \n",
      "\u001b[1mTotal params\u001b[0m: 3.4 M                                                             \n",
      "\u001b[1mTotal estimated model params size (MB)\u001b[0m: 13                                      \n",
      "\u001b[1mModules in train mode\u001b[0m: 164                                                      \n",
      "\u001b[1mModules in eval mode\u001b[0m: 160                                                       \n",
      "Epoch 0: 100%|██████████| 100/100 [01:22<00:00,  1.22it/s, v_num=20, train/reward=-34.2, train/loss=1.13e+3]\n",
      "Validation: |          | 0/? [00:00<?, ?it/s]\u001b[A\n",
      "Validation:   0%|          | 0/10 [00:00<?, ?it/s]\u001b[A\n",
      "Validation DataLoader 0:   0%|          | 0/10 [00:00<?, ?it/s]\u001b[A\n",
      "Validation DataLoader 0:  10%|█         | 1/10 [00:00<00:05,  1.75it/s]\u001b[A\n",
      "Validation DataLoader 0:  20%|██        | 2/10 [00:01<00:04,  2.00it/s]\u001b[A\n",
      "Validation DataLoader 0:  30%|███       | 3/10 [00:01<00:03,  1.78it/s]\u001b[A\n",
      "Validation DataLoader 0:  40%|████      | 4/10 [00:02<00:03,  1.83it/s]\u001b[A\n",
      "Validation DataLoader 0:  50%|█████     | 5/10 [00:02<00:02,  1.82it/s]\u001b[A\n",
      "Validation DataLoader 0:  60%|██████    | 6/10 [00:03<00:02,  1.87it/s]\u001b[A\n",
      "Validation DataLoader 0:  70%|███████   | 7/10 [00:03<00:01,  1.86it/s]\u001b[A\n",
      "Validation DataLoader 0:  80%|████████  | 8/10 [00:04<00:01,  1.91it/s]\u001b[A\n",
      "Validation DataLoader 0:  90%|█████████ | 9/10 [00:04<00:00,  1.91it/s]\u001b[A\n",
      "Validation DataLoader 0: 100%|██████████| 10/10 [00:05<00:00,  1.77it/s]\u001b[A\n",
      "Epoch 0: 100%|██████████| 100/100 [01:27<00:00,  1.14it/s, v_num=20, train/reward=-34.2, train/loss=1.13e+3, val/reward=-44.2]"
     ]
    },
    {
     "name": "stderr",
     "output_type": "stream",
     "text": [
      "`Trainer.fit` stopped: `max_epochs=1` reached.\n"
     ]
    },
    {
     "name": "stdout",
     "output_type": "stream",
     "text": [
      "Epoch 0: 100%|██████████| 100/100 [01:40<00:00,  0.99it/s, v_num=20, train/reward=-34.2, train/loss=1.13e+3, val/reward=-44.2]\n"
     ]
    },
    {
     "data": {
      "text/plain": [
       "0"
      ]
     },
     "execution_count": 4,
     "metadata": {},
     "output_type": "execute_result"
    }
   ],
   "source": [
    "os.system(f\"python ../method/gat/train.py --min_num_task {large_problem_setup.min_num_task} --max_num_task {large_problem_setup.max_num_task} --min_num_agent {large_problem_setup.min_num_agent} --max_num_agent {large_problem_setup.max_num_agent} --min_discretize_level {large_problem_setup.min_discretize_level} --max_discretize_level {large_problem_setup.max_discretize_level} --num_node {large_problem_setup.num_node} --mtsp_problem_type 5  --batch_size {large_problem_setup.batch_size} --train_data_size 1000 --val_data_size 100 --max_epochs 1 --seed {large_problem_setup.seed} --disable_wandb\")"
   ]
  },
  {
   "cell_type": "code",
   "execution_count": null,
   "id": "3a999ab6",
   "metadata": {},
   "outputs": [
    {
     "name": "stdout",
     "output_type": "stream",
     "text": [
      "WARNING: Number of agent is set to 6. Igoring min_num_agent and max_num_agent.\n",
      "WARNING: Number of task is set to 6. Igoring min_num_task and max_num_task.\n",
      "WARNING: Discretize level is set to 4. Igoring min_discretize_level and max_discretize_level.\n",
      "{'mtsp_problem_type': 5, 'num_node': 24, 'exact_num_node': False, 'num_task': 6, 'min_num_task': 6, 'max_num_task': 6, 'discretize_level': 4, 'min_discretize_level': 4, 'max_discretize_level': 4, 'num_agent': 6, 'min_num_agent': 6, 'max_num_agent': 6, 'batch_size': 10, 'device_id': 0, 'seed': 0, 'num_exp': 1, 'embed_dim': 128, 'num_encoder_layers': 8, 'num_heads': 4, 'train_data_size': 1000, 'val_data_size': 100, 'learning_rate': 1e-05, 'max_epochs': 1, 'algo': 'reinforce', 'disable_wandb': True}\n"
     ]
    },
    {
     "name": "stderr",
     "output_type": "stream",
     "text": [
      "Seed set to 0\n",
      "/Users/ekwan/graph-attention-replanner/.venv/lib/python3.10/site-packages/torchrl/data/tensor_specs.py:6911: DeprecationWarning: The BoundedTensorSpec has been deprecated and will be removed in v0.8. Please use Bounded instead.\n",
      "  warnings.warn(\n",
      "/Users/ekwan/graph-attention-replanner/.venv/lib/python3.10/site-packages/torchrl/data/tensor_specs.py:6911: DeprecationWarning: The UnboundedDiscreteTensorSpec has been deprecated and will be removed in v0.8. Please use Unbounded instead.\n",
      "  warnings.warn(\n",
      "/Users/ekwan/graph-attention-replanner/.venv/lib/python3.10/site-packages/torchrl/data/tensor_specs.py:6911: DeprecationWarning: The UnboundedContinuousTensorSpec has been deprecated and will be removed in v0.8. Please use Unbounded instead.\n",
      "  warnings.warn(\n",
      "/Users/ekwan/graph-attention-replanner/.venv/lib/python3.10/site-packages/torchrl/data/tensor_specs.py:6911: DeprecationWarning: The CompositeSpec has been deprecated and will be removed in v0.8. Please use Composite instead.\n",
      "  warnings.warn(\n",
      "/Users/ekwan/graph-attention-replanner/.venv/lib/python3.10/site-packages/lightning/pytorch/utilities/parsing.py:209: Attribute 'env' is an instance of `nn.Module` and is already saved during checkpointing. It is recommended to ignore them using `self.save_hyperparameters(ignore=['env'])`.\n",
      "/Users/ekwan/graph-attention-replanner/.venv/lib/python3.10/site-packages/lightning/pytorch/utilities/parsing.py:209: Attribute 'policy' is an instance of `nn.Module` and is already saved during checkpointing. It is recommended to ignore them using `self.save_hyperparameters(ignore=['policy'])`.\n",
      "Using 16bit Automatic Mixed Precision (AMP)\n",
      "/Users/ekwan/graph-attention-replanner/.venv/lib/python3.10/site-packages/torch/amp/grad_scaler.py:136: UserWarning: torch.cuda.amp.GradScaler is enabled, but CUDA is not available.  Disabling.\n",
      "  warnings.warn(\n",
      "Trainer already configured with model summary callbacks: [<class 'lightning.pytorch.callbacks.rich_model_summary.RichModelSummary'>]. Skipping setting a default `ModelSummary` callback.\n",
      "GPU available: True (mps), used: True\n",
      "TPU available: False, using: 0 TPU cores\n",
      "HPU available: False, using: 0 HPUs\n",
      "/Users/ekwan/graph-attention-replanner/.venv/lib/python3.10/site-packages/lightning/pytorch/trainer/connectors/logger_connector/logger_connector.py:76: Starting from v1.9.0, `tensorboardX` has been removed as a dependency of the `lightning.pytorch` package, due to potential conflicts with other packages in the ML ecosystem. For this reason, `logger=True` will use `CSVLogger` as the default logger, unless the `tensorboard` or `tensorboardX` packages are found. Please `pip install lightning[extra]` or one of them to enable TensorBoard support by default\n",
      "val_file not set. Generating dataset instead\n",
      "test_file not set. Generating dataset instead\n",
      "/Users/ekwan/graph-attention-replanner/.venv/lib/python3.10/site-packages/torchrl/data/tensor_specs.py:6911: DeprecationWarning: The CompositeSpec has been deprecated and will be removed in v0.8. Please use Composite instead.\n",
      "  warnings.warn(\n"
     ]
    },
    {
     "name": "stdout",
     "output_type": "stream",
     "text": [
      "┏━━━━┳━━━━━━━━━━━━━━━━━━━━━━━━━━━━━━━━━━━━━━━━┳━━━━━━━━━━━━━━━┳━━━━━━━━┳━━━━━━━┓\n",
      "┃\u001b[1;35m \u001b[0m\u001b[1;35m  \u001b[0m\u001b[1;35m \u001b[0m┃\u001b[1;35m \u001b[0m\u001b[1;35mName                                  \u001b[0m\u001b[1;35m \u001b[0m┃\u001b[1;35m \u001b[0m\u001b[1;35mType         \u001b[0m\u001b[1;35m \u001b[0m┃\u001b[1;35m \u001b[0m\u001b[1;35mParams\u001b[0m\u001b[1;35m \u001b[0m┃\u001b[1;35m \u001b[0m\u001b[1;35mMode \u001b[0m\u001b[1;35m \u001b[0m┃\n",
      "┡━━━━╇━━━━━━━━━━━━━━━━━━━━━━━━━━━━━━━━━━━━━━━━╇━━━━━━━━━━━━━━━╇━━━━━━━━╇━━━━━━━┩\n",
      "│\u001b[2m \u001b[0m\u001b[2m0 \u001b[0m\u001b[2m \u001b[0m│ env                                    │ MTSPEnv_Type5 │      0 │ train │\n",
      "│\u001b[2m \u001b[0m\u001b[2m1 \u001b[0m\u001b[2m \u001b[0m│ policy                                 │ AttentionMod… │  1.7 M │ train │\n",
      "│\u001b[2m \u001b[0m\u001b[2m2 \u001b[0m\u001b[2m \u001b[0m│ policy.encoder                         │ AttentionMod… │  1.6 M │ train │\n",
      "│\u001b[2m \u001b[0m\u001b[2m3 \u001b[0m\u001b[2m \u001b[0m│ policy.encoder.init_embedding          │ MTSPwithTLIn… │    896 │ train │\n",
      "│\u001b[2m \u001b[0m\u001b[2m4 \u001b[0m\u001b[2m \u001b[0m│ policy.encoder.net                     │ GraphAttenti… │  1.6 M │ train │\n",
      "│\u001b[2m \u001b[0m\u001b[2m5 \u001b[0m\u001b[2m \u001b[0m│ policy.decoder                         │ AttentionMod… │  115 K │ train │\n",
      "│\u001b[2m \u001b[0m\u001b[2m6 \u001b[0m\u001b[2m \u001b[0m│ policy.decoder.context_embedding       │ MTSPContext   │ 33.3 K │ train │\n",
      "│\u001b[2m \u001b[0m\u001b[2m7 \u001b[0m\u001b[2m \u001b[0m│ policy.decoder.dynamic_embedding       │ StaticEmbedd… │      0 │ train │\n",
      "│\u001b[2m \u001b[0m\u001b[2m8 \u001b[0m\u001b[2m \u001b[0m│ policy.decoder.pointer                 │ PointerAtten… │ 16.4 K │ train │\n",
      "│\u001b[2m \u001b[0m\u001b[2m9 \u001b[0m\u001b[2m \u001b[0m│ policy.decoder.project_node_embeddings │ Linear        │ 49.2 K │ train │\n",
      "│\u001b[2m \u001b[0m\u001b[2m10\u001b[0m\u001b[2m \u001b[0m│ policy.decoder.project_fixed_context   �� Linear        │ 16.4 K │ train │\n",
      "│\u001b[2m \u001b[0m\u001b[2m11\u001b[0m\u001b[2m \u001b[0m│ baseline                               │ WarmupBaseli… │  1.7 M │ train │\n",
      "│\u001b[2m \u001b[0m\u001b[2m12\u001b[0m\u001b[2m \u001b[0m│ baseline.baseline                      │ RolloutBasel… │  1.7 M │ train │\n",
      "│\u001b[2m \u001b[0m\u001b[2m13\u001b[0m\u001b[2m \u001b[0m│ baseline.baseline.policy               │ AttentionMod… │  1.7 M │ eval  │\n",
      "│\u001b[2m \u001b[0m\u001b[2m14\u001b[0m\u001b[2m \u001b[0m│ baseline.warmup_baseline               │ ExponentialB… │      0 │ train │\n",
      "└────┴────────────────────────────────────────┴───────────────┴────────┴───────┘\n",
      "\u001b[1mTrainable params\u001b[0m: 3.4 M                                                         \n",
      "\u001b[1mNon-trainable params\u001b[0m: 0                                                         \n",
      "\u001b[1mTotal params\u001b[0m: 3.4 M                                                             \n",
      "\u001b[1mTotal estimated model params size (MB)\u001b[0m: 13                                      \n",
      "\u001b[1mModules in train mode\u001b[0m: 164                                                      \n",
      "\u001b[1mModules in eval mode\u001b[0m: 160                                                       \n",
      "Sanity Checking DataLoader 0:   0%|          | 0/2 [00:00<?, ?it/s]"
     ]
    },
    {
     "name": "stderr",
     "output_type": "stream",
     "text": [
      "/Users/ekwan/graph-attention-replanner/.venv/lib/python3.10/site-packages/lightning/pytorch/trainer/connectors/data_connector.py:425: The 'val_dataloader' does not have many workers which may be a bottleneck. Consider increasing the value of the `num_workers` argument` to `num_workers=9` in the `DataLoader` to improve performance.\n",
      "/Users/ekwan/graph-attention-replanner/.venv/lib/python3.10/site-packages/torch/amp/autocast_mode.py:266: UserWarning: User provided device_type of 'cuda', but CUDA is not available. Disabling\n",
      "  warnings.warn(\n"
     ]
    },
    {
     "name": "stdout",
     "output_type": "stream",
     "text": [
      "Epoch 0:   0%|          | 0/100 [00:00<?, ?it/s]                           "
     ]
    },
    {
     "name": "stderr",
     "output_type": "stream",
     "text": [
      "/Users/ekwan/graph-attention-replanner/.venv/lib/python3.10/site-packages/lightning/pytorch/trainer/connectors/data_connector.py:425: The 'train_dataloader' does not have many workers which may be a bottleneck. Consider increasing the value of the `num_workers` argument` to `num_workers=9` in the `DataLoader` to improve performance.\n"
     ]
    },
    {
     "name": "stdout",
     "output_type": "stream",
     "text": [
      "Epoch 0: 100%|██████████| 100/100 [01:31<00:00,  1.09it/s, v_num=6, train/reward=-58.6, train/loss=366.0]\n",
      "Validation: |          | 0/? [00:00<?, ?it/s]\u001b[A\n",
      "Validation:   0%|          | 0/10 [00:00<?, ?it/s]\u001b[A\n",
      "Validation DataLoader 0:   0%|          | 0/10 [00:00<?, ?it/s]\u001b[A\n",
      "Validation DataLoader 0:  10%|█         | 1/10 [00:00<00:05,  1.60it/s]\u001b[A\n",
      "Validation DataLoader 0:  20%|██        | 2/10 [00:01<00:05,  1.40it/s]\u001b[A\n",
      "Validation DataLoader 0:  30%|███       | 3/10 [00:02<00:04,  1.44it/s]\u001b[A\n",
      "Validation DataLoader 0:  40%|████      | 4/10 [00:02<00:04,  1.45it/s]\u001b[A\n",
      "Validation DataLoader 0:  50%|█████     | 5/10 [00:03<00:03,  1.37it/s]\u001b[A\n",
      "Validation DataLoader 0:  60%|██████    | 6/10 [00:04<00:02,  1.38it/s]\u001b[A\n",
      "Validation DataLoader 0:  70%|███████   | 7/10 [00:04<00:02,  1.40it/s]\u001b[A\n",
      "Validation DataLoader 0:  80%|████████  | 8/10 [00:05<00:01,  1.39it/s]\u001b[A\n",
      "Validation DataLoader 0:  90%|█████████ | 9/10 [00:06<00:00,  1.41it/s]\u001b[A\n",
      "Validation DataLoader 0: 100%|██████████| 10/10 [00:06<00:00,  1.43it/s]\u001b[A\n",
      "Epoch 0: 100%|██████████| 100/100 [01:38<00:00,  1.01it/s, v_num=6, train/reward=-58.6, train/loss=366.0, val/reward=-52.9]"
     ]
    },
    {
     "name": "stderr",
     "output_type": "stream",
     "text": [
      "`Trainer.fit` stopped: `max_epochs=1` reached.\n"
     ]
    },
    {
     "name": "stdout",
     "output_type": "stream",
     "text": [
      "Epoch 0: 100%|██████████| 100/100 [01:52<00:00,  0.89it/s, v_num=6, train/reward=-58.6, train/loss=366.0, val/reward=-52.9]\n"
     ]
    },
    {
     "data": {
      "text/plain": [
       "0"
      ]
     },
     "execution_count": 6,
     "metadata": {},
     "output_type": "execute_result"
    }
   ],
   "source": [
    "os.system(f\"python ../method/gat/train.py --num_task {large_problem_setup.max_num_task} --num_agent {large_problem_setup.max_num_agent} --discretize_level {large_problem_setup.max_discretize_level} --num_node {large_problem_setup.max_num_task*large_problem_setup.max_discretize_level} --mtsp_problem_type 5  --batch_size {large_problem_setup.batch_size} --train_data_size 1000 --val_data_size 100 --max_epochs 1 --seed {large_problem_setup.seed} --disable_wandb\")"
   ]
  },
  {
   "cell_type": "code",
   "execution_count": null,
   "id": "4de46712",
   "metadata": {},
   "outputs": [
    {
     "name": "stdout",
     "output_type": "stream",
     "text": [
      "WARNING: Number of agent is set to 3. Igoring min_num_agent and max_num_agent.\n",
      "WARNING: Number of task is set to 3. Igoring min_num_task and max_num_task.\n",
      "WARNING: Discretize level is set to 2. Igoring min_discretize_level and max_discretize_level.\n",
      "{'mtsp_problem_type': 5, 'num_node': 6, 'exact_num_node': False, 'num_task': 3, 'min_num_task': 3, 'max_num_task': 3, 'discretize_level': 2, 'min_discretize_level': 2, 'max_discretize_level': 2, 'num_agent': 3, 'min_num_agent': 3, 'max_num_agent': 3, 'batch_size': 10, 'device_id': 0, 'seed': 0, 'num_exp': 1, 'embed_dim': 128, 'num_encoder_layers': 8, 'num_heads': 4, 'train_data_size': 1000, 'val_data_size': 100, 'learning_rate': 1e-05, 'max_epochs': 1, 'algo': 'reinforce', 'disable_wandb': True}\n"
     ]
    },
    {
     "name": "stderr",
     "output_type": "stream",
     "text": [
      "Seed set to 0\n",
      "/Users/ekwan/graph-attention-replanner/.venv/lib/python3.10/site-packages/torchrl/data/tensor_specs.py:6911: DeprecationWarning: The BoundedTensorSpec has been deprecated and will be removed in v0.8. Please use Bounded instead.\n",
      "  warnings.warn(\n",
      "/Users/ekwan/graph-attention-replanner/.venv/lib/python3.10/site-packages/torchrl/data/tensor_specs.py:6911: DeprecationWarning: The UnboundedDiscreteTensorSpec has been deprecated and will be removed in v0.8. Please use Unbounded instead.\n",
      "  warnings.warn(\n",
      "/Users/ekwan/graph-attention-replanner/.venv/lib/python3.10/site-packages/torchrl/data/tensor_specs.py:6911: DeprecationWarning: The UnboundedContinuousTensorSpec has been deprecated and will be removed in v0.8. Please use Unbounded instead.\n",
      "  warnings.warn(\n",
      "/Users/ekwan/graph-attention-replanner/.venv/lib/python3.10/site-packages/torchrl/data/tensor_specs.py:6911: DeprecationWarning: The CompositeSpec has been deprecated and will be removed in v0.8. Please use Composite instead.\n",
      "  warnings.warn(\n",
      "/Users/ekwan/graph-attention-replanner/.venv/lib/python3.10/site-packages/lightning/pytorch/utilities/parsing.py:209: Attribute 'env' is an instance of `nn.Module` and is already saved during checkpointing. It is recommended to ignore them using `self.save_hyperparameters(ignore=['env'])`.\n",
      "/Users/ekwan/graph-attention-replanner/.venv/lib/python3.10/site-packages/lightning/pytorch/utilities/parsing.py:209: Attribute 'policy' is an instance of `nn.Module` and is already saved during checkpointing. It is recommended to ignore them using `self.save_hyperparameters(ignore=['policy'])`.\n",
      "Using 16bit Automatic Mixed Precision (AMP)\n",
      "/Users/ekwan/graph-attention-replanner/.venv/lib/python3.10/site-packages/torch/amp/grad_scaler.py:136: UserWarning: torch.cuda.amp.GradScaler is enabled, but CUDA is not available.  Disabling.\n",
      "  warnings.warn(\n",
      "Trainer already configured with model summary callbacks: [<class 'lightning.pytorch.callbacks.rich_model_summary.RichModelSummary'>]. Skipping setting a default `ModelSummary` callback.\n",
      "GPU available: True (mps), used: True\n",
      "TPU available: False, using: 0 TPU cores\n",
      "HPU available: False, using: 0 HPUs\n",
      "/Users/ekwan/graph-attention-replanner/.venv/lib/python3.10/site-packages/lightning/pytorch/trainer/connectors/logger_connector/logger_connector.py:76: Starting from v1.9.0, `tensorboardX` has been removed as a dependency of the `lightning.pytorch` package, due to potential conflicts with other packages in the ML ecosystem. For this reason, `logger=True` will use `CSVLogger` as the default logger, unless the `tensorboard` or `tensorboardX` packages are found. Please `pip install lightning[extra]` or one of them to enable TensorBoard support by default\n",
      "val_file not set. Generating dataset instead\n",
      "test_file not set. Generating dataset instead\n",
      "/Users/ekwan/graph-attention-replanner/.venv/lib/python3.10/site-packages/torchrl/data/tensor_specs.py:6911: DeprecationWarning: The CompositeSpec has been deprecated and will be removed in v0.8. Please use Composite instead.\n",
      "  warnings.warn(\n"
     ]
    },
    {
     "name": "stdout",
     "output_type": "stream",
     "text": [
      "┏━━━━┳━━━━━━━━━━━━━━━━━━━━━━━━━━━━━━━━━━━━━━━━┳━━━━━━━━━━━━━━━┳━━━━━━━━┳━━━━━━━┓\n",
      "┃\u001b[1;35m \u001b[0m\u001b[1;35m  \u001b[0m\u001b[1;35m \u001b[0m┃\u001b[1;35m \u001b[0m\u001b[1;35mName                                  \u001b[0m\u001b[1;35m \u001b[0m┃\u001b[1;35m \u001b[0m\u001b[1;35mType         \u001b[0m\u001b[1;35m \u001b[0m┃\u001b[1;35m \u001b[0m\u001b[1;35mParams\u001b[0m\u001b[1;35m \u001b[0m┃\u001b[1;35m \u001b[0m\u001b[1;35mMode \u001b[0m\u001b[1;35m \u001b[0m┃\n",
      "┡━━━━╇━━━━━━━━━━━━━━━━━━━━━━━━━━━━━━━━━━━━━━━━╇━━━━━━━━━━━━━━━╇━━━━━━━━╇━━━━━━━┩\n",
      "│\u001b[2m \u001b[0m\u001b[2m0 \u001b[0m\u001b[2m \u001b[0m│ env                                    │ MTSPEnv_Type5 │      0 │ train │\n",
      "│\u001b[2m \u001b[0m\u001b[2m1 \u001b[0m\u001b[2m \u001b[0m│ policy                                 │ AttentionMod… │  1.7 M │ train │\n",
      "│\u001b[2m \u001b[0m\u001b[2m2 \u001b[0m\u001b[2m \u001b[0m│ policy.encoder                         │ AttentionMod… │  1.6 M │ train │\n",
      "│\u001b[2m \u001b[0m\u001b[2m3 \u001b[0m\u001b[2m \u001b[0m│ policy.encoder.init_embedding          │ MTSPwithTLIn… │    896 │ train │\n",
      "│\u001b[2m \u001b[0m\u001b[2m4 \u001b[0m\u001b[2m \u001b[0m│ policy.encoder.net                     │ GraphAttenti… │  1.6 M │ train │\n",
      "│\u001b[2m \u001b[0m\u001b[2m5 \u001b[0m\u001b[2m \u001b[0m│ policy.decoder                         │ AttentionMod… │  115 K │ train │\n",
      "│\u001b[2m \u001b[0m\u001b[2m6 \u001b[0m\u001b[2m \u001b[0m│ policy.decoder.context_embedding       │ MTSPContext   │ 33.3 K │ train │\n",
      "│\u001b[2m \u001b[0m\u001b[2m7 \u001b[0m\u001b[2m \u001b[0m│ policy.decoder.dynamic_embedding       │ StaticEmbedd… │      0 │ train │\n",
      "│\u001b[2m \u001b[0m\u001b[2m8 \u001b[0m\u001b[2m \u001b[0m│ policy.decoder.pointer                 │ PointerAtten… │ 16.4 K │ train │\n",
      "│\u001b[2m \u001b[0m\u001b[2m9 \u001b[0m\u001b[2m \u001b[0m│ policy.decoder.project_node_embeddings │ Linear        │ 49.2 K │ train │\n",
      "│\u001b[2m \u001b[0m\u001b[2m10\u001b[0m\u001b[2m \u001b[0m│ policy.decoder.project_fixed_context   �� Linear        │ 16.4 K │ train │\n",
      "│\u001b[2m \u001b[0m\u001b[2m11\u001b[0m\u001b[2m \u001b[0m│ baseline                               │ WarmupBaseli… │  1.7 M │ train │\n",
      "│\u001b[2m \u001b[0m\u001b[2m12\u001b[0m\u001b[2m \u001b[0m│ baseline.baseline                      │ RolloutBasel… │  1.7 M │ train │\n",
      "│\u001b[2m \u001b[0m\u001b[2m13\u001b[0m\u001b[2m \u001b[0m│ baseline.baseline.policy               │ AttentionMod… │  1.7 M │ eval  │\n",
      "│\u001b[2m \u001b[0m\u001b[2m14\u001b[0m\u001b[2m \u001b[0m│ baseline.warmup_baseline               │ ExponentialB… │      0 │ train │\n",
      "└────┴────────────────────────────────────────┴───────────────┴────────┴───────┘\n",
      "\u001b[1mTrainable params\u001b[0m: 3.4 M                                                         \n",
      "\u001b[1mNon-trainable params\u001b[0m: 0                                                         \n",
      "\u001b[1mTotal params\u001b[0m: 3.4 M                                                             \n",
      "\u001b[1mTotal estimated model params size (MB)\u001b[0m: 13                                      \n",
      "\u001b[1mModules in train mode\u001b[0m: 164                                                      \n",
      "\u001b[1mModules in eval mode\u001b[0m: 160                                                       \n",
      "Sanity Checking DataLoader 0:   0%|          | 0/2 [00:00<?, ?it/s]"
     ]
    },
    {
     "name": "stderr",
     "output_type": "stream",
     "text": [
      "/Users/ekwan/graph-attention-replanner/.venv/lib/python3.10/site-packages/lightning/pytorch/trainer/connectors/data_connector.py:425: The 'val_dataloader' does not have many workers which may be a bottleneck. Consider increasing the value of the `num_workers` argument` to `num_workers=9` in the `DataLoader` to improve performance.\n",
      "/Users/ekwan/graph-attention-replanner/.venv/lib/python3.10/site-packages/torch/amp/autocast_mode.py:266: UserWarning: User provided device_type of 'cuda', but CUDA is not available. Disabling\n",
      "  warnings.warn(\n"
     ]
    },
    {
     "name": "stdout",
     "output_type": "stream",
     "text": [
      "Epoch 0:   0%|          | 0/100 [00:00<?, ?it/s]                           "
     ]
    },
    {
     "name": "stderr",
     "output_type": "stream",
     "text": [
      "/Users/ekwan/graph-attention-replanner/.venv/lib/python3.10/site-packages/lightning/pytorch/trainer/connectors/data_connector.py:425: The 'train_dataloader' does not have many workers which may be a bottleneck. Consider increasing the value of the `num_workers` argument` to `num_workers=9` in the `DataLoader` to improve performance.\n"
     ]
    },
    {
     "name": "stdout",
     "output_type": "stream",
     "text": [
      "Epoch 0: 100%|██████████| 100/100 [00:38<00:00,  2.62it/s, v_num=7, train/reward=-31.1, train/loss=-5.33]\n",
      "Validation: |          | 0/? [00:00<?, ?it/s]\u001b[A\n",
      "Validation:   0%|          | 0/10 [00:00<?, ?it/s]\u001b[A\n",
      "Validation DataLoader 0:   0%|          | 0/10 [00:00<?, ?it/s]\u001b[A\n",
      "Validation DataLoader 0:  10%|█         | 1/10 [00:00<00:02,  3.99it/s]\u001b[A\n",
      "Validation DataLoader 0:  20%|██        | 2/10 [00:00<00:02,  3.87it/s]\u001b[A\n",
      "Validation DataLoader 0:  30%|███       | 3/10 [00:00<00:01,  4.10it/s]\u001b[A\n",
      "Validation DataLoader 0:  40%|████      | 4/10 [00:00<00:01,  4.26it/s]\u001b[A\n",
      "Validation DataLoader 0:  50%|█████     | 5/10 [00:01<00:01,  4.35it/s]\u001b[A\n",
      "Validation DataLoader 0:  60%|██████    | 6/10 [00:01<00:00,  4.26it/s]\u001b[A\n",
      "Validation DataLoader 0:  70%|███████   | 7/10 [00:01<00:00,  4.17it/s]\u001b[A\n",
      "Validation DataLoader 0:  80%|████████  | 8/10 [00:01<00:00,  4.17it/s]\u001b[A\n",
      "Validation DataLoader 0:  90%|█████████ | 9/10 [00:02<00:00,  4.18it/s]\u001b[A\n",
      "Validation DataLoader 0: 100%|██████████| 10/10 [00:02<00:00,  4.18it/s]\u001b[A\n",
      "Epoch 0: 100%|██████████| 100/100 [00:40<00:00,  2.46it/s, v_num=7, train/reward=-31.1, train/loss=-5.33, val/reward=-25.9]"
     ]
    },
    {
     "name": "stderr",
     "output_type": "stream",
     "text": [
      "`Trainer.fit` stopped: `max_epochs=1` reached.\n"
     ]
    },
    {
     "name": "stdout",
     "output_type": "stream",
     "text": [
      "Epoch 0: 100%|██████████| 100/100 [00:45<00:00,  2.20it/s, v_num=7, train/reward=-31.1, train/loss=-5.33, val/reward=-25.9]\n"
     ]
    },
    {
     "data": {
      "text/plain": [
       "0"
      ]
     },
     "execution_count": 8,
     "metadata": {},
     "output_type": "execute_result"
    }
   ],
   "source": [
    "os.system(f\"python ../method/gat/train.py --num_task {small_problem_setup.num_task} --num_agent {small_problem_setup.num_agent} --discretize_level {small_problem_setup.discretize_level} --num_node {small_problem_setup.num_node} --mtsp_problem_type 5  --batch_size {large_problem_setup.batch_size} --train_data_size 1000 --val_data_size 100 --max_epochs 1 --seed {small_problem_setup.seed} --disable_wandb\")"
   ]
  },
  {
   "cell_type": "markdown",
   "id": "9b7a3b71",
   "metadata": {},
   "source": [
    "# Generate Data\n",
    "Generate 2 set of data\n",
    "- 10 instance of CMRPs with 6 tasks, 6 agents, and 4 discretization levels.\n",
    "- 10 instance of CMRPs with 3 tasks, 3 agents, and 2 discretization levels.\n",
    "\n",
    "After this section, you should have the following code artifacts in your cache (Default location of the cache is at `../../cache`)\n",
    "<pre>\n",
    "├── data\n",
    "│   └── general\n",
    "│       ├── problem5_node24_task6to6_dislevel4to4_agent6to6_seed0_bs10.npz\n",
    "│       └── problem5_node6_task3to3_dislevel2to2_agent3to3_seed0_bs10.npz\n",
    "</pre>"
   ]
  },
  {
   "cell_type": "code",
   "execution_count": null,
   "id": "a9db4a31",
   "metadata": {},
   "outputs": [
    {
     "name": "stdout",
     "output_type": "stream",
     "text": [
      "WARNING: Number of agent is set to 6. Igoring min_num_agent and max_num_agent.\n",
      "WARNING: Number of task is set to 6. Igoring min_num_task and max_num_task.\n",
      "WARNING: Discretize level is set to 4. Igoring min_discretize_level and max_discretize_level.\n"
     ]
    },
    {
     "name": "stderr",
     "output_type": "stream",
     "text": [
      "/Users/ekwan/graph-attention-replanner/.venv/lib/python3.10/site-packages/torchrl/data/tensor_specs.py:6911: DeprecationWarning: The BoundedTensorSpec has been deprecated and will be removed in v0.8. Please use Bounded instead.\n",
      "  warnings.warn(\n",
      "/Users/ekwan/graph-attention-replanner/.venv/lib/python3.10/site-packages/torchrl/data/tensor_specs.py:6911: DeprecationWarning: The UnboundedDiscreteTensorSpec has been deprecated and will be removed in v0.8. Please use Unbounded instead.\n",
      "  warnings.warn(\n",
      "/Users/ekwan/graph-attention-replanner/.venv/lib/python3.10/site-packages/torchrl/data/tensor_specs.py:6911: DeprecationWarning: The UnboundedContinuousTensorSpec has been deprecated and will be removed in v0.8. Please use Unbounded instead.\n",
      "  warnings.warn(\n",
      "/Users/ekwan/graph-attention-replanner/.venv/lib/python3.10/site-packages/torchrl/data/tensor_specs.py:6911: DeprecationWarning: The CompositeSpec has been deprecated and will be removed in v0.8. Please use Composite instead.\n",
      "  warnings.warn(\n"
     ]
    },
    {
     "data": {
      "text/plain": [
       "0"
      ]
     },
     "execution_count": 9,
     "metadata": {},
     "output_type": "execute_result"
    }
   ],
   "source": [
    "os.system(f\"python ../run/gen_data.py --num_task {large_problem_setup.max_num_task} --num_agent {large_problem_setup.max_num_agent} --discretize_level {large_problem_setup.max_discretize_level} --num_node {large_problem_setup.num_node} --mtsp_problem_type 5  --batch_size {large_problem_setup.batch_size} --seed {large_problem_setup.seed}\")"
   ]
  },
  {
   "cell_type": "code",
   "execution_count": null,
   "id": "5fa0484e",
   "metadata": {},
   "outputs": [
    {
     "name": "stdout",
     "output_type": "stream",
     "text": [
      "WARNING: Number of agent is set to 3. Igoring min_num_agent and max_num_agent.\n",
      "WARNING: Number of task is set to 3. Igoring min_num_task and max_num_task.\n",
      "WARNING: Discretize level is set to 2. Igoring min_discretize_level and max_discretize_level.\n"
     ]
    },
    {
     "name": "stderr",
     "output_type": "stream",
     "text": [
      "/Users/ekwan/graph-attention-replanner/.venv/lib/python3.10/site-packages/torchrl/data/tensor_specs.py:6911: DeprecationWarning: The BoundedTensorSpec has been deprecated and will be removed in v0.8. Please use Bounded instead.\n",
      "  warnings.warn(\n",
      "/Users/ekwan/graph-attention-replanner/.venv/lib/python3.10/site-packages/torchrl/data/tensor_specs.py:6911: DeprecationWarning: The UnboundedDiscreteTensorSpec has been deprecated and will be removed in v0.8. Please use Unbounded instead.\n",
      "  warnings.warn(\n",
      "/Users/ekwan/graph-attention-replanner/.venv/lib/python3.10/site-packages/torchrl/data/tensor_specs.py:6911: DeprecationWarning: The UnboundedContinuousTensorSpec has been deprecated and will be removed in v0.8. Please use Unbounded instead.\n",
      "  warnings.warn(\n",
      "/Users/ekwan/graph-attention-replanner/.venv/lib/python3.10/site-packages/torchrl/data/tensor_specs.py:6911: DeprecationWarning: The CompositeSpec has been deprecated and will be removed in v0.8. Please use Composite instead.\n",
      "  warnings.warn(\n"
     ]
    },
    {
     "data": {
      "text/plain": [
       "0"
      ]
     },
     "execution_count": 10,
     "metadata": {},
     "output_type": "execute_result"
    }
   ],
   "source": [
    "os.system(f\"python ../run/gen_data.py --num_task {small_problem_setup.num_task} --num_agent {small_problem_setup.num_agent} --discretize_level {small_problem_setup.discretize_level} --num_node {small_problem_setup.num_node} --mtsp_problem_type 5  --batch_size {large_problem_setup.batch_size} --seed {small_problem_setup.seed}\")"
   ]
  },
  {
   "cell_type": "markdown",
   "id": "e2a382e4",
   "metadata": {},
   "source": [
    "# Evaluation\n",
    "We will conduct 4 evaluations, namely the followings:\n",
    "<pre>\n",
    "+---------------+-------------------+---------------------+---------------------+\n",
    "|               |                   |                     |                     |\n",
    "+---------------+-------------------+---------------------+---------------------+\n",
    "|               | General Model     | Specific Model (Small) | Specific Model (Large) |\n",
    "| Large Dataset | v                 |                     | v                   |\n",
    "| Small Dataset | v                 | v                   |                     |\n",
    "+---------------+-------------------+---------------------+---------------------+\n",
    "</pre>\n",
    "After this section, you should have the following code artifacts in your cache (Default location of the cache is at `../../cache`)\n",
    "<pre>\n",
    "└── results\n",
    "    ├── gat\n",
    "    │   ├── problem5_node24_task6to6_dislevel4to4_agent6to6_bs10_exp1_dataseed0_methodseed0.csv\n",
    "    │   └── problem5_node6_task3to3_dislevel2to2_agent3to3_bs10_exp1_dataseed0_methodseed0.csv\n",
    "    └── gat_gen\n",
    "        ├── problem5_node24_task6to6_dislevel4to4_agent6to6_bs10_exp1_dataseed0_methodseed0.csv\n",
    "        └── problem5_node6_task3to3_dislevel2to2_agent3to3_bs10_exp1_dataseed0_methodseed0.csv\n",
    "\n",
    "</pre>"
   ]
  },
  {
   "cell_type": "markdown",
   "id": "e07d0b4d",
   "metadata": {},
   "source": [
    "General Model on Large Dataset"
   ]
  },
  {
   "cell_type": "code",
   "execution_count": 10,
   "id": "90062fa1",
   "metadata": {},
   "outputs": [
    {
     "name": "stdout",
     "output_type": "stream",
     "text": [
      "WARNING: Number of agent is set to 6. Igoring min_num_agent and max_num_agent.\n",
      "WARNING: Number of task is set to 6. Igoring min_num_task and max_num_task.\n",
      "WARNING: Discretize level is set to 4. Igoring min_discretize_level and max_discretize_level.\n",
      "WARNING: Multiple model directories found for prefix: /Users/ekwan/graph-attention-replanner/cache/checkpoints/algo_reinforce/problem5_node24_task1to6_dislevel1to4_agent1to6_seed0*, Selecting the first one.\n",
      "['/Users/ekwan/graph-attention-replanner/cache/checkpoints/algo_reinforce/problem5_node24_task1to6_dislevel1to4_agent1to6_seed0_20250805141817', '/Users/ekwan/graph-attention-replanner/cache/checkpoints/algo_reinforce/problem5_node24_task1to6_dislevel1to4_agent1to6_seed0_20250805143728', '/Users/ekwan/graph-attention-replanner/cache/checkpoints/algo_reinforce/problem5_node24_task1to6_dislevel1to4_agent1to6_seed0_20250804163332', '/Users/ekwan/graph-attention-replanner/cache/checkpoints/algo_reinforce/problem5_node24_task1to6_dislevel1to4_agent1to6_seed0_20250806213617', '/Users/ekwan/graph-attention-replanner/cache/checkpoints/algo_reinforce/problem5_node24_task1to6_dislevel1to4_agent1to6_seed0_20241230232757']\n",
      "Evaluating model from /Users/ekwan/graph-attention-replanner/cache/checkpoints/algo_reinforce/problem5_node24_task1to6_dislevel1to4_agent1to6_seed0_20250805141817/epoch_epoch=000.ckpt using data from /Users/ekwan/graph-attention-replanner/cache/data/general/problem5_node24_task6to6_dislevel4to4_agent6to6_seed0_bs10.npz and saving results at /Users/ekwan/graph-attention-replanner/cache/results/gat_gen/problem5_node24_task6to6_dislevel4to4_agent6to6_bs10_exp1_dataseed0_methodseed0.csv ...\n"
     ]
    },
    {
     "name": "stderr",
     "output_type": "stream",
     "text": [
      "/Users/ekwan/graph-attention-replanner/.venv/lib/python3.10/site-packages/lightning/pytorch/utilities/parsing.py:209: Attribute 'env' is an instance of `nn.Module` and is already saved during checkpointing. It is recommended to ignore them using `self.save_hyperparameters(ignore=['env'])`.\n",
      "/Users/ekwan/graph-attention-replanner/.venv/lib/python3.10/site-packages/lightning/pytorch/utilities/parsing.py:209: Attribute 'policy' is an instance of `nn.Module` and is already saved during checkpointing. It is recommended to ignore them using `self.save_hyperparameters(ignore=['policy'])`.\n",
      "/Users/ekwan/graph-attention-replanner/.venv/lib/python3.10/site-packages/lightning/pytorch/core/saving.py:195: Found keys that are not in the model state dict but in the checkpoint: ['baseline.baseline.policy.encoder.init_embedding.init_embed.weight', 'baseline.baseline.policy.encoder.init_embedding.init_embed.bias', 'baseline.baseline.policy.encoder.init_embedding.init_embed_depot.weight', 'baseline.baseline.policy.encoder.init_embedding.init_embed_depot.bias', 'baseline.baseline.policy.encoder.net.layers.0.0.module.Wqkv.weight', 'baseline.baseline.policy.encoder.net.layers.0.0.module.Wqkv.bias', 'baseline.baseline.policy.encoder.net.layers.0.0.module.out_proj.weight', 'baseline.baseline.policy.encoder.net.layers.0.0.module.out_proj.bias', 'baseline.baseline.policy.encoder.net.layers.0.1.normalizer.weight', 'baseline.baseline.policy.encoder.net.layers.0.1.normalizer.bias', 'baseline.baseline.policy.encoder.net.layers.0.1.normalizer.running_mean', 'baseline.baseline.policy.encoder.net.layers.0.1.normalizer.running_var', 'baseline.baseline.policy.encoder.net.layers.0.1.normalizer.num_batches_tracked', 'baseline.baseline.policy.encoder.net.layers.0.2.module.lins.0.weight', 'baseline.baseline.policy.encoder.net.layers.0.2.module.lins.0.bias', 'baseline.baseline.policy.encoder.net.layers.0.2.module.lins.1.weight', 'baseline.baseline.policy.encoder.net.layers.0.2.module.lins.1.bias', 'baseline.baseline.policy.encoder.net.layers.0.3.normalizer.weight', 'baseline.baseline.policy.encoder.net.layers.0.3.normalizer.bias', 'baseline.baseline.policy.encoder.net.layers.0.3.normalizer.running_mean', 'baseline.baseline.policy.encoder.net.layers.0.3.normalizer.running_var', 'baseline.baseline.policy.encoder.net.layers.0.3.normalizer.num_batches_tracked', 'baseline.baseline.policy.encoder.net.layers.1.0.module.Wqkv.weight', 'baseline.baseline.policy.encoder.net.layers.1.0.module.Wqkv.bias', 'baseline.baseline.policy.encoder.net.layers.1.0.module.out_proj.weight', 'baseline.baseline.policy.encoder.net.layers.1.0.module.out_proj.bias', 'baseline.baseline.policy.encoder.net.layers.1.1.normalizer.weight', 'baseline.baseline.policy.encoder.net.layers.1.1.normalizer.bias', 'baseline.baseline.policy.encoder.net.layers.1.1.normalizer.running_mean', 'baseline.baseline.policy.encoder.net.layers.1.1.normalizer.running_var', 'baseline.baseline.policy.encoder.net.layers.1.1.normalizer.num_batches_tracked', 'baseline.baseline.policy.encoder.net.layers.1.2.module.lins.0.weight', 'baseline.baseline.policy.encoder.net.layers.1.2.module.lins.0.bias', 'baseline.baseline.policy.encoder.net.layers.1.2.module.lins.1.weight', 'baseline.baseline.policy.encoder.net.layers.1.2.module.lins.1.bias', 'baseline.baseline.policy.encoder.net.layers.1.3.normalizer.weight', 'baseline.baseline.policy.encoder.net.layers.1.3.normalizer.bias', 'baseline.baseline.policy.encoder.net.layers.1.3.normalizer.running_mean', 'baseline.baseline.policy.encoder.net.layers.1.3.normalizer.running_var', 'baseline.baseline.policy.encoder.net.layers.1.3.normalizer.num_batches_tracked', 'baseline.baseline.policy.encoder.net.layers.2.0.module.Wqkv.weight', 'baseline.baseline.policy.encoder.net.layers.2.0.module.Wqkv.bias', 'baseline.baseline.policy.encoder.net.layers.2.0.module.out_proj.weight', 'baseline.baseline.policy.encoder.net.layers.2.0.module.out_proj.bias', 'baseline.baseline.policy.encoder.net.layers.2.1.normalizer.weight', 'baseline.baseline.policy.encoder.net.layers.2.1.normalizer.bias', 'baseline.baseline.policy.encoder.net.layers.2.1.normalizer.running_mean', 'baseline.baseline.policy.encoder.net.layers.2.1.normalizer.running_var', 'baseline.baseline.policy.encoder.net.layers.2.1.normalizer.num_batches_tracked', 'baseline.baseline.policy.encoder.net.layers.2.2.module.lins.0.weight', 'baseline.baseline.policy.encoder.net.layers.2.2.module.lins.0.bias', 'baseline.baseline.policy.encoder.net.layers.2.2.module.lins.1.weight', 'baseline.baseline.policy.encoder.net.layers.2.2.module.lins.1.bias', 'baseline.baseline.policy.encoder.net.layers.2.3.normalizer.weight', 'baseline.baseline.policy.encoder.net.layers.2.3.normalizer.bias', 'baseline.baseline.policy.encoder.net.layers.2.3.normalizer.running_mean', 'baseline.baseline.policy.encoder.net.layers.2.3.normalizer.running_var', 'baseline.baseline.policy.encoder.net.layers.2.3.normalizer.num_batches_tracked', 'baseline.baseline.policy.encoder.net.layers.3.0.module.Wqkv.weight', 'baseline.baseline.policy.encoder.net.layers.3.0.module.Wqkv.bias', 'baseline.baseline.policy.encoder.net.layers.3.0.module.out_proj.weight', 'baseline.baseline.policy.encoder.net.layers.3.0.module.out_proj.bias', 'baseline.baseline.policy.encoder.net.layers.3.1.normalizer.weight', 'baseline.baseline.policy.encoder.net.layers.3.1.normalizer.bias', 'baseline.baseline.policy.encoder.net.layers.3.1.normalizer.running_mean', 'baseline.baseline.policy.encoder.net.layers.3.1.normalizer.running_var', 'baseline.baseline.policy.encoder.net.layers.3.1.normalizer.num_batches_tracked', 'baseline.baseline.policy.encoder.net.layers.3.2.module.lins.0.weight', 'baseline.baseline.policy.encoder.net.layers.3.2.module.lins.0.bias', 'baseline.baseline.policy.encoder.net.layers.3.2.module.lins.1.weight', 'baseline.baseline.policy.encoder.net.layers.3.2.module.lins.1.bias', 'baseline.baseline.policy.encoder.net.layers.3.3.normalizer.weight', 'baseline.baseline.policy.encoder.net.layers.3.3.normalizer.bias', 'baseline.baseline.policy.encoder.net.layers.3.3.normalizer.running_mean', 'baseline.baseline.policy.encoder.net.layers.3.3.normalizer.running_var', 'baseline.baseline.policy.encoder.net.layers.3.3.normalizer.num_batches_tracked', 'baseline.baseline.policy.encoder.net.layers.4.0.module.Wqkv.weight', 'baseline.baseline.policy.encoder.net.layers.4.0.module.Wqkv.bias', 'baseline.baseline.policy.encoder.net.layers.4.0.module.out_proj.weight', 'baseline.baseline.policy.encoder.net.layers.4.0.module.out_proj.bias', 'baseline.baseline.policy.encoder.net.layers.4.1.normalizer.weight', 'baseline.baseline.policy.encoder.net.layers.4.1.normalizer.bias', 'baseline.baseline.policy.encoder.net.layers.4.1.normalizer.running_mean', 'baseline.baseline.policy.encoder.net.layers.4.1.normalizer.running_var', 'baseline.baseline.policy.encoder.net.layers.4.1.normalizer.num_batches_tracked', 'baseline.baseline.policy.encoder.net.layers.4.2.module.lins.0.weight', 'baseline.baseline.policy.encoder.net.layers.4.2.module.lins.0.bias', 'baseline.baseline.policy.encoder.net.layers.4.2.module.lins.1.weight', 'baseline.baseline.policy.encoder.net.layers.4.2.module.lins.1.bias', 'baseline.baseline.policy.encoder.net.layers.4.3.normalizer.weight', 'baseline.baseline.policy.encoder.net.layers.4.3.normalizer.bias', 'baseline.baseline.policy.encoder.net.layers.4.3.normalizer.running_mean', 'baseline.baseline.policy.encoder.net.layers.4.3.normalizer.running_var', 'baseline.baseline.policy.encoder.net.layers.4.3.normalizer.num_batches_tracked', 'baseline.baseline.policy.encoder.net.layers.5.0.module.Wqkv.weight', 'baseline.baseline.policy.encoder.net.layers.5.0.module.Wqkv.bias', 'baseline.baseline.policy.encoder.net.layers.5.0.module.out_proj.weight', 'baseline.baseline.policy.encoder.net.layers.5.0.module.out_proj.bias', 'baseline.baseline.policy.encoder.net.layers.5.1.normalizer.weight', 'baseline.baseline.policy.encoder.net.layers.5.1.normalizer.bias', 'baseline.baseline.policy.encoder.net.layers.5.1.normalizer.running_mean', 'baseline.baseline.policy.encoder.net.layers.5.1.normalizer.running_var', 'baseline.baseline.policy.encoder.net.layers.5.1.normalizer.num_batches_tracked', 'baseline.baseline.policy.encoder.net.layers.5.2.module.lins.0.weight', 'baseline.baseline.policy.encoder.net.layers.5.2.module.lins.0.bias', 'baseline.baseline.policy.encoder.net.layers.5.2.module.lins.1.weight', 'baseline.baseline.policy.encoder.net.layers.5.2.module.lins.1.bias', 'baseline.baseline.policy.encoder.net.layers.5.3.normalizer.weight', 'baseline.baseline.policy.encoder.net.layers.5.3.normalizer.bias', 'baseline.baseline.policy.encoder.net.layers.5.3.normalizer.running_mean', 'baseline.baseline.policy.encoder.net.layers.5.3.normalizer.running_var', 'baseline.baseline.policy.encoder.net.layers.5.3.normalizer.num_batches_tracked', 'baseline.baseline.policy.encoder.net.layers.6.0.module.Wqkv.weight', 'baseline.baseline.policy.encoder.net.layers.6.0.module.Wqkv.bias', 'baseline.baseline.policy.encoder.net.layers.6.0.module.out_proj.weight', 'baseline.baseline.policy.encoder.net.layers.6.0.module.out_proj.bias', 'baseline.baseline.policy.encoder.net.layers.6.1.normalizer.weight', 'baseline.baseline.policy.encoder.net.layers.6.1.normalizer.bias', 'baseline.baseline.policy.encoder.net.layers.6.1.normalizer.running_mean', 'baseline.baseline.policy.encoder.net.layers.6.1.normalizer.running_var', 'baseline.baseline.policy.encoder.net.layers.6.1.normalizer.num_batches_tracked', 'baseline.baseline.policy.encoder.net.layers.6.2.module.lins.0.weight', 'baseline.baseline.policy.encoder.net.layers.6.2.module.lins.0.bias', 'baseline.baseline.policy.encoder.net.layers.6.2.module.lins.1.weight', 'baseline.baseline.policy.encoder.net.layers.6.2.module.lins.1.bias', 'baseline.baseline.policy.encoder.net.layers.6.3.normalizer.weight', 'baseline.baseline.policy.encoder.net.layers.6.3.normalizer.bias', 'baseline.baseline.policy.encoder.net.layers.6.3.normalizer.running_mean', 'baseline.baseline.policy.encoder.net.layers.6.3.normalizer.running_var', 'baseline.baseline.policy.encoder.net.layers.6.3.normalizer.num_batches_tracked', 'baseline.baseline.policy.encoder.net.layers.7.0.module.Wqkv.weight', 'baseline.baseline.policy.encoder.net.layers.7.0.module.Wqkv.bias', 'baseline.baseline.policy.encoder.net.layers.7.0.module.out_proj.weight', 'baseline.baseline.policy.encoder.net.layers.7.0.module.out_proj.bias', 'baseline.baseline.policy.encoder.net.layers.7.1.normalizer.weight', 'baseline.baseline.policy.encoder.net.layers.7.1.normalizer.bias', 'baseline.baseline.policy.encoder.net.layers.7.1.normalizer.running_mean', 'baseline.baseline.policy.encoder.net.layers.7.1.normalizer.running_var', 'baseline.baseline.policy.encoder.net.layers.7.1.normalizer.num_batches_tracked', 'baseline.baseline.policy.encoder.net.layers.7.2.module.lins.0.weight', 'baseline.baseline.policy.encoder.net.layers.7.2.module.lins.0.bias', 'baseline.baseline.policy.encoder.net.layers.7.2.module.lins.1.weight', 'baseline.baseline.policy.encoder.net.layers.7.2.module.lins.1.bias', 'baseline.baseline.policy.encoder.net.layers.7.3.normalizer.weight', 'baseline.baseline.policy.encoder.net.layers.7.3.normalizer.bias', 'baseline.baseline.policy.encoder.net.layers.7.3.normalizer.running_mean', 'baseline.baseline.policy.encoder.net.layers.7.3.normalizer.running_var', 'baseline.baseline.policy.encoder.net.layers.7.3.normalizer.num_batches_tracked', 'baseline.baseline.policy.decoder.context_embedding.project_context.weight', 'baseline.baseline.policy.decoder.context_embedding.proj_dynamic_feats.weight', 'baseline.baseline.policy.decoder.pointer.project_out.weight', 'baseline.baseline.policy.decoder.project_node_embeddings.weight', 'baseline.baseline.policy.decoder.project_fixed_context.weight']\n",
      "/Users/ekwan/graph-attention-replanner/.venv/lib/python3.10/site-packages/torchrl/data/tensor_specs.py:6911: DeprecationWarning: The BoundedTensorSpec has been deprecated and will be removed in v0.8. Please use Bounded instead.\n",
      "  warnings.warn(\n",
      "/Users/ekwan/graph-attention-replanner/.venv/lib/python3.10/site-packages/torchrl/data/tensor_specs.py:6911: DeprecationWarning: The UnboundedDiscreteTensorSpec has been deprecated and will be removed in v0.8. Please use Unbounded instead.\n",
      "  warnings.warn(\n",
      "/Users/ekwan/graph-attention-replanner/.venv/lib/python3.10/site-packages/torchrl/data/tensor_specs.py:6911: DeprecationWarning: The UnboundedContinuousTensorSpec has been deprecated and will be removed in v0.8. Please use Unbounded instead.\n",
      "  warnings.warn(\n",
      "/Users/ekwan/graph-attention-replanner/.venv/lib/python3.10/site-packages/torchrl/data/tensor_specs.py:6911: DeprecationWarning: The CompositeSpec has been deprecated and will be removed in v0.8. Please use Composite instead.\n",
      "  warnings.warn(\n"
     ]
    },
    {
     "name": "stdout",
     "output_type": "stream",
     "text": [
      "------------Loaded Dataset from /Users/ekwan/graph-attention-replanner/cache/data/general/problem5_node24_task6to6_dislevel4to4_agent6to6_seed0_bs10.npz-------------\n",
      "\n",
      "\n",
      "\n",
      "------------------------------------------\n",
      "Avg Mission Time(s): 53.92906188964844 ± 19.743438720703125. \n",
      "Standard Error: 6.2434234619140625\n",
      "Avg Wall Time(s): 0.004740095138549805\n",
      "------------------------------------------\n",
      "\n",
      "\n",
      "\n"
     ]
    },
    {
     "data": {
      "text/plain": [
       "0"
      ]
     },
     "execution_count": 10,
     "metadata": {},
     "output_type": "execute_result"
    }
   ],
   "source": [
    "os.system(f\"python ../method/gat/eval_gat_generalize.py --num_task {large_problem_setup.max_num_task} --num_agent {large_problem_setup.max_num_agent} --discretize_level {large_problem_setup.max_discretize_level} --num_node {large_problem_setup.num_node} --mtsp_problem_type 5 --method_mtsp_problem_type 5 --batch_size {large_problem_setup.batch_size} --num_exp {large_problem_setup.batch_size} --seed {large_problem_setup.seed}\")"
   ]
  },
  {
   "cell_type": "markdown",
   "id": "95d67dd2",
   "metadata": {},
   "source": [
    "General Model on Small Dataset"
   ]
  },
  {
   "cell_type": "code",
   "execution_count": 9,
   "id": "d888cdf9",
   "metadata": {},
   "outputs": [
    {
     "name": "stdout",
     "output_type": "stream",
     "text": [
      "WARNING: Number of agent is set to 3. Igoring min_num_agent and max_num_agent.\n",
      "WARNING: Number of task is set to 3. Igoring min_num_task and max_num_task.\n",
      "WARNING: Discretize level is set to 2. Igoring min_discretize_level and max_discretize_level.\n",
      "WARNING: Multiple model directories found for prefix: /Users/ekwan/graph-attention-replanner/cache/checkpoints/algo_reinforce/problem5_node24_task1to6_dislevel1to4_agent1to6_seed0*, Selecting the first one.\n",
      "['/Users/ekwan/graph-attention-replanner/cache/checkpoints/algo_reinforce/problem5_node24_task1to6_dislevel1to4_agent1to6_seed0_20250805141817', '/Users/ekwan/graph-attention-replanner/cache/checkpoints/algo_reinforce/problem5_node24_task1to6_dislevel1to4_agent1to6_seed0_20250805143728', '/Users/ekwan/graph-attention-replanner/cache/checkpoints/algo_reinforce/problem5_node24_task1to6_dislevel1to4_agent1to6_seed0_20250804163332', '/Users/ekwan/graph-attention-replanner/cache/checkpoints/algo_reinforce/problem5_node24_task1to6_dislevel1to4_agent1to6_seed0_20250806213617', '/Users/ekwan/graph-attention-replanner/cache/checkpoints/algo_reinforce/problem5_node24_task1to6_dislevel1to4_agent1to6_seed0_20241230232757']\n",
      "Evaluating model from /Users/ekwan/graph-attention-replanner/cache/checkpoints/algo_reinforce/problem5_node24_task1to6_dislevel1to4_agent1to6_seed0_20250805141817/epoch_epoch=000.ckpt using data from /Users/ekwan/graph-attention-replanner/cache/data/general/problem5_node6_task3to3_dislevel2to2_agent3to3_seed0_bs10.npz and saving results at /Users/ekwan/graph-attention-replanner/cache/results/gat_gen/problem5_node6_task3to3_dislevel2to2_agent3to3_bs10_exp1_dataseed0_methodseed0.csv ...\n"
     ]
    },
    {
     "name": "stderr",
     "output_type": "stream",
     "text": [
      "/Users/ekwan/graph-attention-replanner/.venv/lib/python3.10/site-packages/lightning/pytorch/utilities/parsing.py:209: Attribute 'env' is an instance of `nn.Module` and is already saved during checkpointing. It is recommended to ignore them using `self.save_hyperparameters(ignore=['env'])`.\n",
      "/Users/ekwan/graph-attention-replanner/.venv/lib/python3.10/site-packages/lightning/pytorch/utilities/parsing.py:209: Attribute 'policy' is an instance of `nn.Module` and is already saved during checkpointing. It is recommended to ignore them using `self.save_hyperparameters(ignore=['policy'])`.\n",
      "/Users/ekwan/graph-attention-replanner/.venv/lib/python3.10/site-packages/lightning/pytorch/core/saving.py:195: Found keys that are not in the model state dict but in the checkpoint: ['baseline.baseline.policy.encoder.init_embedding.init_embed.weight', 'baseline.baseline.policy.encoder.init_embedding.init_embed.bias', 'baseline.baseline.policy.encoder.init_embedding.init_embed_depot.weight', 'baseline.baseline.policy.encoder.init_embedding.init_embed_depot.bias', 'baseline.baseline.policy.encoder.net.layers.0.0.module.Wqkv.weight', 'baseline.baseline.policy.encoder.net.layers.0.0.module.Wqkv.bias', 'baseline.baseline.policy.encoder.net.layers.0.0.module.out_proj.weight', 'baseline.baseline.policy.encoder.net.layers.0.0.module.out_proj.bias', 'baseline.baseline.policy.encoder.net.layers.0.1.normalizer.weight', 'baseline.baseline.policy.encoder.net.layers.0.1.normalizer.bias', 'baseline.baseline.policy.encoder.net.layers.0.1.normalizer.running_mean', 'baseline.baseline.policy.encoder.net.layers.0.1.normalizer.running_var', 'baseline.baseline.policy.encoder.net.layers.0.1.normalizer.num_batches_tracked', 'baseline.baseline.policy.encoder.net.layers.0.2.module.lins.0.weight', 'baseline.baseline.policy.encoder.net.layers.0.2.module.lins.0.bias', 'baseline.baseline.policy.encoder.net.layers.0.2.module.lins.1.weight', 'baseline.baseline.policy.encoder.net.layers.0.2.module.lins.1.bias', 'baseline.baseline.policy.encoder.net.layers.0.3.normalizer.weight', 'baseline.baseline.policy.encoder.net.layers.0.3.normalizer.bias', 'baseline.baseline.policy.encoder.net.layers.0.3.normalizer.running_mean', 'baseline.baseline.policy.encoder.net.layers.0.3.normalizer.running_var', 'baseline.baseline.policy.encoder.net.layers.0.3.normalizer.num_batches_tracked', 'baseline.baseline.policy.encoder.net.layers.1.0.module.Wqkv.weight', 'baseline.baseline.policy.encoder.net.layers.1.0.module.Wqkv.bias', 'baseline.baseline.policy.encoder.net.layers.1.0.module.out_proj.weight', 'baseline.baseline.policy.encoder.net.layers.1.0.module.out_proj.bias', 'baseline.baseline.policy.encoder.net.layers.1.1.normalizer.weight', 'baseline.baseline.policy.encoder.net.layers.1.1.normalizer.bias', 'baseline.baseline.policy.encoder.net.layers.1.1.normalizer.running_mean', 'baseline.baseline.policy.encoder.net.layers.1.1.normalizer.running_var', 'baseline.baseline.policy.encoder.net.layers.1.1.normalizer.num_batches_tracked', 'baseline.baseline.policy.encoder.net.layers.1.2.module.lins.0.weight', 'baseline.baseline.policy.encoder.net.layers.1.2.module.lins.0.bias', 'baseline.baseline.policy.encoder.net.layers.1.2.module.lins.1.weight', 'baseline.baseline.policy.encoder.net.layers.1.2.module.lins.1.bias', 'baseline.baseline.policy.encoder.net.layers.1.3.normalizer.weight', 'baseline.baseline.policy.encoder.net.layers.1.3.normalizer.bias', 'baseline.baseline.policy.encoder.net.layers.1.3.normalizer.running_mean', 'baseline.baseline.policy.encoder.net.layers.1.3.normalizer.running_var', 'baseline.baseline.policy.encoder.net.layers.1.3.normalizer.num_batches_tracked', 'baseline.baseline.policy.encoder.net.layers.2.0.module.Wqkv.weight', 'baseline.baseline.policy.encoder.net.layers.2.0.module.Wqkv.bias', 'baseline.baseline.policy.encoder.net.layers.2.0.module.out_proj.weight', 'baseline.baseline.policy.encoder.net.layers.2.0.module.out_proj.bias', 'baseline.baseline.policy.encoder.net.layers.2.1.normalizer.weight', 'baseline.baseline.policy.encoder.net.layers.2.1.normalizer.bias', 'baseline.baseline.policy.encoder.net.layers.2.1.normalizer.running_mean', 'baseline.baseline.policy.encoder.net.layers.2.1.normalizer.running_var', 'baseline.baseline.policy.encoder.net.layers.2.1.normalizer.num_batches_tracked', 'baseline.baseline.policy.encoder.net.layers.2.2.module.lins.0.weight', 'baseline.baseline.policy.encoder.net.layers.2.2.module.lins.0.bias', 'baseline.baseline.policy.encoder.net.layers.2.2.module.lins.1.weight', 'baseline.baseline.policy.encoder.net.layers.2.2.module.lins.1.bias', 'baseline.baseline.policy.encoder.net.layers.2.3.normalizer.weight', 'baseline.baseline.policy.encoder.net.layers.2.3.normalizer.bias', 'baseline.baseline.policy.encoder.net.layers.2.3.normalizer.running_mean', 'baseline.baseline.policy.encoder.net.layers.2.3.normalizer.running_var', 'baseline.baseline.policy.encoder.net.layers.2.3.normalizer.num_batches_tracked', 'baseline.baseline.policy.encoder.net.layers.3.0.module.Wqkv.weight', 'baseline.baseline.policy.encoder.net.layers.3.0.module.Wqkv.bias', 'baseline.baseline.policy.encoder.net.layers.3.0.module.out_proj.weight', 'baseline.baseline.policy.encoder.net.layers.3.0.module.out_proj.bias', 'baseline.baseline.policy.encoder.net.layers.3.1.normalizer.weight', 'baseline.baseline.policy.encoder.net.layers.3.1.normalizer.bias', 'baseline.baseline.policy.encoder.net.layers.3.1.normalizer.running_mean', 'baseline.baseline.policy.encoder.net.layers.3.1.normalizer.running_var', 'baseline.baseline.policy.encoder.net.layers.3.1.normalizer.num_batches_tracked', 'baseline.baseline.policy.encoder.net.layers.3.2.module.lins.0.weight', 'baseline.baseline.policy.encoder.net.layers.3.2.module.lins.0.bias', 'baseline.baseline.policy.encoder.net.layers.3.2.module.lins.1.weight', 'baseline.baseline.policy.encoder.net.layers.3.2.module.lins.1.bias', 'baseline.baseline.policy.encoder.net.layers.3.3.normalizer.weight', 'baseline.baseline.policy.encoder.net.layers.3.3.normalizer.bias', 'baseline.baseline.policy.encoder.net.layers.3.3.normalizer.running_mean', 'baseline.baseline.policy.encoder.net.layers.3.3.normalizer.running_var', 'baseline.baseline.policy.encoder.net.layers.3.3.normalizer.num_batches_tracked', 'baseline.baseline.policy.encoder.net.layers.4.0.module.Wqkv.weight', 'baseline.baseline.policy.encoder.net.layers.4.0.module.Wqkv.bias', 'baseline.baseline.policy.encoder.net.layers.4.0.module.out_proj.weight', 'baseline.baseline.policy.encoder.net.layers.4.0.module.out_proj.bias', 'baseline.baseline.policy.encoder.net.layers.4.1.normalizer.weight', 'baseline.baseline.policy.encoder.net.layers.4.1.normalizer.bias', 'baseline.baseline.policy.encoder.net.layers.4.1.normalizer.running_mean', 'baseline.baseline.policy.encoder.net.layers.4.1.normalizer.running_var', 'baseline.baseline.policy.encoder.net.layers.4.1.normalizer.num_batches_tracked', 'baseline.baseline.policy.encoder.net.layers.4.2.module.lins.0.weight', 'baseline.baseline.policy.encoder.net.layers.4.2.module.lins.0.bias', 'baseline.baseline.policy.encoder.net.layers.4.2.module.lins.1.weight', 'baseline.baseline.policy.encoder.net.layers.4.2.module.lins.1.bias', 'baseline.baseline.policy.encoder.net.layers.4.3.normalizer.weight', 'baseline.baseline.policy.encoder.net.layers.4.3.normalizer.bias', 'baseline.baseline.policy.encoder.net.layers.4.3.normalizer.running_mean', 'baseline.baseline.policy.encoder.net.layers.4.3.normalizer.running_var', 'baseline.baseline.policy.encoder.net.layers.4.3.normalizer.num_batches_tracked', 'baseline.baseline.policy.encoder.net.layers.5.0.module.Wqkv.weight', 'baseline.baseline.policy.encoder.net.layers.5.0.module.Wqkv.bias', 'baseline.baseline.policy.encoder.net.layers.5.0.module.out_proj.weight', 'baseline.baseline.policy.encoder.net.layers.5.0.module.out_proj.bias', 'baseline.baseline.policy.encoder.net.layers.5.1.normalizer.weight', 'baseline.baseline.policy.encoder.net.layers.5.1.normalizer.bias', 'baseline.baseline.policy.encoder.net.layers.5.1.normalizer.running_mean', 'baseline.baseline.policy.encoder.net.layers.5.1.normalizer.running_var', 'baseline.baseline.policy.encoder.net.layers.5.1.normalizer.num_batches_tracked', 'baseline.baseline.policy.encoder.net.layers.5.2.module.lins.0.weight', 'baseline.baseline.policy.encoder.net.layers.5.2.module.lins.0.bias', 'baseline.baseline.policy.encoder.net.layers.5.2.module.lins.1.weight', 'baseline.baseline.policy.encoder.net.layers.5.2.module.lins.1.bias', 'baseline.baseline.policy.encoder.net.layers.5.3.normalizer.weight', 'baseline.baseline.policy.encoder.net.layers.5.3.normalizer.bias', 'baseline.baseline.policy.encoder.net.layers.5.3.normalizer.running_mean', 'baseline.baseline.policy.encoder.net.layers.5.3.normalizer.running_var', 'baseline.baseline.policy.encoder.net.layers.5.3.normalizer.num_batches_tracked', 'baseline.baseline.policy.encoder.net.layers.6.0.module.Wqkv.weight', 'baseline.baseline.policy.encoder.net.layers.6.0.module.Wqkv.bias', 'baseline.baseline.policy.encoder.net.layers.6.0.module.out_proj.weight', 'baseline.baseline.policy.encoder.net.layers.6.0.module.out_proj.bias', 'baseline.baseline.policy.encoder.net.layers.6.1.normalizer.weight', 'baseline.baseline.policy.encoder.net.layers.6.1.normalizer.bias', 'baseline.baseline.policy.encoder.net.layers.6.1.normalizer.running_mean', 'baseline.baseline.policy.encoder.net.layers.6.1.normalizer.running_var', 'baseline.baseline.policy.encoder.net.layers.6.1.normalizer.num_batches_tracked', 'baseline.baseline.policy.encoder.net.layers.6.2.module.lins.0.weight', 'baseline.baseline.policy.encoder.net.layers.6.2.module.lins.0.bias', 'baseline.baseline.policy.encoder.net.layers.6.2.module.lins.1.weight', 'baseline.baseline.policy.encoder.net.layers.6.2.module.lins.1.bias', 'baseline.baseline.policy.encoder.net.layers.6.3.normalizer.weight', 'baseline.baseline.policy.encoder.net.layers.6.3.normalizer.bias', 'baseline.baseline.policy.encoder.net.layers.6.3.normalizer.running_mean', 'baseline.baseline.policy.encoder.net.layers.6.3.normalizer.running_var', 'baseline.baseline.policy.encoder.net.layers.6.3.normalizer.num_batches_tracked', 'baseline.baseline.policy.encoder.net.layers.7.0.module.Wqkv.weight', 'baseline.baseline.policy.encoder.net.layers.7.0.module.Wqkv.bias', 'baseline.baseline.policy.encoder.net.layers.7.0.module.out_proj.weight', 'baseline.baseline.policy.encoder.net.layers.7.0.module.out_proj.bias', 'baseline.baseline.policy.encoder.net.layers.7.1.normalizer.weight', 'baseline.baseline.policy.encoder.net.layers.7.1.normalizer.bias', 'baseline.baseline.policy.encoder.net.layers.7.1.normalizer.running_mean', 'baseline.baseline.policy.encoder.net.layers.7.1.normalizer.running_var', 'baseline.baseline.policy.encoder.net.layers.7.1.normalizer.num_batches_tracked', 'baseline.baseline.policy.encoder.net.layers.7.2.module.lins.0.weight', 'baseline.baseline.policy.encoder.net.layers.7.2.module.lins.0.bias', 'baseline.baseline.policy.encoder.net.layers.7.2.module.lins.1.weight', 'baseline.baseline.policy.encoder.net.layers.7.2.module.lins.1.bias', 'baseline.baseline.policy.encoder.net.layers.7.3.normalizer.weight', 'baseline.baseline.policy.encoder.net.layers.7.3.normalizer.bias', 'baseline.baseline.policy.encoder.net.layers.7.3.normalizer.running_mean', 'baseline.baseline.policy.encoder.net.layers.7.3.normalizer.running_var', 'baseline.baseline.policy.encoder.net.layers.7.3.normalizer.num_batches_tracked', 'baseline.baseline.policy.decoder.context_embedding.project_context.weight', 'baseline.baseline.policy.decoder.context_embedding.proj_dynamic_feats.weight', 'baseline.baseline.policy.decoder.pointer.project_out.weight', 'baseline.baseline.policy.decoder.project_node_embeddings.weight', 'baseline.baseline.policy.decoder.project_fixed_context.weight']\n",
      "/Users/ekwan/graph-attention-replanner/.venv/lib/python3.10/site-packages/torchrl/data/tensor_specs.py:6911: DeprecationWarning: The BoundedTensorSpec has been deprecated and will be removed in v0.8. Please use Bounded instead.\n",
      "  warnings.warn(\n",
      "/Users/ekwan/graph-attention-replanner/.venv/lib/python3.10/site-packages/torchrl/data/tensor_specs.py:6911: DeprecationWarning: The UnboundedDiscreteTensorSpec has been deprecated and will be removed in v0.8. Please use Unbounded instead.\n",
      "  warnings.warn(\n",
      "/Users/ekwan/graph-attention-replanner/.venv/lib/python3.10/site-packages/torchrl/data/tensor_specs.py:6911: DeprecationWarning: The UnboundedContinuousTensorSpec has been deprecated and will be removed in v0.8. Please use Unbounded instead.\n",
      "  warnings.warn(\n",
      "/Users/ekwan/graph-attention-replanner/.venv/lib/python3.10/site-packages/torchrl/data/tensor_specs.py:6911: DeprecationWarning: The CompositeSpec has been deprecated and will be removed in v0.8. Please use Composite instead.\n",
      "  warnings.warn(\n"
     ]
    },
    {
     "name": "stdout",
     "output_type": "stream",
     "text": [
      "------------Loaded Dataset from /Users/ekwan/graph-attention-replanner/cache/data/general/problem5_node6_task3to3_dislevel2to2_agent3to3_seed0_bs10.npz-------------\n",
      "\n",
      "\n",
      "\n",
      "------------------------------------------\n",
      "Avg Mission Time(s): 33.90739059448242 ± 8.963428497314453. \n",
      "Standard Error: 2.8344850540161133\n",
      "Avg Wall Time(s): 0.00544741153717041\n",
      "------------------------------------------\n",
      "\n",
      "\n",
      "\n"
     ]
    },
    {
     "data": {
      "text/plain": [
       "0"
      ]
     },
     "execution_count": 9,
     "metadata": {},
     "output_type": "execute_result"
    }
   ],
   "source": [
    "os.system(f\"python ../method/gat/eval_gat_generalize.py --num_task {small_problem_setup.num_task} --num_agent {small_problem_setup.num_agent} --discretize_level {small_problem_setup.discretize_level} --num_node {small_problem_setup.num_node} --mtsp_problem_type 5 --method_mtsp_problem_type 5 --batch_size {small_problem_setup.batch_size} --num_exp {small_problem_setup.batch_size} --seed {small_problem_setup.seed}\")"
   ]
  },
  {
   "cell_type": "markdown",
   "id": "9094c512",
   "metadata": {},
   "source": [
    "Specific Model (Small) on Small Dataset"
   ]
  },
  {
   "cell_type": "code",
   "execution_count": 11,
   "id": "90e9ed03",
   "metadata": {},
   "outputs": [
    {
     "name": "stdout",
     "output_type": "stream",
     "text": [
      "WARNING: Number of agent is set to 3. Igoring min_num_agent and max_num_agent.\n",
      "WARNING: Number of task is set to 3. Igoring min_num_task and max_num_task.\n",
      "WARNING: Discretize level is set to 2. Igoring min_discretize_level and max_discretize_level.\n",
      "WARNING: Multiple model directories found for prefix: /Users/ekwan/graph-attention-replanner/cache/checkpoints/algo_reinforce/problem5_node6_task3to3_dislevel2to2_agent3to3_seed0*, Selecting the first one.\n",
      "['/Users/ekwan/graph-attention-replanner/cache/checkpoints/algo_reinforce/problem5_node6_task3to3_dislevel2to2_agent3to3_seed0_20250804163826', '/Users/ekwan/graph-attention-replanner/cache/checkpoints/algo_reinforce/problem5_node6_task3to3_dislevel2to2_agent3to3_seed0_20250806094407']\n",
      "Evaluating model from /Users/ekwan/graph-attention-replanner/cache/checkpoints/algo_reinforce/problem5_node6_task3to3_dislevel2to2_agent3to3_seed0_20250804163826/epoch_epoch=000.ckpt using data from /Users/ekwan/graph-attention-replanner/cache/data/general/problem5_node6_task3to3_dislevel2to2_agent3to3_seed0_bs10.npz and saving results at /Users/ekwan/graph-attention-replanner/cache/results/gat/problem5_node6_task3to3_dislevel2to2_agent3to3_bs10_exp1_dataseed0_methodseed0.csv ...\n"
     ]
    },
    {
     "name": "stderr",
     "output_type": "stream",
     "text": [
      "/Users/ekwan/graph-attention-replanner/.venv/lib/python3.10/site-packages/lightning/pytorch/utilities/parsing.py:209: Attribute 'env' is an instance of `nn.Module` and is already saved during checkpointing. It is recommended to ignore them using `self.save_hyperparameters(ignore=['env'])`.\n",
      "/Users/ekwan/graph-attention-replanner/.venv/lib/python3.10/site-packages/lightning/pytorch/utilities/parsing.py:209: Attribute 'policy' is an instance of `nn.Module` and is already saved during checkpointing. It is recommended to ignore them using `self.save_hyperparameters(ignore=['policy'])`.\n",
      "/Users/ekwan/graph-attention-replanner/.venv/lib/python3.10/site-packages/lightning/pytorch/core/saving.py:195: Found keys that are not in the model state dict but in the checkpoint: ['baseline.baseline.policy.encoder.init_embedding.init_embed.weight', 'baseline.baseline.policy.encoder.init_embedding.init_embed.bias', 'baseline.baseline.policy.encoder.init_embedding.init_embed_depot.weight', 'baseline.baseline.policy.encoder.init_embedding.init_embed_depot.bias', 'baseline.baseline.policy.encoder.net.layers.0.0.module.Wqkv.weight', 'baseline.baseline.policy.encoder.net.layers.0.0.module.Wqkv.bias', 'baseline.baseline.policy.encoder.net.layers.0.0.module.out_proj.weight', 'baseline.baseline.policy.encoder.net.layers.0.0.module.out_proj.bias', 'baseline.baseline.policy.encoder.net.layers.0.1.normalizer.weight', 'baseline.baseline.policy.encoder.net.layers.0.1.normalizer.bias', 'baseline.baseline.policy.encoder.net.layers.0.1.normalizer.running_mean', 'baseline.baseline.policy.encoder.net.layers.0.1.normalizer.running_var', 'baseline.baseline.policy.encoder.net.layers.0.1.normalizer.num_batches_tracked', 'baseline.baseline.policy.encoder.net.layers.0.2.module.lins.0.weight', 'baseline.baseline.policy.encoder.net.layers.0.2.module.lins.0.bias', 'baseline.baseline.policy.encoder.net.layers.0.2.module.lins.1.weight', 'baseline.baseline.policy.encoder.net.layers.0.2.module.lins.1.bias', 'baseline.baseline.policy.encoder.net.layers.0.3.normalizer.weight', 'baseline.baseline.policy.encoder.net.layers.0.3.normalizer.bias', 'baseline.baseline.policy.encoder.net.layers.0.3.normalizer.running_mean', 'baseline.baseline.policy.encoder.net.layers.0.3.normalizer.running_var', 'baseline.baseline.policy.encoder.net.layers.0.3.normalizer.num_batches_tracked', 'baseline.baseline.policy.encoder.net.layers.1.0.module.Wqkv.weight', 'baseline.baseline.policy.encoder.net.layers.1.0.module.Wqkv.bias', 'baseline.baseline.policy.encoder.net.layers.1.0.module.out_proj.weight', 'baseline.baseline.policy.encoder.net.layers.1.0.module.out_proj.bias', 'baseline.baseline.policy.encoder.net.layers.1.1.normalizer.weight', 'baseline.baseline.policy.encoder.net.layers.1.1.normalizer.bias', 'baseline.baseline.policy.encoder.net.layers.1.1.normalizer.running_mean', 'baseline.baseline.policy.encoder.net.layers.1.1.normalizer.running_var', 'baseline.baseline.policy.encoder.net.layers.1.1.normalizer.num_batches_tracked', 'baseline.baseline.policy.encoder.net.layers.1.2.module.lins.0.weight', 'baseline.baseline.policy.encoder.net.layers.1.2.module.lins.0.bias', 'baseline.baseline.policy.encoder.net.layers.1.2.module.lins.1.weight', 'baseline.baseline.policy.encoder.net.layers.1.2.module.lins.1.bias', 'baseline.baseline.policy.encoder.net.layers.1.3.normalizer.weight', 'baseline.baseline.policy.encoder.net.layers.1.3.normalizer.bias', 'baseline.baseline.policy.encoder.net.layers.1.3.normalizer.running_mean', 'baseline.baseline.policy.encoder.net.layers.1.3.normalizer.running_var', 'baseline.baseline.policy.encoder.net.layers.1.3.normalizer.num_batches_tracked', 'baseline.baseline.policy.encoder.net.layers.2.0.module.Wqkv.weight', 'baseline.baseline.policy.encoder.net.layers.2.0.module.Wqkv.bias', 'baseline.baseline.policy.encoder.net.layers.2.0.module.out_proj.weight', 'baseline.baseline.policy.encoder.net.layers.2.0.module.out_proj.bias', 'baseline.baseline.policy.encoder.net.layers.2.1.normalizer.weight', 'baseline.baseline.policy.encoder.net.layers.2.1.normalizer.bias', 'baseline.baseline.policy.encoder.net.layers.2.1.normalizer.running_mean', 'baseline.baseline.policy.encoder.net.layers.2.1.normalizer.running_var', 'baseline.baseline.policy.encoder.net.layers.2.1.normalizer.num_batches_tracked', 'baseline.baseline.policy.encoder.net.layers.2.2.module.lins.0.weight', 'baseline.baseline.policy.encoder.net.layers.2.2.module.lins.0.bias', 'baseline.baseline.policy.encoder.net.layers.2.2.module.lins.1.weight', 'baseline.baseline.policy.encoder.net.layers.2.2.module.lins.1.bias', 'baseline.baseline.policy.encoder.net.layers.2.3.normalizer.weight', 'baseline.baseline.policy.encoder.net.layers.2.3.normalizer.bias', 'baseline.baseline.policy.encoder.net.layers.2.3.normalizer.running_mean', 'baseline.baseline.policy.encoder.net.layers.2.3.normalizer.running_var', 'baseline.baseline.policy.encoder.net.layers.2.3.normalizer.num_batches_tracked', 'baseline.baseline.policy.encoder.net.layers.3.0.module.Wqkv.weight', 'baseline.baseline.policy.encoder.net.layers.3.0.module.Wqkv.bias', 'baseline.baseline.policy.encoder.net.layers.3.0.module.out_proj.weight', 'baseline.baseline.policy.encoder.net.layers.3.0.module.out_proj.bias', 'baseline.baseline.policy.encoder.net.layers.3.1.normalizer.weight', 'baseline.baseline.policy.encoder.net.layers.3.1.normalizer.bias', 'baseline.baseline.policy.encoder.net.layers.3.1.normalizer.running_mean', 'baseline.baseline.policy.encoder.net.layers.3.1.normalizer.running_var', 'baseline.baseline.policy.encoder.net.layers.3.1.normalizer.num_batches_tracked', 'baseline.baseline.policy.encoder.net.layers.3.2.module.lins.0.weight', 'baseline.baseline.policy.encoder.net.layers.3.2.module.lins.0.bias', 'baseline.baseline.policy.encoder.net.layers.3.2.module.lins.1.weight', 'baseline.baseline.policy.encoder.net.layers.3.2.module.lins.1.bias', 'baseline.baseline.policy.encoder.net.layers.3.3.normalizer.weight', 'baseline.baseline.policy.encoder.net.layers.3.3.normalizer.bias', 'baseline.baseline.policy.encoder.net.layers.3.3.normalizer.running_mean', 'baseline.baseline.policy.encoder.net.layers.3.3.normalizer.running_var', 'baseline.baseline.policy.encoder.net.layers.3.3.normalizer.num_batches_tracked', 'baseline.baseline.policy.encoder.net.layers.4.0.module.Wqkv.weight', 'baseline.baseline.policy.encoder.net.layers.4.0.module.Wqkv.bias', 'baseline.baseline.policy.encoder.net.layers.4.0.module.out_proj.weight', 'baseline.baseline.policy.encoder.net.layers.4.0.module.out_proj.bias', 'baseline.baseline.policy.encoder.net.layers.4.1.normalizer.weight', 'baseline.baseline.policy.encoder.net.layers.4.1.normalizer.bias', 'baseline.baseline.policy.encoder.net.layers.4.1.normalizer.running_mean', 'baseline.baseline.policy.encoder.net.layers.4.1.normalizer.running_var', 'baseline.baseline.policy.encoder.net.layers.4.1.normalizer.num_batches_tracked', 'baseline.baseline.policy.encoder.net.layers.4.2.module.lins.0.weight', 'baseline.baseline.policy.encoder.net.layers.4.2.module.lins.0.bias', 'baseline.baseline.policy.encoder.net.layers.4.2.module.lins.1.weight', 'baseline.baseline.policy.encoder.net.layers.4.2.module.lins.1.bias', 'baseline.baseline.policy.encoder.net.layers.4.3.normalizer.weight', 'baseline.baseline.policy.encoder.net.layers.4.3.normalizer.bias', 'baseline.baseline.policy.encoder.net.layers.4.3.normalizer.running_mean', 'baseline.baseline.policy.encoder.net.layers.4.3.normalizer.running_var', 'baseline.baseline.policy.encoder.net.layers.4.3.normalizer.num_batches_tracked', 'baseline.baseline.policy.encoder.net.layers.5.0.module.Wqkv.weight', 'baseline.baseline.policy.encoder.net.layers.5.0.module.Wqkv.bias', 'baseline.baseline.policy.encoder.net.layers.5.0.module.out_proj.weight', 'baseline.baseline.policy.encoder.net.layers.5.0.module.out_proj.bias', 'baseline.baseline.policy.encoder.net.layers.5.1.normalizer.weight', 'baseline.baseline.policy.encoder.net.layers.5.1.normalizer.bias', 'baseline.baseline.policy.encoder.net.layers.5.1.normalizer.running_mean', 'baseline.baseline.policy.encoder.net.layers.5.1.normalizer.running_var', 'baseline.baseline.policy.encoder.net.layers.5.1.normalizer.num_batches_tracked', 'baseline.baseline.policy.encoder.net.layers.5.2.module.lins.0.weight', 'baseline.baseline.policy.encoder.net.layers.5.2.module.lins.0.bias', 'baseline.baseline.policy.encoder.net.layers.5.2.module.lins.1.weight', 'baseline.baseline.policy.encoder.net.layers.5.2.module.lins.1.bias', 'baseline.baseline.policy.encoder.net.layers.5.3.normalizer.weight', 'baseline.baseline.policy.encoder.net.layers.5.3.normalizer.bias', 'baseline.baseline.policy.encoder.net.layers.5.3.normalizer.running_mean', 'baseline.baseline.policy.encoder.net.layers.5.3.normalizer.running_var', 'baseline.baseline.policy.encoder.net.layers.5.3.normalizer.num_batches_tracked', 'baseline.baseline.policy.encoder.net.layers.6.0.module.Wqkv.weight', 'baseline.baseline.policy.encoder.net.layers.6.0.module.Wqkv.bias', 'baseline.baseline.policy.encoder.net.layers.6.0.module.out_proj.weight', 'baseline.baseline.policy.encoder.net.layers.6.0.module.out_proj.bias', 'baseline.baseline.policy.encoder.net.layers.6.1.normalizer.weight', 'baseline.baseline.policy.encoder.net.layers.6.1.normalizer.bias', 'baseline.baseline.policy.encoder.net.layers.6.1.normalizer.running_mean', 'baseline.baseline.policy.encoder.net.layers.6.1.normalizer.running_var', 'baseline.baseline.policy.encoder.net.layers.6.1.normalizer.num_batches_tracked', 'baseline.baseline.policy.encoder.net.layers.6.2.module.lins.0.weight', 'baseline.baseline.policy.encoder.net.layers.6.2.module.lins.0.bias', 'baseline.baseline.policy.encoder.net.layers.6.2.module.lins.1.weight', 'baseline.baseline.policy.encoder.net.layers.6.2.module.lins.1.bias', 'baseline.baseline.policy.encoder.net.layers.6.3.normalizer.weight', 'baseline.baseline.policy.encoder.net.layers.6.3.normalizer.bias', 'baseline.baseline.policy.encoder.net.layers.6.3.normalizer.running_mean', 'baseline.baseline.policy.encoder.net.layers.6.3.normalizer.running_var', 'baseline.baseline.policy.encoder.net.layers.6.3.normalizer.num_batches_tracked', 'baseline.baseline.policy.encoder.net.layers.7.0.module.Wqkv.weight', 'baseline.baseline.policy.encoder.net.layers.7.0.module.Wqkv.bias', 'baseline.baseline.policy.encoder.net.layers.7.0.module.out_proj.weight', 'baseline.baseline.policy.encoder.net.layers.7.0.module.out_proj.bias', 'baseline.baseline.policy.encoder.net.layers.7.1.normalizer.weight', 'baseline.baseline.policy.encoder.net.layers.7.1.normalizer.bias', 'baseline.baseline.policy.encoder.net.layers.7.1.normalizer.running_mean', 'baseline.baseline.policy.encoder.net.layers.7.1.normalizer.running_var', 'baseline.baseline.policy.encoder.net.layers.7.1.normalizer.num_batches_tracked', 'baseline.baseline.policy.encoder.net.layers.7.2.module.lins.0.weight', 'baseline.baseline.policy.encoder.net.layers.7.2.module.lins.0.bias', 'baseline.baseline.policy.encoder.net.layers.7.2.module.lins.1.weight', 'baseline.baseline.policy.encoder.net.layers.7.2.module.lins.1.bias', 'baseline.baseline.policy.encoder.net.layers.7.3.normalizer.weight', 'baseline.baseline.policy.encoder.net.layers.7.3.normalizer.bias', 'baseline.baseline.policy.encoder.net.layers.7.3.normalizer.running_mean', 'baseline.baseline.policy.encoder.net.layers.7.3.normalizer.running_var', 'baseline.baseline.policy.encoder.net.layers.7.3.normalizer.num_batches_tracked', 'baseline.baseline.policy.decoder.context_embedding.project_context.weight', 'baseline.baseline.policy.decoder.context_embedding.proj_dynamic_feats.weight', 'baseline.baseline.policy.decoder.pointer.project_out.weight', 'baseline.baseline.policy.decoder.project_node_embeddings.weight', 'baseline.baseline.policy.decoder.project_fixed_context.weight']\n",
      "/Users/ekwan/graph-attention-replanner/.venv/lib/python3.10/site-packages/torchrl/data/tensor_specs.py:6911: DeprecationWarning: The BoundedTensorSpec has been deprecated and will be removed in v0.8. Please use Bounded instead.\n",
      "  warnings.warn(\n",
      "/Users/ekwan/graph-attention-replanner/.venv/lib/python3.10/site-packages/torchrl/data/tensor_specs.py:6911: DeprecationWarning: The UnboundedDiscreteTensorSpec has been deprecated and will be removed in v0.8. Please use Unbounded instead.\n",
      "  warnings.warn(\n",
      "/Users/ekwan/graph-attention-replanner/.venv/lib/python3.10/site-packages/torchrl/data/tensor_specs.py:6911: DeprecationWarning: The UnboundedContinuousTensorSpec has been deprecated and will be removed in v0.8. Please use Unbounded instead.\n",
      "  warnings.warn(\n",
      "/Users/ekwan/graph-attention-replanner/.venv/lib/python3.10/site-packages/torchrl/data/tensor_specs.py:6911: DeprecationWarning: The CompositeSpec has been deprecated and will be removed in v0.8. Please use Composite instead.\n",
      "  warnings.warn(\n"
     ]
    },
    {
     "name": "stdout",
     "output_type": "stream",
     "text": [
      "------------Loaded Dataset from /Users/ekwan/graph-attention-replanner/cache/data/general/problem5_node6_task3to3_dislevel2to2_agent3to3_seed0_bs10.npz-------------\n",
      "\n",
      "\n",
      "\n",
      "------------------------------------------\n",
      "Avg Mission Time(s): 27.64629364013672 ± 7.331835746765137. \n",
      "Standard Error: 2.3185300827026367\n",
      "Avg Wall Time(s): 0.0019737958908081056\n",
      "------------------------------------------\n",
      "\n",
      "\n",
      "\n"
     ]
    },
    {
     "data": {
      "text/plain": [
       "0"
      ]
     },
     "execution_count": 11,
     "metadata": {},
     "output_type": "execute_result"
    }
   ],
   "source": [
    "os.system(f\"python ../method/gat/eval_gat.py --num_task {small_problem_setup.num_task} --num_agent {small_problem_setup.num_agent} --discretize_level {small_problem_setup.discretize_level} --num_node {small_problem_setup.num_node} --mtsp_problem_type 5 --method_mtsp_problem_type 5 --batch_size {small_problem_setup.batch_size} --num_exp {small_problem_setup.batch_size} --seed {small_problem_setup.seed}\")"
   ]
  },
  {
   "cell_type": "markdown",
   "id": "cdb25752",
   "metadata": {},
   "source": [
    "Specific Model (Large) on Large Dataset"
   ]
  },
  {
   "cell_type": "code",
   "execution_count": 12,
   "id": "97e79064",
   "metadata": {},
   "outputs": [
    {
     "name": "stdout",
     "output_type": "stream",
     "text": [
      "WARNING: Number of agent is set to 6. Igoring min_num_agent and max_num_agent.\n",
      "WARNING: Number of task is set to 6. Igoring min_num_task and max_num_task.\n",
      "WARNING: Discretize level is set to 4. Igoring min_discretize_level and max_discretize_level.\n",
      "Evaluating model from /Users/ekwan/graph-attention-replanner/cache/checkpoints/algo_reinforce/problem5_node24_task6to6_dislevel4to4_agent6to6_seed0_20250804163554/epoch_epoch=000.ckpt using data from /Users/ekwan/graph-attention-replanner/cache/data/general/problem5_node24_task6to6_dislevel4to4_agent6to6_seed0_bs10.npz and saving results at /Users/ekwan/graph-attention-replanner/cache/results/gat/problem5_node24_task6to6_dislevel4to4_agent6to6_bs10_exp1_dataseed0_methodseed0.csv ...\n"
     ]
    },
    {
     "name": "stderr",
     "output_type": "stream",
     "text": [
      "/Users/ekwan/graph-attention-replanner/.venv/lib/python3.10/site-packages/lightning/pytorch/utilities/parsing.py:209: Attribute 'env' is an instance of `nn.Module` and is already saved during checkpointing. It is recommended to ignore them using `self.save_hyperparameters(ignore=['env'])`.\n",
      "/Users/ekwan/graph-attention-replanner/.venv/lib/python3.10/site-packages/lightning/pytorch/utilities/parsing.py:209: Attribute 'policy' is an instance of `nn.Module` and is already saved during checkpointing. It is recommended to ignore them using `self.save_hyperparameters(ignore=['policy'])`.\n",
      "/Users/ekwan/graph-attention-replanner/.venv/lib/python3.10/site-packages/lightning/pytorch/core/saving.py:195: Found keys that are not in the model state dict but in the checkpoint: ['baseline.baseline.policy.encoder.init_embedding.init_embed.weight', 'baseline.baseline.policy.encoder.init_embedding.init_embed.bias', 'baseline.baseline.policy.encoder.init_embedding.init_embed_depot.weight', 'baseline.baseline.policy.encoder.init_embedding.init_embed_depot.bias', 'baseline.baseline.policy.encoder.net.layers.0.0.module.Wqkv.weight', 'baseline.baseline.policy.encoder.net.layers.0.0.module.Wqkv.bias', 'baseline.baseline.policy.encoder.net.layers.0.0.module.out_proj.weight', 'baseline.baseline.policy.encoder.net.layers.0.0.module.out_proj.bias', 'baseline.baseline.policy.encoder.net.layers.0.1.normalizer.weight', 'baseline.baseline.policy.encoder.net.layers.0.1.normalizer.bias', 'baseline.baseline.policy.encoder.net.layers.0.1.normalizer.running_mean', 'baseline.baseline.policy.encoder.net.layers.0.1.normalizer.running_var', 'baseline.baseline.policy.encoder.net.layers.0.1.normalizer.num_batches_tracked', 'baseline.baseline.policy.encoder.net.layers.0.2.module.lins.0.weight', 'baseline.baseline.policy.encoder.net.layers.0.2.module.lins.0.bias', 'baseline.baseline.policy.encoder.net.layers.0.2.module.lins.1.weight', 'baseline.baseline.policy.encoder.net.layers.0.2.module.lins.1.bias', 'baseline.baseline.policy.encoder.net.layers.0.3.normalizer.weight', 'baseline.baseline.policy.encoder.net.layers.0.3.normalizer.bias', 'baseline.baseline.policy.encoder.net.layers.0.3.normalizer.running_mean', 'baseline.baseline.policy.encoder.net.layers.0.3.normalizer.running_var', 'baseline.baseline.policy.encoder.net.layers.0.3.normalizer.num_batches_tracked', 'baseline.baseline.policy.encoder.net.layers.1.0.module.Wqkv.weight', 'baseline.baseline.policy.encoder.net.layers.1.0.module.Wqkv.bias', 'baseline.baseline.policy.encoder.net.layers.1.0.module.out_proj.weight', 'baseline.baseline.policy.encoder.net.layers.1.0.module.out_proj.bias', 'baseline.baseline.policy.encoder.net.layers.1.1.normalizer.weight', 'baseline.baseline.policy.encoder.net.layers.1.1.normalizer.bias', 'baseline.baseline.policy.encoder.net.layers.1.1.normalizer.running_mean', 'baseline.baseline.policy.encoder.net.layers.1.1.normalizer.running_var', 'baseline.baseline.policy.encoder.net.layers.1.1.normalizer.num_batches_tracked', 'baseline.baseline.policy.encoder.net.layers.1.2.module.lins.0.weight', 'baseline.baseline.policy.encoder.net.layers.1.2.module.lins.0.bias', 'baseline.baseline.policy.encoder.net.layers.1.2.module.lins.1.weight', 'baseline.baseline.policy.encoder.net.layers.1.2.module.lins.1.bias', 'baseline.baseline.policy.encoder.net.layers.1.3.normalizer.weight', 'baseline.baseline.policy.encoder.net.layers.1.3.normalizer.bias', 'baseline.baseline.policy.encoder.net.layers.1.3.normalizer.running_mean', 'baseline.baseline.policy.encoder.net.layers.1.3.normalizer.running_var', 'baseline.baseline.policy.encoder.net.layers.1.3.normalizer.num_batches_tracked', 'baseline.baseline.policy.encoder.net.layers.2.0.module.Wqkv.weight', 'baseline.baseline.policy.encoder.net.layers.2.0.module.Wqkv.bias', 'baseline.baseline.policy.encoder.net.layers.2.0.module.out_proj.weight', 'baseline.baseline.policy.encoder.net.layers.2.0.module.out_proj.bias', 'baseline.baseline.policy.encoder.net.layers.2.1.normalizer.weight', 'baseline.baseline.policy.encoder.net.layers.2.1.normalizer.bias', 'baseline.baseline.policy.encoder.net.layers.2.1.normalizer.running_mean', 'baseline.baseline.policy.encoder.net.layers.2.1.normalizer.running_var', 'baseline.baseline.policy.encoder.net.layers.2.1.normalizer.num_batches_tracked', 'baseline.baseline.policy.encoder.net.layers.2.2.module.lins.0.weight', 'baseline.baseline.policy.encoder.net.layers.2.2.module.lins.0.bias', 'baseline.baseline.policy.encoder.net.layers.2.2.module.lins.1.weight', 'baseline.baseline.policy.encoder.net.layers.2.2.module.lins.1.bias', 'baseline.baseline.policy.encoder.net.layers.2.3.normalizer.weight', 'baseline.baseline.policy.encoder.net.layers.2.3.normalizer.bias', 'baseline.baseline.policy.encoder.net.layers.2.3.normalizer.running_mean', 'baseline.baseline.policy.encoder.net.layers.2.3.normalizer.running_var', 'baseline.baseline.policy.encoder.net.layers.2.3.normalizer.num_batches_tracked', 'baseline.baseline.policy.encoder.net.layers.3.0.module.Wqkv.weight', 'baseline.baseline.policy.encoder.net.layers.3.0.module.Wqkv.bias', 'baseline.baseline.policy.encoder.net.layers.3.0.module.out_proj.weight', 'baseline.baseline.policy.encoder.net.layers.3.0.module.out_proj.bias', 'baseline.baseline.policy.encoder.net.layers.3.1.normalizer.weight', 'baseline.baseline.policy.encoder.net.layers.3.1.normalizer.bias', 'baseline.baseline.policy.encoder.net.layers.3.1.normalizer.running_mean', 'baseline.baseline.policy.encoder.net.layers.3.1.normalizer.running_var', 'baseline.baseline.policy.encoder.net.layers.3.1.normalizer.num_batches_tracked', 'baseline.baseline.policy.encoder.net.layers.3.2.module.lins.0.weight', 'baseline.baseline.policy.encoder.net.layers.3.2.module.lins.0.bias', 'baseline.baseline.policy.encoder.net.layers.3.2.module.lins.1.weight', 'baseline.baseline.policy.encoder.net.layers.3.2.module.lins.1.bias', 'baseline.baseline.policy.encoder.net.layers.3.3.normalizer.weight', 'baseline.baseline.policy.encoder.net.layers.3.3.normalizer.bias', 'baseline.baseline.policy.encoder.net.layers.3.3.normalizer.running_mean', 'baseline.baseline.policy.encoder.net.layers.3.3.normalizer.running_var', 'baseline.baseline.policy.encoder.net.layers.3.3.normalizer.num_batches_tracked', 'baseline.baseline.policy.encoder.net.layers.4.0.module.Wqkv.weight', 'baseline.baseline.policy.encoder.net.layers.4.0.module.Wqkv.bias', 'baseline.baseline.policy.encoder.net.layers.4.0.module.out_proj.weight', 'baseline.baseline.policy.encoder.net.layers.4.0.module.out_proj.bias', 'baseline.baseline.policy.encoder.net.layers.4.1.normalizer.weight', 'baseline.baseline.policy.encoder.net.layers.4.1.normalizer.bias', 'baseline.baseline.policy.encoder.net.layers.4.1.normalizer.running_mean', 'baseline.baseline.policy.encoder.net.layers.4.1.normalizer.running_var', 'baseline.baseline.policy.encoder.net.layers.4.1.normalizer.num_batches_tracked', 'baseline.baseline.policy.encoder.net.layers.4.2.module.lins.0.weight', 'baseline.baseline.policy.encoder.net.layers.4.2.module.lins.0.bias', 'baseline.baseline.policy.encoder.net.layers.4.2.module.lins.1.weight', 'baseline.baseline.policy.encoder.net.layers.4.2.module.lins.1.bias', 'baseline.baseline.policy.encoder.net.layers.4.3.normalizer.weight', 'baseline.baseline.policy.encoder.net.layers.4.3.normalizer.bias', 'baseline.baseline.policy.encoder.net.layers.4.3.normalizer.running_mean', 'baseline.baseline.policy.encoder.net.layers.4.3.normalizer.running_var', 'baseline.baseline.policy.encoder.net.layers.4.3.normalizer.num_batches_tracked', 'baseline.baseline.policy.encoder.net.layers.5.0.module.Wqkv.weight', 'baseline.baseline.policy.encoder.net.layers.5.0.module.Wqkv.bias', 'baseline.baseline.policy.encoder.net.layers.5.0.module.out_proj.weight', 'baseline.baseline.policy.encoder.net.layers.5.0.module.out_proj.bias', 'baseline.baseline.policy.encoder.net.layers.5.1.normalizer.weight', 'baseline.baseline.policy.encoder.net.layers.5.1.normalizer.bias', 'baseline.baseline.policy.encoder.net.layers.5.1.normalizer.running_mean', 'baseline.baseline.policy.encoder.net.layers.5.1.normalizer.running_var', 'baseline.baseline.policy.encoder.net.layers.5.1.normalizer.num_batches_tracked', 'baseline.baseline.policy.encoder.net.layers.5.2.module.lins.0.weight', 'baseline.baseline.policy.encoder.net.layers.5.2.module.lins.0.bias', 'baseline.baseline.policy.encoder.net.layers.5.2.module.lins.1.weight', 'baseline.baseline.policy.encoder.net.layers.5.2.module.lins.1.bias', 'baseline.baseline.policy.encoder.net.layers.5.3.normalizer.weight', 'baseline.baseline.policy.encoder.net.layers.5.3.normalizer.bias', 'baseline.baseline.policy.encoder.net.layers.5.3.normalizer.running_mean', 'baseline.baseline.policy.encoder.net.layers.5.3.normalizer.running_var', 'baseline.baseline.policy.encoder.net.layers.5.3.normalizer.num_batches_tracked', 'baseline.baseline.policy.encoder.net.layers.6.0.module.Wqkv.weight', 'baseline.baseline.policy.encoder.net.layers.6.0.module.Wqkv.bias', 'baseline.baseline.policy.encoder.net.layers.6.0.module.out_proj.weight', 'baseline.baseline.policy.encoder.net.layers.6.0.module.out_proj.bias', 'baseline.baseline.policy.encoder.net.layers.6.1.normalizer.weight', 'baseline.baseline.policy.encoder.net.layers.6.1.normalizer.bias', 'baseline.baseline.policy.encoder.net.layers.6.1.normalizer.running_mean', 'baseline.baseline.policy.encoder.net.layers.6.1.normalizer.running_var', 'baseline.baseline.policy.encoder.net.layers.6.1.normalizer.num_batches_tracked', 'baseline.baseline.policy.encoder.net.layers.6.2.module.lins.0.weight', 'baseline.baseline.policy.encoder.net.layers.6.2.module.lins.0.bias', 'baseline.baseline.policy.encoder.net.layers.6.2.module.lins.1.weight', 'baseline.baseline.policy.encoder.net.layers.6.2.module.lins.1.bias', 'baseline.baseline.policy.encoder.net.layers.6.3.normalizer.weight', 'baseline.baseline.policy.encoder.net.layers.6.3.normalizer.bias', 'baseline.baseline.policy.encoder.net.layers.6.3.normalizer.running_mean', 'baseline.baseline.policy.encoder.net.layers.6.3.normalizer.running_var', 'baseline.baseline.policy.encoder.net.layers.6.3.normalizer.num_batches_tracked', 'baseline.baseline.policy.encoder.net.layers.7.0.module.Wqkv.weight', 'baseline.baseline.policy.encoder.net.layers.7.0.module.Wqkv.bias', 'baseline.baseline.policy.encoder.net.layers.7.0.module.out_proj.weight', 'baseline.baseline.policy.encoder.net.layers.7.0.module.out_proj.bias', 'baseline.baseline.policy.encoder.net.layers.7.1.normalizer.weight', 'baseline.baseline.policy.encoder.net.layers.7.1.normalizer.bias', 'baseline.baseline.policy.encoder.net.layers.7.1.normalizer.running_mean', 'baseline.baseline.policy.encoder.net.layers.7.1.normalizer.running_var', 'baseline.baseline.policy.encoder.net.layers.7.1.normalizer.num_batches_tracked', 'baseline.baseline.policy.encoder.net.layers.7.2.module.lins.0.weight', 'baseline.baseline.policy.encoder.net.layers.7.2.module.lins.0.bias', 'baseline.baseline.policy.encoder.net.layers.7.2.module.lins.1.weight', 'baseline.baseline.policy.encoder.net.layers.7.2.module.lins.1.bias', 'baseline.baseline.policy.encoder.net.layers.7.3.normalizer.weight', 'baseline.baseline.policy.encoder.net.layers.7.3.normalizer.bias', 'baseline.baseline.policy.encoder.net.layers.7.3.normalizer.running_mean', 'baseline.baseline.policy.encoder.net.layers.7.3.normalizer.running_var', 'baseline.baseline.policy.encoder.net.layers.7.3.normalizer.num_batches_tracked', 'baseline.baseline.policy.decoder.context_embedding.project_context.weight', 'baseline.baseline.policy.decoder.context_embedding.proj_dynamic_feats.weight', 'baseline.baseline.policy.decoder.pointer.project_out.weight', 'baseline.baseline.policy.decoder.project_node_embeddings.weight', 'baseline.baseline.policy.decoder.project_fixed_context.weight']\n",
      "/Users/ekwan/graph-attention-replanner/.venv/lib/python3.10/site-packages/torchrl/data/tensor_specs.py:6911: DeprecationWarning: The BoundedTensorSpec has been deprecated and will be removed in v0.8. Please use Bounded instead.\n",
      "  warnings.warn(\n",
      "/Users/ekwan/graph-attention-replanner/.venv/lib/python3.10/site-packages/torchrl/data/tensor_specs.py:6911: DeprecationWarning: The UnboundedDiscreteTensorSpec has been deprecated and will be removed in v0.8. Please use Unbounded instead.\n",
      "  warnings.warn(\n",
      "/Users/ekwan/graph-attention-replanner/.venv/lib/python3.10/site-packages/torchrl/data/tensor_specs.py:6911: DeprecationWarning: The UnboundedContinuousTensorSpec has been deprecated and will be removed in v0.8. Please use Unbounded instead.\n",
      "  warnings.warn(\n",
      "/Users/ekwan/graph-attention-replanner/.venv/lib/python3.10/site-packages/torchrl/data/tensor_specs.py:6911: DeprecationWarning: The CompositeSpec has been deprecated and will be removed in v0.8. Please use Composite instead.\n",
      "  warnings.warn(\n"
     ]
    },
    {
     "name": "stdout",
     "output_type": "stream",
     "text": [
      "------------Loaded Dataset from /Users/ekwan/graph-attention-replanner/cache/data/general/problem5_node24_task6to6_dislevel4to4_agent6to6_seed0_bs10.npz-------------\n",
      "\n",
      "\n",
      "\n",
      "------------------------------------------\n",
      "Avg Mission Time(s): 53.02010726928711 ± 17.887714385986328. \n",
      "Standard Error: 5.656591892242432\n",
      "Avg Wall Time(s): 0.00435631275177002\n",
      "------------------------------------------\n",
      "\n",
      "\n",
      "\n"
     ]
    },
    {
     "data": {
      "text/plain": [
       "0"
      ]
     },
     "execution_count": 12,
     "metadata": {},
     "output_type": "execute_result"
    }
   ],
   "source": [
    "os.system(f\"python ../method/gat/eval_gat.py --num_task {large_problem_setup.max_num_task} --num_agent {large_problem_setup.max_num_agent} --discretize_level {large_problem_setup.max_discretize_level} --num_node {large_problem_setup.num_node} --mtsp_problem_type 5 --method_mtsp_problem_type 5 --batch_size {large_problem_setup.batch_size} --num_exp {large_problem_setup.batch_size} --seed {large_problem_setup.seed}\")"
   ]
  },
  {
   "cell_type": "markdown",
   "id": "f0c05148",
   "metadata": {},
   "source": [
    "# Visualize Results"
   ]
  },
  {
   "cell_type": "markdown",
   "id": "919e299c",
   "metadata": {},
   "source": [
    "Result Table - Average Mission Time and Runtime of General Vs Specific Model in Large or Small Problem Settings"
   ]
  },
  {
   "cell_type": "code",
   "execution_count": 2,
   "id": "fe163bd1",
   "metadata": {},
   "outputs": [
    {
     "data": {
      "text/html": [
       "<div>\n",
       "<style scoped>\n",
       "    .dataframe tbody tr th:only-of-type {\n",
       "        vertical-align: middle;\n",
       "    }\n",
       "\n",
       "    .dataframe tbody tr th {\n",
       "        vertical-align: top;\n",
       "    }\n",
       "\n",
       "    .dataframe thead th {\n",
       "        text-align: right;\n",
       "    }\n",
       "</style>\n",
       "<table border=\"1\" class=\"dataframe\">\n",
       "  <thead>\n",
       "    <tr style=\"text-align: right;\">\n",
       "      <th>model</th>\n",
       "      <th>General Model</th>\n",
       "      <th>Specific Model (Small)</th>\n",
       "      <th>Specific Model (Large)</th>\n",
       "    </tr>\n",
       "    <tr>\n",
       "      <th>dataset</th>\n",
       "      <th></th>\n",
       "      <th></th>\n",
       "      <th></th>\n",
       "    </tr>\n",
       "  </thead>\n",
       "  <tbody>\n",
       "    <tr>\n",
       "      <th>Large Problem Setup</th>\n",
       "      <td>mission time: 53.93s runtime: 0.00474s</td>\n",
       "      <td>NA</td>\n",
       "      <td>mission time: 53.02s runtime: 0.004356s</td>\n",
       "    </tr>\n",
       "    <tr>\n",
       "      <th>Small Problem Setup</th>\n",
       "      <td>mission time: 33.91s runtime: 0.005447s</td>\n",
       "      <td>mission time: 27.65s runtime: 0.001974s</td>\n",
       "      <td>NA</td>\n",
       "    </tr>\n",
       "  </tbody>\n",
       "</table>\n",
       "</div>"
      ],
      "text/plain": [
       "model                                          General Model  \\\n",
       "dataset                                                        \n",
       "Large Problem Setup   mission time: 53.93s runtime: 0.00474s   \n",
       "Small Problem Setup  mission time: 33.91s runtime: 0.005447s   \n",
       "\n",
       "model                                 Specific Model (Small)  \\\n",
       "dataset                                                        \n",
       "Large Problem Setup                                       NA   \n",
       "Small Problem Setup  mission time: 27.65s runtime: 0.001974s   \n",
       "\n",
       "model                                 Specific Model (Large)  \n",
       "dataset                                                       \n",
       "Large Problem Setup  mission time: 53.02s runtime: 0.004356s  \n",
       "Small Problem Setup                                       NA  "
      ]
     },
     "execution_count": 2,
     "metadata": {},
     "output_type": "execute_result"
    }
   ],
   "source": [
    "def get_saved_data(setup, model=\"gat_gen\", type=\"result\"):\n",
    "    task_agent_dislvl = []\n",
    "    for attr in [\"max_num_task\", \"max_num_agent\", \"max_discretize_level\", ]:\n",
    "        if hasattr(setup, attr):\n",
    "            task_agent_dislvl.append(getattr(setup, attr))\n",
    "        else:\n",
    "            task_agent_dislvl.append(getattr(setup, attr[4:]))\n",
    "    num_task, num_agent, discretize_level = task_agent_dislvl\n",
    "\n",
    "    cfg = LogFileConfig(\n",
    "            setup.mtsp_problem_type,\n",
    "            setup.num_node,\n",
    "            num_task,\n",
    "            num_task,\n",
    "            discretize_level,\n",
    "            discretize_level,\n",
    "            num_agent,\n",
    "            num_agent,\n",
    "            setup.batch_size,\n",
    "            read_only=True,\n",
    "        )\n",
    "    if type == \"result\":\n",
    "        result_path = cfg.get_result_logfilename(\n",
    "            seed=setup.seed,\n",
    "            method_seed=setup.seed,\n",
    "            method=model,\n",
    "            format=\"csv\",\n",
    "            override_mtsp_problem_type=setup.mtsp_problem_type,\n",
    "        )\n",
    "        return result_path\n",
    "    elif type == \"data\":\n",
    "        data_path = cfg.get_data_logfilename(\n",
    "            seed=setup.seed, format=\"npz\", override_mtsp_problem_type=setup.mtsp_problem_type\n",
    "        )\n",
    "        return data_path\n",
    "    else:\n",
    "        raise ValueError(\"Invalid type specified. Use 'result' or 'data'.\")\n",
    "    \n",
    "\n",
    "\n",
    "df_list = []\n",
    "path = get_saved_data(large_problem_setup, model=\"gat_gen\", type=\"result\")\n",
    "df = pd.read_csv(path)\n",
    "df[\"model\"] = \"General Model\"\n",
    "df[\"dataset\"] = \"Large Problem Setup\"\n",
    "df_list.append(df)\n",
    "\n",
    "path = get_saved_data(small_problem_setup, model=\"gat_gen\", type=\"result\")\n",
    "df = pd.read_csv(path)\n",
    "df[\"model\"] = \"General Model\"\n",
    "df[\"dataset\"] = \"Small Problem Setup\"\n",
    "df_list.append(df)\n",
    "\n",
    "path = get_saved_data(small_problem_setup, model=\"gat\", type=\"result\")\n",
    "df = pd.read_csv(path)\n",
    "df[\"model\"] = \"Specific Model (Small)\"\n",
    "df[\"dataset\"] = \"Small Problem Setup\"\n",
    "df_list.append(df)\n",
    "\n",
    "path = get_saved_data(large_problem_setup, model=\"gat\", type=\"result\")\n",
    "df = pd.read_csv(path)\n",
    "df[\"model\"] = \"Specific Model (Large)\"\n",
    "df[\"dataset\"] = \"Large Problem Setup\"\n",
    "df_list.append(df)\n",
    "\n",
    "MERGED_DF = pd.concat(df_list, ignore_index=True)\n",
    "\n",
    "# Group and aggregate\n",
    "agg_df = MERGED_DF.groupby([\"dataset\", \"model\"]).agg({\n",
    "    \"mission_time\": lambda x: round(x.mean(), 2),\n",
    "    \"runtime\": lambda x: round(x.mean(), 6)\n",
    "})\n",
    "\n",
    "# Format values as strings\n",
    "agg_df[\"result\"] = agg_df.apply(\n",
    "    lambda row: f\"mission time: {row['mission_time']}s runtime: {row['runtime']}s\", axis=1\n",
    ")\n",
    "\n",
    "# Pivot into final table format\n",
    "pivot_df = agg_df[\"result\"].unstack(fill_value=\"NA\")\n",
    "\n",
    "# Reorder rows and columns\n",
    "row_order = [\"Large Problem Setup\", \"Small Problem Setup\"]\n",
    "col_order = [\"General Model\", \"Specific Model (Small)\", \"Specific Model (Large)\"]\n",
    "pivot_df = pivot_df.reindex(index=row_order, columns=col_order)\n",
    "pivot_df"
   ]
  },
  {
   "cell_type": "code",
   "execution_count": 3,
   "id": "fa7e0171",
   "metadata": {},
   "outputs": [],
   "source": [
    "def visualize_action(setup, model, exp_num=1, ax=None):\n",
    "    task_agent_dislvl = []\n",
    "    for attr in [\"max_num_task\", \"max_num_agent\", \"max_discretize_level\", ]:\n",
    "        if hasattr(setup, attr):\n",
    "            task_agent_dislvl.append(getattr(setup, attr))\n",
    "        else:\n",
    "            task_agent_dislvl.append(getattr(setup, attr[4:]))\n",
    "    num_task, num_agent, discretize_level = task_agent_dislvl\n",
    "    \n",
    "    generator = get_generator(5)(\n",
    "        num_node=setup.num_node,\n",
    "        min_num_task=num_task,\n",
    "        max_num_task=num_task,\n",
    "        min_discretize_level=discretize_level,\n",
    "        max_discretize_level=discretize_level,\n",
    "        min_num_agent=num_agent,\n",
    "        max_num_agent=num_agent,\n",
    "        seed=setup.seed,\n",
    "    )\n",
    "    env = get_env(5)(generator)\n",
    "\n",
    "    path = get_saved_data(setup, model, type=\"result\")\n",
    "    df = pd.read_csv(path).iloc[exp_num]\n",
    "    action_str = df[\"tour\"]\n",
    "    action = np.array([int(x) for x in action_str.strip('[]').split(',')])\n",
    "\n",
    "    # Convert action to specific action for small problem setup\n",
    "\n",
    "    if setup == small_problem_setup and model == \"gat_gen\":\n",
    "        print(f\"Action: {action}\")\n",
    "        genaction2specificaction = [0]\n",
    "        for d in range(discretize_level):\n",
    "            for t in range(num_task):\n",
    "                genaction2specificaction.append(t+1)\n",
    "        for _ in range(large_problem_setup.num_node-small_problem_setup.num_node):\n",
    "            genaction2specificaction.append(0)\n",
    "        for a in range(num_agent):\n",
    "            offset = num_task + 1\n",
    "            genaction2specificaction.append(offset + a)\n",
    "        for _ in range(large_problem_setup.max_num_agent - small_problem_setup.num_agent):\n",
    "            genaction2specificaction.append(0)\n",
    "        print(f\"genaction2specificaction: {genaction2specificaction}\")\n",
    "        action = np.array([genaction2specificaction[a] for a in action])\n",
    "        print(f\"Action: {action}\")\n",
    "    visualize_task_not_splitted = True\n",
    "    reward = df[\"mission_time\"]\n",
    "    path = get_saved_data(setup, model, type=\"data\")\n",
    "    td = env.load_data(path, batch_size=setup.batch_size)\n",
    "    env.render(\n",
    "        td[exp_num], action, reward=reward, visualize_task_not_splitted=visualize_task_not_splitted, ax=ax\n",
    "    )"
   ]
  },
  {
   "cell_type": "code",
   "execution_count": 4,
   "id": "b5dd77d5",
   "metadata": {},
   "outputs": [
    {
     "name": "stderr",
     "output_type": "stream",
     "text": [
      "/Users/ekwan/graph-attention-replanner/.venv/lib/python3.10/site-packages/torchrl/data/tensor_specs.py:6911: DeprecationWarning: The BoundedTensorSpec has been deprecated and will be removed in v0.8. Please use Bounded instead.\n",
      "  warnings.warn(\n",
      "/Users/ekwan/graph-attention-replanner/.venv/lib/python3.10/site-packages/torchrl/data/tensor_specs.py:6911: DeprecationWarning: The UnboundedDiscreteTensorSpec has been deprecated and will be removed in v0.8. Please use Unbounded instead.\n",
      "  warnings.warn(\n",
      "/Users/ekwan/graph-attention-replanner/.venv/lib/python3.10/site-packages/torchrl/data/tensor_specs.py:6911: DeprecationWarning: The UnboundedContinuousTensorSpec has been deprecated and will be removed in v0.8. Please use Unbounded instead.\n",
      "  warnings.warn(\n",
      "/Users/ekwan/graph-attention-replanner/.venv/lib/python3.10/site-packages/torchrl/data/tensor_specs.py:6911: DeprecationWarning: The CompositeSpec has been deprecated and will be removed in v0.8. Please use Composite instead.\n",
      "  warnings.warn(\n",
      "/Users/ekwan/graph-attention-replanner/.venv/lib/python3.10/site-packages/torchrl/data/tensor_specs.py:6911: DeprecationWarning: The BoundedTensorSpec has been deprecated and will be removed in v0.8. Please use Bounded instead.\n",
      "  warnings.warn(\n",
      "/Users/ekwan/graph-attention-replanner/.venv/lib/python3.10/site-packages/torchrl/data/tensor_specs.py:6911: DeprecationWarning: The UnboundedDiscreteTensorSpec has been deprecated and will be removed in v0.8. Please use Unbounded instead.\n",
      "  warnings.warn(\n",
      "/Users/ekwan/graph-attention-replanner/.venv/lib/python3.10/site-packages/torchrl/data/tensor_specs.py:6911: DeprecationWarning: The UnboundedContinuousTensorSpec has been deprecated and will be removed in v0.8. Please use Unbounded instead.\n",
      "  warnings.warn(\n",
      "/Users/ekwan/graph-attention-replanner/.venv/lib/python3.10/site-packages/torchrl/data/tensor_specs.py:6911: DeprecationWarning: The CompositeSpec has been deprecated and will be removed in v0.8. Please use Composite instead.\n",
      "  warnings.warn(\n",
      "/Users/ekwan/graph-attention-replanner/.venv/lib/python3.10/site-packages/torchrl/data/tensor_specs.py:6911: DeprecationWarning: The BoundedTensorSpec has been deprecated and will be removed in v0.8. Please use Bounded instead.\n",
      "  warnings.warn(\n",
      "/Users/ekwan/graph-attention-replanner/.venv/lib/python3.10/site-packages/torchrl/data/tensor_specs.py:6911: DeprecationWarning: The UnboundedDiscreteTensorSpec has been deprecated and will be removed in v0.8. Please use Unbounded instead.\n",
      "  warnings.warn(\n",
      "/Users/ekwan/graph-attention-replanner/.venv/lib/python3.10/site-packages/torchrl/data/tensor_specs.py:6911: DeprecationWarning: The UnboundedContinuousTensorSpec has been deprecated and will be removed in v0.8. Please use Unbounded instead.\n",
      "  warnings.warn(\n",
      "/Users/ekwan/graph-attention-replanner/.venv/lib/python3.10/site-packages/torchrl/data/tensor_specs.py:6911: DeprecationWarning: The CompositeSpec has been deprecated and will be removed in v0.8. Please use Composite instead.\n",
      "  warnings.warn(\n"
     ]
    },
    {
     "name": "stdout",
     "output_type": "stream",
     "text": [
      "Action: [25  3  6  2  5  7  8  9 10 11 12 13 14 15 16 17 18 19 20 21 22 23 24  1\n",
      "  4  0  0  0  0  0]\n",
      "genaction2specificaction: [0, 1, 2, 3, 1, 2, 3, 0, 0, 0, 0, 0, 0, 0, 0, 0, 0, 0, 0, 0, 0, 0, 0, 0, 0, 4, 5, 6, 0, 0, 0]\n",
      "Action: [4 3 3 2 2 0 0 0 0 0 0 0 0 0 0 0 0 0 0 0 0 0 0 1 1 0 0 0 0 0]\n"
     ]
    },
    {
     "name": "stderr",
     "output_type": "stream",
     "text": [
      "/Users/ekwan/graph-attention-replanner/.venv/lib/python3.10/site-packages/torchrl/data/tensor_specs.py:6911: DeprecationWarning: The BoundedTensorSpec has been deprecated and will be removed in v0.8. Please use Bounded instead.\n",
      "  warnings.warn(\n",
      "/Users/ekwan/graph-attention-replanner/.venv/lib/python3.10/site-packages/torchrl/data/tensor_specs.py:6911: DeprecationWarning: The UnboundedDiscreteTensorSpec has been deprecated and will be removed in v0.8. Please use Unbounded instead.\n",
      "  warnings.warn(\n",
      "/Users/ekwan/graph-attention-replanner/.venv/lib/python3.10/site-packages/torchrl/data/tensor_specs.py:6911: DeprecationWarning: The UnboundedContinuousTensorSpec has been deprecated and will be removed in v0.8. Please use Unbounded instead.\n",
      "  warnings.warn(\n",
      "/Users/ekwan/graph-attention-replanner/.venv/lib/python3.10/site-packages/torchrl/data/tensor_specs.py:6911: DeprecationWarning: The CompositeSpec has been deprecated and will be removed in v0.8. Please use Composite instead.\n",
      "  warnings.warn(\n"
     ]
    },
    {
     "data": {
      "image/png": "[encoded data removed]",
      "text/plain": [
       "<Figure size 1200x800 with 6 Axes>"
      ]
     },
     "metadata": {},
     "output_type": "display_data"
    }
   ],
   "source": [
    "fig, ax = plt.subplots(2, 3, figsize=(12,8))\n",
    "ax[0,1].axis('off')\n",
    "ax[1,2].axis('off')\n",
    "visualize_action(large_problem_setup, \"gat_gen\", ax=ax[0, 0])\n",
    "visualize_action(small_problem_setup, \"gat_gen\", ax=ax[1, 0])\n",
    "visualize_action(small_problem_setup, \"gat\", ax=ax[1, 1])\n",
    "visualize_action(large_problem_setup, \"gat\", ax=ax[0, 2])\n"
   ]
  }
 ],
 "metadata": {
  "kernelspec": {
   "display_name": ".venv",
   "language": "python",
   "name": "python3"
  },
  "language_info": {
   "codemirror_mode": {
    "name": "ipython",
    "version": 3
   },
   "file_extension": ".py",
   "mimetype": "text/x-python",
   "name": "python",
   "nbconvert_exporter": "python",
   "pygments_lexer": "ipython3",
   "version": "3.10.13"
  }
 },
 "nbformat": 4,
 "nbformat_minor": 5
}
