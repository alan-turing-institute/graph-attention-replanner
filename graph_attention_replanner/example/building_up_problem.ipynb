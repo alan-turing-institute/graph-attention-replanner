{
 "cells": [
  {
   "cell_type": "markdown",
   "id": "ccfcfe06",
   "metadata": {},
   "source": [
    "# Building up to the Cooperative Mission Replanning Problem (CMRP)\n",
    "\n",
    "This notebook shows us how to progressively build up to our full problem CMRP from multiple Traveling Salesman Problem(mTSP)."
   ]
  },
  {
   "cell_type": "code",
   "execution_count": 1,
   "id": "24ad5d73",
   "metadata": {},
   "outputs": [],
   "source": [
    "import os\n",
    "from types import SimpleNamespace\n",
    "import pandas as pd\n",
    "import numpy as np\n",
    "import matplotlib.pyplot as plt\n",
    "from graph_attention_replanner.config import (\n",
    "    LogFileConfig,\n",
    "    get_generator,\n",
    "    get_env,\n",
    ")\n",
    "\n",
    "base_problem_setup_dict = {\n",
    "    \"num_task\": 3,\n",
    "    \"num_agent\": 3,\n",
    "    \"discretize_level\": 2,\n",
    "    \"batch_size\": 10,\n",
    "    \"seed\": 0\n",
    "}\n",
    "base_problem_setup = SimpleNamespace(**base_problem_setup_dict)"
   ]
  },
  {
   "cell_type": "markdown",
   "id": "dbccdbfa",
   "metadata": {},
   "source": [
    "# Training\n",
    "Here, we try to train 2 models:\n",
    "- One that can handle a single mTSP problem with 3 tasks and 3 agents.\n",
    "- One that can handle a CMRP problem with 3 tasks and 3 agents, and discretization level of 2."
   ]
  },
  {
   "cell_type": "code",
   "execution_count": null,
   "id": "be7623de",
   "metadata": {},
   "outputs": [
    {
     "name": "stdout",
     "output_type": "stream",
     "text": [
      "WARNING: Number of agent is set to 3. Igoring min_num_agent and max_num_agent.\n",
      "WARNING: Number of task is set to 3. Igoring min_num_task and max_num_task.\n",
      "WARNING: Discretize level is set to 1. Igoring min_discretize_level and max_discretize_level.\n",
      "{'mtsp_problem_type': 1, 'num_node': 3, 'exact_num_node': False, 'num_task': 3, 'min_num_task': 3, 'max_num_task': 3, 'discretize_level': 1, 'min_discretize_level': 1, 'max_discretize_level': 1, 'num_agent': 3, 'min_num_agent': 3, 'max_num_agent': 3, 'batch_size': 10, 'device_id': 0, 'seed': 0, 'num_exp': 1, 'embed_dim': 128, 'num_encoder_layers': 8, 'num_heads': 4, 'train_data_size': 1000, 'val_data_size': 100, 'learning_rate': 1e-05, 'max_epochs': 1, 'algo': 'reinforce', 'disable_wandb': True}\n"
     ]
    },
    {
     "name": "stderr",
     "output_type": "stream",
     "text": [
      "Seed set to 0\n",
      "/Users/ekwan/graph-attention-replanner/.venv/lib/python3.10/site-packages/torchrl/data/tensor_specs.py:6911: DeprecationWarning: The BoundedTensorSpec has been deprecated and will be removed in v0.8. Please use Bounded instead.\n",
      "  warnings.warn(\n",
      "/Users/ekwan/graph-attention-replanner/.venv/lib/python3.10/site-packages/torchrl/data/tensor_specs.py:6911: DeprecationWarning: The UnboundedDiscreteTensorSpec has been deprecated and will be removed in v0.8. Please use Unbounded instead.\n",
      "  warnings.warn(\n",
      "/Users/ekwan/graph-attention-replanner/.venv/lib/python3.10/site-packages/torchrl/data/tensor_specs.py:6911: DeprecationWarning: The UnboundedContinuousTensorSpec has been deprecated and will be removed in v0.8. Please use Unbounded instead.\n",
      "  warnings.warn(\n",
      "/Users/ekwan/graph-attention-replanner/.venv/lib/python3.10/site-packages/torchrl/data/tensor_specs.py:6911: DeprecationWarning: The CompositeSpec has been deprecated and will be removed in v0.8. Please use Composite instead.\n",
      "  warnings.warn(\n",
      "/Users/ekwan/graph-attention-replanner/.venv/lib/python3.10/site-packages/lightning/pytorch/utilities/parsing.py:209: Attribute 'env' is an instance of `nn.Module` and is already saved during checkpointing. It is recommended to ignore them using `self.save_hyperparameters(ignore=['env'])`.\n",
      "/Users/ekwan/graph-attention-replanner/.venv/lib/python3.10/site-packages/lightning/pytorch/utilities/parsing.py:209: Attribute 'policy' is an instance of `nn.Module` and is already saved during checkpointing. It is recommended to ignore them using `self.save_hyperparameters(ignore=['policy'])`.\n",
      "Using 16bit Automatic Mixed Precision (AMP)\n",
      "/Users/ekwan/graph-attention-replanner/.venv/lib/python3.10/site-packages/torch/amp/grad_scaler.py:136: UserWarning: torch.cuda.amp.GradScaler is enabled, but CUDA is not available.  Disabling.\n",
      "  warnings.warn(\n",
      "Trainer already configured with model summary callbacks: [<class 'lightning.pytorch.callbacks.rich_model_summary.RichModelSummary'>]. Skipping setting a default `ModelSummary` callback.\n",
      "GPU available: True (mps), used: True\n",
      "TPU available: False, using: 0 TPU cores\n",
      "HPU available: False, using: 0 HPUs\n",
      "/Users/ekwan/graph-attention-replanner/.venv/lib/python3.10/site-packages/lightning/pytorch/trainer/connectors/logger_connector/logger_connector.py:76: Starting from v1.9.0, `tensorboardX` has been removed as a dependency of the `lightning.pytorch` package, due to potential conflicts with other packages in the ML ecosystem. For this reason, `logger=True` will use `CSVLogger` as the default logger, unless the `tensorboard` or `tensorboardX` packages are found. Please `pip install lightning[extra]` or one of them to enable TensorBoard support by default\n",
      "val_file not set. Generating dataset instead\n",
      "test_file not set. Generating dataset instead\n",
      "/Users/ekwan/graph-attention-replanner/.venv/lib/python3.10/site-packages/torchrl/data/tensor_specs.py:6911: DeprecationWarning: The CompositeSpec has been deprecated and will be removed in v0.8. Please use Composite instead.\n",
      "  warnings.warn(\n"
     ]
    },
    {
     "name": "stdout",
     "output_type": "stream",
     "text": [
      "┏━━━━┳━━━━━━━━━━━━━━━━━━━━━━━━━━━━━━━━━━━━━━━━┳━━━━━━━━━━━━━━━┳━━━━━━━━┳━━━━━━━┓\n",
      "┃\u001b[1;35m \u001b[0m\u001b[1;35m  \u001b[0m\u001b[1;35m \u001b[0m┃\u001b[1;35m \u001b[0m\u001b[1;35mName                                  \u001b[0m\u001b[1;35m \u001b[0m┃\u001b[1;35m \u001b[0m\u001b[1;35mType         \u001b[0m\u001b[1;35m \u001b[0m┃\u001b[1;35m \u001b[0m\u001b[1;35mParams\u001b[0m\u001b[1;35m \u001b[0m┃\u001b[1;35m \u001b[0m\u001b[1;35mMode \u001b[0m\u001b[1;35m \u001b[0m┃\n",
      "┡━━━━╇━━━━━━━━━━━━━━━━━━━━━━━━━━━━━━━━━━━━━━━━╇━━━━━━━━━━━━━━━╇━━━━━━━━╇━━━━━━━┩\n",
      "│\u001b[2m \u001b[0m\u001b[2m0 \u001b[0m\u001b[2m \u001b[0m│ env                                    │ MTSPEnv_Type1 │      0 │ train │\n",
      "│\u001b[2m \u001b[0m\u001b[2m1 \u001b[0m\u001b[2m \u001b[0m│ policy                                 │ AttentionMod… │  1.7 M │ train │\n",
      "│\u001b[2m \u001b[0m\u001b[2m2 \u001b[0m\u001b[2m \u001b[0m│ policy.encoder                         │ AttentionMod… │  1.6 M │ train │\n",
      "│\u001b[2m \u001b[0m\u001b[2m3 \u001b[0m\u001b[2m \u001b[0m│ policy.encoder.init_embedding          │ MTSPInitEmbe… │    768 │ train │\n",
      "│\u001b[2m \u001b[0m\u001b[2m4 \u001b[0m\u001b[2m \u001b[0m│ policy.encoder.net                     │ GraphAttenti… │  1.6 M │ train │\n",
      "│\u001b[2m \u001b[0m\u001b[2m5 \u001b[0m\u001b[2m \u001b[0m│ policy.decoder                         │ AttentionMod… │  115 K │ train │\n",
      "│\u001b[2m \u001b[0m\u001b[2m6 \u001b[0m\u001b[2m \u001b[0m│ policy.decoder.context_embedding       │ MTSPContext   │ 33.3 K │ train │\n",
      "│\u001b[2m \u001b[0m\u001b[2m7 \u001b[0m\u001b[2m \u001b[0m│ policy.decoder.dynamic_embedding       │ StaticEmbedd… │      0 │ train │\n",
      "│\u001b[2m \u001b[0m\u001b[2m8 \u001b[0m\u001b[2m \u001b[0m│ policy.decoder.pointer                 │ PointerAtten… │ 16.4 K │ train │\n",
      "│\u001b[2m \u001b[0m\u001b[2m9 \u001b[0m\u001b[2m \u001b[0m│ policy.decoder.project_node_embeddings │ Linear        │ 49.2 K │ train │\n",
      "│\u001b[2m \u001b[0m\u001b[2m10\u001b[0m\u001b[2m \u001b[0m│ policy.decoder.project_fixed_context   �� Linear        │ 16.4 K │ train │\n",
      "│\u001b[2m \u001b[0m\u001b[2m11\u001b[0m\u001b[2m \u001b[0m│ baseline                               │ WarmupBaseli… │  1.7 M │ train │\n",
      "│\u001b[2m \u001b[0m\u001b[2m12\u001b[0m\u001b[2m \u001b[0m│ baseline.baseline                      │ RolloutBasel… │  1.7 M │ train │\n",
      "│\u001b[2m \u001b[0m\u001b[2m13\u001b[0m\u001b[2m \u001b[0m│ baseline.baseline.policy               │ AttentionMod… │  1.7 M │ eval  │\n",
      "│\u001b[2m \u001b[0m\u001b[2m14\u001b[0m\u001b[2m \u001b[0m│ baseline.warmup_baseline               │ ExponentialB… │      0 │ train │\n",
      "└────┴────────────────────────────────────────┴───────────────┴────────┴───────┘\n",
      "\u001b[1mTrainable params\u001b[0m: 3.4 M                                                         \n",
      "\u001b[1mNon-trainable params\u001b[0m: 0                                                         \n",
      "\u001b[1mTotal params\u001b[0m: 3.4 M                                                             \n",
      "\u001b[1mTotal estimated model params size (MB)\u001b[0m: 13                                      \n",
      "\u001b[1mModules in train mode\u001b[0m: 164                                                      \n",
      "\u001b[1mModules in eval mode\u001b[0m: 160                                                       \n",
      "Epoch 0:   0%|          | 0/100 [00:00<?, ?it/s]                           "
     ]
    },
    {
     "name": "stderr",
     "output_type": "stream",
     "text": [
      "/Users/ekwan/graph-attention-replanner/.venv/lib/python3.10/site-packages/lightning/pytorch/trainer/connectors/data_connector.py:425: The 'val_dataloader' does not have many workers which may be a bottleneck. Consider increasing the value of the `num_workers` argument` to `num_workers=9` in the `DataLoader` to improve performance.\n",
      "/Users/ekwan/graph-attention-replanner/.venv/lib/python3.10/site-packages/torch/amp/autocast_mode.py:266: UserWarning: User provided device_type of 'cuda', but CUDA is not available. Disabling\n",
      "  warnings.warn(\n",
      "/Users/ekwan/graph-attention-replanner/.venv/lib/python3.10/site-packages/lightning/pytorch/trainer/connectors/data_connector.py:425: The 'train_dataloader' does not have many workers which may be a bottleneck. Consider increasing the value of the `num_workers` argument` to `num_workers=9` in the `DataLoader` to improve performance.\n"
     ]
    },
    {
     "name": "stdout",
     "output_type": "stream",
     "text": [
      "Epoch 0: 100%|██████████| 100/100 [00:14<00:00,  6.68it/s, v_num=12, train/reward=-13.2, train/loss=6.430] \n",
      "Validation: |          | 0/? [00:00<?, ?it/s]\u001b[A\n",
      "Validation:   0%|          | 0/10 [00:00<?, ?it/s]\u001b[A\n",
      "Validation DataLoader 0:   0%|          | 0/10 [00:00<?, ?it/s]\u001b[A\n",
      "Validation DataLoader 0:  10%|█         | 1/10 [00:00<00:00, 26.78it/s]\u001b[A\n",
      "Validation DataLoader 0:  20%|██        | 2/10 [00:00<00:00, 27.16it/s]\u001b[A\n",
      "Validation DataLoader 0:  30%|███       | 3/10 [00:00<00:00, 26.93it/s]\u001b[A\n",
      "Validation DataLoader 0:  40%|████      | 4/10 [00:00<00:00, 26.26it/s]\u001b[A\n",
      "Validation DataLoader 0:  50%|█████     | 5/10 [00:00<00:00, 26.56it/s]\u001b[A\n",
      "Validation DataLoader 0:  60%|██████    | 6/10 [00:00<00:00, 26.78it/s]\u001b[A\n",
      "Validation DataLoader 0:  70%|███████   | 7/10 [00:00<00:00, 26.74it/s]\u001b[A\n",
      "Validation DataLoader 0:  80%|████████  | 8/10 [00:00<00:00, 26.76it/s]\u001b[A\n",
      "Validation DataLoader 0:  90%|█████████ | 9/10 [00:00<00:00, 26.40it/s]\u001b[A\n",
      "Validation DataLoader 0: 100%|██████████| 10/10 [00:00<00:00, 26.42it/s]\u001b[A\n",
      "Epoch 0: 100%|██████████| 100/100 [00:15<00:00,  6.50it/s, v_num=12, train/reward=-13.2, train/loss=6.430, val/reward=-14.5]"
     ]
    },
    {
     "name": "stderr",
     "output_type": "stream",
     "text": [
      "`Trainer.fit` stopped: `max_epochs=1` reached.\n"
     ]
    },
    {
     "name": "stdout",
     "output_type": "stream",
     "text": [
      "Epoch 0: 100%|██████████| 100/100 [00:16<00:00,  6.12it/s, v_num=12, train/reward=-13.2, train/loss=6.430, val/reward=-14.5]\n"
     ]
    },
    {
     "data": {
      "text/plain": [
       "0"
      ]
     },
     "execution_count": 5,
     "metadata": {},
     "output_type": "execute_result"
    }
   ],
   "source": [
    "os.system(f\"python ../method/gat/train.py --num_task {base_problem_setup.num_task} --num_agent {base_problem_setup.num_agent} --num_node {base_problem_setup.num_task} --discretize_level 1 --mtsp_problem_type 1  --batch_size {base_problem_setup.batch_size} --train_data_size 1000 --val_data_size 100 --max_epochs 1 --seed {base_problem_setup.seed} --disable_wandb\")"
   ]
  },
  {
   "cell_type": "code",
   "execution_count": 6,
   "id": "fa37f382",
   "metadata": {},
   "outputs": [
    {
     "name": "stdout",
     "output_type": "stream",
     "text": [
      "WARNING: Number of agent is set to 3. Igoring min_num_agent and max_num_agent.\n",
      "WARNING: Number of task is set to 3. Igoring min_num_task and max_num_task.\n",
      "WARNING: Discretize level is set to 2. Igoring min_discretize_level and max_discretize_level.\n",
      "{'mtsp_problem_type': 5, 'num_node': 6, 'exact_num_node': False, 'num_task': 3, 'min_num_task': 3, 'max_num_task': 3, 'discretize_level': 2, 'min_discretize_level': 2, 'max_discretize_level': 2, 'num_agent': 3, 'min_num_agent': 3, 'max_num_agent': 3, 'batch_size': 10, 'device_id': 0, 'seed': 0, 'num_exp': 1, 'embed_dim': 128, 'num_encoder_layers': 8, 'num_heads': 4, 'train_data_size': 1000, 'val_data_size': 100, 'learning_rate': 1e-05, 'max_epochs': 1, 'algo': 'reinforce', 'disable_wandb': True}\n"
     ]
    },
    {
     "name": "stderr",
     "output_type": "stream",
     "text": [
      "Seed set to 0\n",
      "/Users/ekwan/graph-attention-replanner/.venv/lib/python3.10/site-packages/torchrl/data/tensor_specs.py:6911: DeprecationWarning: The BoundedTensorSpec has been deprecated and will be removed in v0.8. Please use Bounded instead.\n",
      "  warnings.warn(\n",
      "/Users/ekwan/graph-attention-replanner/.venv/lib/python3.10/site-packages/torchrl/data/tensor_specs.py:6911: DeprecationWarning: The UnboundedDiscreteTensorSpec has been deprecated and will be removed in v0.8. Please use Unbounded instead.\n",
      "  warnings.warn(\n",
      "/Users/ekwan/graph-attention-replanner/.venv/lib/python3.10/site-packages/torchrl/data/tensor_specs.py:6911: DeprecationWarning: The UnboundedContinuousTensorSpec has been deprecated and will be removed in v0.8. Please use Unbounded instead.\n",
      "  warnings.warn(\n",
      "/Users/ekwan/graph-attention-replanner/.venv/lib/python3.10/site-packages/torchrl/data/tensor_specs.py:6911: DeprecationWarning: The CompositeSpec has been deprecated and will be removed in v0.8. Please use Composite instead.\n",
      "  warnings.warn(\n",
      "/Users/ekwan/graph-attention-replanner/.venv/lib/python3.10/site-packages/lightning/pytorch/utilities/parsing.py:209: Attribute 'env' is an instance of `nn.Module` and is already saved during checkpointing. It is recommended to ignore them using `self.save_hyperparameters(ignore=['env'])`.\n",
      "/Users/ekwan/graph-attention-replanner/.venv/lib/python3.10/site-packages/lightning/pytorch/utilities/parsing.py:209: Attribute 'policy' is an instance of `nn.Module` and is already saved during checkpointing. It is recommended to ignore them using `self.save_hyperparameters(ignore=['policy'])`.\n",
      "Using 16bit Automatic Mixed Precision (AMP)\n",
      "/Users/ekwan/graph-attention-replanner/.venv/lib/python3.10/site-packages/torch/amp/grad_scaler.py:136: UserWarning: torch.cuda.amp.GradScaler is enabled, but CUDA is not available.  Disabling.\n",
      "  warnings.warn(\n",
      "Trainer already configured with model summary callbacks: [<class 'lightning.pytorch.callbacks.rich_model_summary.RichModelSummary'>]. Skipping setting a default `ModelSummary` callback.\n",
      "GPU available: True (mps), used: True\n",
      "TPU available: False, using: 0 TPU cores\n",
      "HPU available: False, using: 0 HPUs\n",
      "/Users/ekwan/graph-attention-replanner/.venv/lib/python3.10/site-packages/lightning/pytorch/trainer/connectors/logger_connector/logger_connector.py:76: Starting from v1.9.0, `tensorboardX` has been removed as a dependency of the `lightning.pytorch` package, due to potential conflicts with other packages in the ML ecosystem. For this reason, `logger=True` will use `CSVLogger` as the default logger, unless the `tensorboard` or `tensorboardX` packages are found. Please `pip install lightning[extra]` or one of them to enable TensorBoard support by default\n",
      "val_file not set. Generating dataset instead\n",
      "test_file not set. Generating dataset instead\n",
      "/Users/ekwan/graph-attention-replanner/.venv/lib/python3.10/site-packages/torchrl/data/tensor_specs.py:6911: DeprecationWarning: The CompositeSpec has been deprecated and will be removed in v0.8. Please use Composite instead.\n",
      "  warnings.warn(\n"
     ]
    },
    {
     "name": "stdout",
     "output_type": "stream",
     "text": [
      "┏━━━━┳━━━━━━━━━━━━━━━━━━━━━━━━━━━━━━━━━━━━━━━━┳━━━━━━━━━━━━━━━┳━━━━━━━━┳━━━━━━━┓\n",
      "┃\u001b[1;35m \u001b[0m\u001b[1;35m  \u001b[0m\u001b[1;35m \u001b[0m┃\u001b[1;35m \u001b[0m\u001b[1;35mName                                  \u001b[0m\u001b[1;35m \u001b[0m┃\u001b[1;35m \u001b[0m\u001b[1;35mType         \u001b[0m\u001b[1;35m \u001b[0m┃\u001b[1;35m \u001b[0m\u001b[1;35mParams\u001b[0m\u001b[1;35m \u001b[0m┃\u001b[1;35m \u001b[0m\u001b[1;35mMode \u001b[0m\u001b[1;35m \u001b[0m┃\n",
      "┡━━━━╇━━━━━━━━━━━━━━━━━━━━━━━━━━━━━━━━━━━━━━━━╇━━━━━━━━━━━━━━━╇━━━━━━━━╇━━━━━━━┩\n",
      "│\u001b[2m \u001b[0m\u001b[2m0 \u001b[0m\u001b[2m \u001b[0m│ env                                    │ MTSPEnv_Type5 │      0 │ train │\n",
      "│\u001b[2m \u001b[0m\u001b[2m1 \u001b[0m\u001b[2m \u001b[0m│ policy                                 │ AttentionMod… │  1.7 M │ train │\n",
      "│\u001b[2m \u001b[0m\u001b[2m2 \u001b[0m\u001b[2m \u001b[0m│ policy.encoder                         │ AttentionMod… │  1.6 M │ train │\n",
      "│\u001b[2m \u001b[0m\u001b[2m3 \u001b[0m\u001b[2m \u001b[0m│ policy.encoder.init_embedding          │ MTSPwithTLIn… │    896 │ train │\n",
      "│\u001b[2m \u001b[0m\u001b[2m4 \u001b[0m\u001b[2m \u001b[0m│ policy.encoder.net                     │ GraphAttenti… │  1.6 M │ train │\n",
      "│\u001b[2m \u001b[0m\u001b[2m5 \u001b[0m\u001b[2m \u001b[0m│ policy.decoder                         │ AttentionMod… │  115 K │ train │\n",
      "│\u001b[2m \u001b[0m\u001b[2m6 \u001b[0m\u001b[2m \u001b[0m│ policy.decoder.context_embedding       │ MTSPContext   │ 33.3 K │ train │\n",
      "│\u001b[2m \u001b[0m\u001b[2m7 \u001b[0m\u001b[2m \u001b[0m│ policy.decoder.dynamic_embedding       │ StaticEmbedd… │      0 │ train │\n",
      "│\u001b[2m \u001b[0m\u001b[2m8 \u001b[0m\u001b[2m \u001b[0m│ policy.decoder.pointer                 │ PointerAtten… │ 16.4 K │ train │\n",
      "│\u001b[2m \u001b[0m\u001b[2m9 \u001b[0m\u001b[2m \u001b[0m│ policy.decoder.project_node_embeddings │ Linear        │ 49.2 K │ train │\n",
      "│\u001b[2m \u001b[0m\u001b[2m10\u001b[0m\u001b[2m \u001b[0m│ policy.decoder.project_fixed_context   �� Linear        │ 16.4 K │ train │\n",
      "│\u001b[2m \u001b[0m\u001b[2m11\u001b[0m\u001b[2m \u001b[0m│ baseline                               │ WarmupBaseli… │  1.7 M │ train │\n",
      "│\u001b[2m \u001b[0m\u001b[2m12\u001b[0m\u001b[2m \u001b[0m│ baseline.baseline                      │ RolloutBasel… │  1.7 M │ train │\n",
      "│\u001b[2m \u001b[0m\u001b[2m13\u001b[0m\u001b[2m \u001b[0m│ baseline.baseline.policy               │ AttentionMod… │  1.7 M │ eval  │\n",
      "│\u001b[2m \u001b[0m\u001b[2m14\u001b[0m\u001b[2m \u001b[0m│ baseline.warmup_baseline               │ ExponentialB… │      0 │ train │\n",
      "└────┴────────────────────────────────────────┴───────────────┴────────┴───────┘\n",
      "\u001b[1mTrainable params\u001b[0m: 3.4 M                                                         \n",
      "\u001b[1mNon-trainable params\u001b[0m: 0                                                         \n",
      "\u001b[1mTotal params\u001b[0m: 3.4 M                                                             \n",
      "\u001b[1mTotal estimated model params size (MB)\u001b[0m: 13                                      \n",
      "\u001b[1mModules in train mode\u001b[0m: 164                                                      \n",
      "\u001b[1mModules in eval mode\u001b[0m: 160                                                       \n",
      "Sanity Checking DataLoader 0:   0%|          | 0/2 [00:00<?, ?it/s]"
     ]
    },
    {
     "name": "stderr",
     "output_type": "stream",
     "text": [
      "/Users/ekwan/graph-attention-replanner/.venv/lib/python3.10/site-packages/lightning/pytorch/trainer/connectors/data_connector.py:425: The 'val_dataloader' does not have many workers which may be a bottleneck. Consider increasing the value of the `num_workers` argument` to `num_workers=9` in the `DataLoader` to improve performance.\n",
      "/Users/ekwan/graph-attention-replanner/.venv/lib/python3.10/site-packages/torch/amp/autocast_mode.py:266: UserWarning: User provided device_type of 'cuda', but CUDA is not available. Disabling\n",
      "  warnings.warn(\n"
     ]
    },
    {
     "name": "stdout",
     "output_type": "stream",
     "text": [
      "Epoch 0:   0%|          | 0/100 [00:00<?, ?it/s]                           "
     ]
    },
    {
     "name": "stderr",
     "output_type": "stream",
     "text": [
      "/Users/ekwan/graph-attention-replanner/.venv/lib/python3.10/site-packages/lightning/pytorch/trainer/connectors/data_connector.py:425: The 'train_dataloader' does not have many workers which may be a bottleneck. Consider increasing the value of the `num_workers` argument` to `num_workers=9` in the `DataLoader` to improve performance.\n"
     ]
    },
    {
     "name": "stdout",
     "output_type": "stream",
     "text": [
      "Epoch 0: 100%|██████████| 100/100 [00:36<00:00,  2.71it/s, v_num=13, train/reward=-31.1, train/loss=-5.33]\n",
      "Validation: |          | 0/? [00:00<?, ?it/s]\u001b[A\n",
      "Validation:   0%|          | 0/10 [00:00<?, ?it/s]\u001b[A\n",
      "Validation DataLoader 0:   0%|          | 0/10 [00:00<?, ?it/s]\u001b[A\n",
      "Validation DataLoader 0:  10%|█         | 1/10 [00:00<00:02,  4.30it/s]\u001b[A\n",
      "Validation DataLoader 0:  20%|██        | 2/10 [00:00<00:01,  4.27it/s]\u001b[A\n",
      "Validation DataLoader 0:  30%|███       | 3/10 [00:00<00:01,  4.43it/s]\u001b[A\n",
      "Validation DataLoader 0:  40%|████      | 4/10 [00:00<00:01,  4.44it/s]\u001b[A\n",
      "Validation DataLoader 0:  50%|█████     | 5/10 [00:01<00:01,  4.24it/s]\u001b[A\n",
      "Validation DataLoader 0:  60%|██████    | 6/10 [00:01<00:00,  4.16it/s]\u001b[A\n",
      "Validation DataLoader 0:  70%|███████   | 7/10 [00:02<00:00,  3.33it/s]\u001b[A\n",
      "Validation DataLoader 0:  80%|████████  | 8/10 [00:02<00:00,  3.28it/s]\u001b[A\n",
      "Validation DataLoader 0:  90%|█████████ | 9/10 [00:02<00:00,  3.33it/s]\u001b[A\n",
      "Validation DataLoader 0: 100%|██████████| 10/10 [00:02<00:00,  3.39it/s]\u001b[A\n",
      "Epoch 0: 100%|██████████| 100/100 [00:39<00:00,  2.51it/s, v_num=13, train/reward=-31.1, train/loss=-5.33, val/reward=-25.9]"
     ]
    },
    {
     "name": "stderr",
     "output_type": "stream",
     "text": [
      "`Trainer.fit` stopped: `max_epochs=1` reached.\n"
     ]
    },
    {
     "name": "stdout",
     "output_type": "stream",
     "text": [
      "Epoch 0: 100%|██████████| 100/100 [00:44<00:00,  2.23it/s, v_num=13, train/reward=-31.1, train/loss=-5.33, val/reward=-25.9]\n"
     ]
    },
    {
     "data": {
      "text/plain": [
       "0"
      ]
     },
     "execution_count": 6,
     "metadata": {},
     "output_type": "execute_result"
    }
   ],
   "source": [
    "os.system(f\"python ../method/gat/train.py --num_task {base_problem_setup.num_task} --num_agent {base_problem_setup.num_agent} --discretize_level {base_problem_setup.discretize_level} --num_node {base_problem_setup.num_task*base_problem_setup.discretize_level} --mtsp_problem_type 5  --batch_size 10 --train_data_size 1000 --val_data_size 100 --max_epochs 1 --seed {base_problem_setup.seed} --disable_wandb\")"
   ]
  },
  {
   "cell_type": "markdown",
   "id": "6724122b",
   "metadata": {},
   "source": [
    "# Generate Data\n",
    "Generate 1 set of data\n",
    "- 10 instance of CMRPs/mTSP with 3 tasks, 3 agents, (and 2 discretization levels)."
   ]
  },
  {
   "cell_type": "code",
   "execution_count": 4,
   "id": "606bef06",
   "metadata": {},
   "outputs": [
    {
     "name": "stdout",
     "output_type": "stream",
     "text": [
      "WARNING: Number of agent is set to 3. Igoring min_num_agent and max_num_agent.\n",
      "WARNING: Number of task is set to 3. Igoring min_num_task and max_num_task.\n",
      "WARNING: Discretize level is set to 2. Igoring min_discretize_level and max_discretize_level.\n"
     ]
    },
    {
     "name": "stderr",
     "output_type": "stream",
     "text": [
      "/Users/ekwan/graph-attention-replanner/.venv/lib/python3.10/site-packages/torchrl/data/tensor_specs.py:6911: DeprecationWarning: The BoundedTensorSpec has been deprecated and will be removed in v0.8. Please use Bounded instead.\n",
      "  warnings.warn(\n",
      "/Users/ekwan/graph-attention-replanner/.venv/lib/python3.10/site-packages/torchrl/data/tensor_specs.py:6911: DeprecationWarning: The UnboundedDiscreteTensorSpec has been deprecated and will be removed in v0.8. Please use Unbounded instead.\n",
      "  warnings.warn(\n",
      "/Users/ekwan/graph-attention-replanner/.venv/lib/python3.10/site-packages/torchrl/data/tensor_specs.py:6911: DeprecationWarning: The UnboundedContinuousTensorSpec has been deprecated and will be removed in v0.8. Please use Unbounded instead.\n",
      "  warnings.warn(\n",
      "/Users/ekwan/graph-attention-replanner/.venv/lib/python3.10/site-packages/torchrl/data/tensor_specs.py:6911: DeprecationWarning: The CompositeSpec has been deprecated and will be removed in v0.8. Please use Composite instead.\n",
      "  warnings.warn(\n"
     ]
    },
    {
     "data": {
      "text/plain": [
       "0"
      ]
     },
     "execution_count": 4,
     "metadata": {},
     "output_type": "execute_result"
    }
   ],
   "source": [
    "os.system(f\"python ../run/gen_data.py --num_task {base_problem_setup.num_task} --num_agent {base_problem_setup.num_agent} --discretize_level {base_problem_setup.discretize_level} --num_node {base_problem_setup.num_task*base_problem_setup.discretize_level} --mtsp_problem_type 5  --batch_size {base_problem_setup.batch_size} --seed {base_problem_setup.seed}\")"
   ]
  },
  {
   "cell_type": "markdown",
   "id": "002e7048",
   "metadata": {},
   "source": [
    "# Evaluation\n",
    "We will evaulate the 2 models on the dataset we just generated."
   ]
  },
  {
   "cell_type": "code",
   "execution_count": 21,
   "id": "b074d618",
   "metadata": {},
   "outputs": [
    {
     "name": "stdout",
     "output_type": "stream",
     "text": [
      "WARNING: Number of agent is set to 3. Igoring min_num_agent and max_num_agent.\n",
      "WARNING: Number of task is set to 3. Igoring min_num_task and max_num_task.\n",
      "WARNING: Discretize level is set to 2. Igoring min_discretize_level and max_discretize_level.\n",
      "Evaluating model from /Users/ekwan/graph-attention-replanner/cache/checkpoints/algo_reinforce/problem1_node3_task3to3_dislevel1to1_agent3to3_seed0_20250806094013/epoch_epoch=000.ckpt using data from /Users/ekwan/graph-attention-replanner/cache/data/general/problem5_node6_task3to3_dislevel2to2_agent3to3_seed0_bs10.npz and saving results at /Users/ekwan/graph-attention-replanner/cache/results/gat/problem1_node6_task3to3_dislevel2to2_agent3to3_bs10_exp1_dataseed0_methodseed0.csv ...\n"
     ]
    },
    {
     "name": "stderr",
     "output_type": "stream",
     "text": [
      "/Users/ekwan/graph-attention-replanner/.venv/lib/python3.10/site-packages/lightning/pytorch/utilities/parsing.py:209: Attribute 'env' is an instance of `nn.Module` and is already saved during checkpointing. It is recommended to ignore them using `self.save_hyperparameters(ignore=['env'])`.\n",
      "/Users/ekwan/graph-attention-replanner/.venv/lib/python3.10/site-packages/lightning/pytorch/utilities/parsing.py:209: Attribute 'policy' is an instance of `nn.Module` and is already saved during checkpointing. It is recommended to ignore them using `self.save_hyperparameters(ignore=['policy'])`.\n",
      "/Users/ekwan/graph-attention-replanner/.venv/lib/python3.10/site-packages/lightning/pytorch/core/saving.py:195: Found keys that are not in the model state dict but in the checkpoint: ['baseline.baseline.policy.encoder.init_embedding.init_embed.weight', 'baseline.baseline.policy.encoder.init_embedding.init_embed.bias', 'baseline.baseline.policy.encoder.init_embedding.init_embed_depot.weight', 'baseline.baseline.policy.encoder.init_embedding.init_embed_depot.bias', 'baseline.baseline.policy.encoder.net.layers.0.0.module.Wqkv.weight', 'baseline.baseline.policy.encoder.net.layers.0.0.module.Wqkv.bias', 'baseline.baseline.policy.encoder.net.layers.0.0.module.out_proj.weight', 'baseline.baseline.policy.encoder.net.layers.0.0.module.out_proj.bias', 'baseline.baseline.policy.encoder.net.layers.0.1.normalizer.weight', 'baseline.baseline.policy.encoder.net.layers.0.1.normalizer.bias', 'baseline.baseline.policy.encoder.net.layers.0.1.normalizer.running_mean', 'baseline.baseline.policy.encoder.net.layers.0.1.normalizer.running_var', 'baseline.baseline.policy.encoder.net.layers.0.1.normalizer.num_batches_tracked', 'baseline.baseline.policy.encoder.net.layers.0.2.module.lins.0.weight', 'baseline.baseline.policy.encoder.net.layers.0.2.module.lins.0.bias', 'baseline.baseline.policy.encoder.net.layers.0.2.module.lins.1.weight', 'baseline.baseline.policy.encoder.net.layers.0.2.module.lins.1.bias', 'baseline.baseline.policy.encoder.net.layers.0.3.normalizer.weight', 'baseline.baseline.policy.encoder.net.layers.0.3.normalizer.bias', 'baseline.baseline.policy.encoder.net.layers.0.3.normalizer.running_mean', 'baseline.baseline.policy.encoder.net.layers.0.3.normalizer.running_var', 'baseline.baseline.policy.encoder.net.layers.0.3.normalizer.num_batches_tracked', 'baseline.baseline.policy.encoder.net.layers.1.0.module.Wqkv.weight', 'baseline.baseline.policy.encoder.net.layers.1.0.module.Wqkv.bias', 'baseline.baseline.policy.encoder.net.layers.1.0.module.out_proj.weight', 'baseline.baseline.policy.encoder.net.layers.1.0.module.out_proj.bias', 'baseline.baseline.policy.encoder.net.layers.1.1.normalizer.weight', 'baseline.baseline.policy.encoder.net.layers.1.1.normalizer.bias', 'baseline.baseline.policy.encoder.net.layers.1.1.normalizer.running_mean', 'baseline.baseline.policy.encoder.net.layers.1.1.normalizer.running_var', 'baseline.baseline.policy.encoder.net.layers.1.1.normalizer.num_batches_tracked', 'baseline.baseline.policy.encoder.net.layers.1.2.module.lins.0.weight', 'baseline.baseline.policy.encoder.net.layers.1.2.module.lins.0.bias', 'baseline.baseline.policy.encoder.net.layers.1.2.module.lins.1.weight', 'baseline.baseline.policy.encoder.net.layers.1.2.module.lins.1.bias', 'baseline.baseline.policy.encoder.net.layers.1.3.normalizer.weight', 'baseline.baseline.policy.encoder.net.layers.1.3.normalizer.bias', 'baseline.baseline.policy.encoder.net.layers.1.3.normalizer.running_mean', 'baseline.baseline.policy.encoder.net.layers.1.3.normalizer.running_var', 'baseline.baseline.policy.encoder.net.layers.1.3.normalizer.num_batches_tracked', 'baseline.baseline.policy.encoder.net.layers.2.0.module.Wqkv.weight', 'baseline.baseline.policy.encoder.net.layers.2.0.module.Wqkv.bias', 'baseline.baseline.policy.encoder.net.layers.2.0.module.out_proj.weight', 'baseline.baseline.policy.encoder.net.layers.2.0.module.out_proj.bias', 'baseline.baseline.policy.encoder.net.layers.2.1.normalizer.weight', 'baseline.baseline.policy.encoder.net.layers.2.1.normalizer.bias', 'baseline.baseline.policy.encoder.net.layers.2.1.normalizer.running_mean', 'baseline.baseline.policy.encoder.net.layers.2.1.normalizer.running_var', 'baseline.baseline.policy.encoder.net.layers.2.1.normalizer.num_batches_tracked', 'baseline.baseline.policy.encoder.net.layers.2.2.module.lins.0.weight', 'baseline.baseline.policy.encoder.net.layers.2.2.module.lins.0.bias', 'baseline.baseline.policy.encoder.net.layers.2.2.module.lins.1.weight', 'baseline.baseline.policy.encoder.net.layers.2.2.module.lins.1.bias', 'baseline.baseline.policy.encoder.net.layers.2.3.normalizer.weight', 'baseline.baseline.policy.encoder.net.layers.2.3.normalizer.bias', 'baseline.baseline.policy.encoder.net.layers.2.3.normalizer.running_mean', 'baseline.baseline.policy.encoder.net.layers.2.3.normalizer.running_var', 'baseline.baseline.policy.encoder.net.layers.2.3.normalizer.num_batches_tracked', 'baseline.baseline.policy.encoder.net.layers.3.0.module.Wqkv.weight', 'baseline.baseline.policy.encoder.net.layers.3.0.module.Wqkv.bias', 'baseline.baseline.policy.encoder.net.layers.3.0.module.out_proj.weight', 'baseline.baseline.policy.encoder.net.layers.3.0.module.out_proj.bias', 'baseline.baseline.policy.encoder.net.layers.3.1.normalizer.weight', 'baseline.baseline.policy.encoder.net.layers.3.1.normalizer.bias', 'baseline.baseline.policy.encoder.net.layers.3.1.normalizer.running_mean', 'baseline.baseline.policy.encoder.net.layers.3.1.normalizer.running_var', 'baseline.baseline.policy.encoder.net.layers.3.1.normalizer.num_batches_tracked', 'baseline.baseline.policy.encoder.net.layers.3.2.module.lins.0.weight', 'baseline.baseline.policy.encoder.net.layers.3.2.module.lins.0.bias', 'baseline.baseline.policy.encoder.net.layers.3.2.module.lins.1.weight', 'baseline.baseline.policy.encoder.net.layers.3.2.module.lins.1.bias', 'baseline.baseline.policy.encoder.net.layers.3.3.normalizer.weight', 'baseline.baseline.policy.encoder.net.layers.3.3.normalizer.bias', 'baseline.baseline.policy.encoder.net.layers.3.3.normalizer.running_mean', 'baseline.baseline.policy.encoder.net.layers.3.3.normalizer.running_var', 'baseline.baseline.policy.encoder.net.layers.3.3.normalizer.num_batches_tracked', 'baseline.baseline.policy.encoder.net.layers.4.0.module.Wqkv.weight', 'baseline.baseline.policy.encoder.net.layers.4.0.module.Wqkv.bias', 'baseline.baseline.policy.encoder.net.layers.4.0.module.out_proj.weight', 'baseline.baseline.policy.encoder.net.layers.4.0.module.out_proj.bias', 'baseline.baseline.policy.encoder.net.layers.4.1.normalizer.weight', 'baseline.baseline.policy.encoder.net.layers.4.1.normalizer.bias', 'baseline.baseline.policy.encoder.net.layers.4.1.normalizer.running_mean', 'baseline.baseline.policy.encoder.net.layers.4.1.normalizer.running_var', 'baseline.baseline.policy.encoder.net.layers.4.1.normalizer.num_batches_tracked', 'baseline.baseline.policy.encoder.net.layers.4.2.module.lins.0.weight', 'baseline.baseline.policy.encoder.net.layers.4.2.module.lins.0.bias', 'baseline.baseline.policy.encoder.net.layers.4.2.module.lins.1.weight', 'baseline.baseline.policy.encoder.net.layers.4.2.module.lins.1.bias', 'baseline.baseline.policy.encoder.net.layers.4.3.normalizer.weight', 'baseline.baseline.policy.encoder.net.layers.4.3.normalizer.bias', 'baseline.baseline.policy.encoder.net.layers.4.3.normalizer.running_mean', 'baseline.baseline.policy.encoder.net.layers.4.3.normalizer.running_var', 'baseline.baseline.policy.encoder.net.layers.4.3.normalizer.num_batches_tracked', 'baseline.baseline.policy.encoder.net.layers.5.0.module.Wqkv.weight', 'baseline.baseline.policy.encoder.net.layers.5.0.module.Wqkv.bias', 'baseline.baseline.policy.encoder.net.layers.5.0.module.out_proj.weight', 'baseline.baseline.policy.encoder.net.layers.5.0.module.out_proj.bias', 'baseline.baseline.policy.encoder.net.layers.5.1.normalizer.weight', 'baseline.baseline.policy.encoder.net.layers.5.1.normalizer.bias', 'baseline.baseline.policy.encoder.net.layers.5.1.normalizer.running_mean', 'baseline.baseline.policy.encoder.net.layers.5.1.normalizer.running_var', 'baseline.baseline.policy.encoder.net.layers.5.1.normalizer.num_batches_tracked', 'baseline.baseline.policy.encoder.net.layers.5.2.module.lins.0.weight', 'baseline.baseline.policy.encoder.net.layers.5.2.module.lins.0.bias', 'baseline.baseline.policy.encoder.net.layers.5.2.module.lins.1.weight', 'baseline.baseline.policy.encoder.net.layers.5.2.module.lins.1.bias', 'baseline.baseline.policy.encoder.net.layers.5.3.normalizer.weight', 'baseline.baseline.policy.encoder.net.layers.5.3.normalizer.bias', 'baseline.baseline.policy.encoder.net.layers.5.3.normalizer.running_mean', 'baseline.baseline.policy.encoder.net.layers.5.3.normalizer.running_var', 'baseline.baseline.policy.encoder.net.layers.5.3.normalizer.num_batches_tracked', 'baseline.baseline.policy.encoder.net.layers.6.0.module.Wqkv.weight', 'baseline.baseline.policy.encoder.net.layers.6.0.module.Wqkv.bias', 'baseline.baseline.policy.encoder.net.layers.6.0.module.out_proj.weight', 'baseline.baseline.policy.encoder.net.layers.6.0.module.out_proj.bias', 'baseline.baseline.policy.encoder.net.layers.6.1.normalizer.weight', 'baseline.baseline.policy.encoder.net.layers.6.1.normalizer.bias', 'baseline.baseline.policy.encoder.net.layers.6.1.normalizer.running_mean', 'baseline.baseline.policy.encoder.net.layers.6.1.normalizer.running_var', 'baseline.baseline.policy.encoder.net.layers.6.1.normalizer.num_batches_tracked', 'baseline.baseline.policy.encoder.net.layers.6.2.module.lins.0.weight', 'baseline.baseline.policy.encoder.net.layers.6.2.module.lins.0.bias', 'baseline.baseline.policy.encoder.net.layers.6.2.module.lins.1.weight', 'baseline.baseline.policy.encoder.net.layers.6.2.module.lins.1.bias', 'baseline.baseline.policy.encoder.net.layers.6.3.normalizer.weight', 'baseline.baseline.policy.encoder.net.layers.6.3.normalizer.bias', 'baseline.baseline.policy.encoder.net.layers.6.3.normalizer.running_mean', 'baseline.baseline.policy.encoder.net.layers.6.3.normalizer.running_var', 'baseline.baseline.policy.encoder.net.layers.6.3.normalizer.num_batches_tracked', 'baseline.baseline.policy.encoder.net.layers.7.0.module.Wqkv.weight', 'baseline.baseline.policy.encoder.net.layers.7.0.module.Wqkv.bias', 'baseline.baseline.policy.encoder.net.layers.7.0.module.out_proj.weight', 'baseline.baseline.policy.encoder.net.layers.7.0.module.out_proj.bias', 'baseline.baseline.policy.encoder.net.layers.7.1.normalizer.weight', 'baseline.baseline.policy.encoder.net.layers.7.1.normalizer.bias', 'baseline.baseline.policy.encoder.net.layers.7.1.normalizer.running_mean', 'baseline.baseline.policy.encoder.net.layers.7.1.normalizer.running_var', 'baseline.baseline.policy.encoder.net.layers.7.1.normalizer.num_batches_tracked', 'baseline.baseline.policy.encoder.net.layers.7.2.module.lins.0.weight', 'baseline.baseline.policy.encoder.net.layers.7.2.module.lins.0.bias', 'baseline.baseline.policy.encoder.net.layers.7.2.module.lins.1.weight', 'baseline.baseline.policy.encoder.net.layers.7.2.module.lins.1.bias', 'baseline.baseline.policy.encoder.net.layers.7.3.normalizer.weight', 'baseline.baseline.policy.encoder.net.layers.7.3.normalizer.bias', 'baseline.baseline.policy.encoder.net.layers.7.3.normalizer.running_mean', 'baseline.baseline.policy.encoder.net.layers.7.3.normalizer.running_var', 'baseline.baseline.policy.encoder.net.layers.7.3.normalizer.num_batches_tracked', 'baseline.baseline.policy.decoder.context_embedding.project_context.weight', 'baseline.baseline.policy.decoder.context_embedding.proj_dynamic_feats.weight', 'baseline.baseline.policy.decoder.pointer.project_out.weight', 'baseline.baseline.policy.decoder.project_node_embeddings.weight', 'baseline.baseline.policy.decoder.project_fixed_context.weight']\n",
      "/Users/ekwan/graph-attention-replanner/.venv/lib/python3.10/site-packages/torchrl/data/tensor_specs.py:6911: DeprecationWarning: The BoundedTensorSpec has been deprecated and will be removed in v0.8. Please use Bounded instead.\n",
      "  warnings.warn(\n",
      "/Users/ekwan/graph-attention-replanner/.venv/lib/python3.10/site-packages/torchrl/data/tensor_specs.py:6911: DeprecationWarning: The UnboundedDiscreteTensorSpec has been deprecated and will be removed in v0.8. Please use Unbounded instead.\n",
      "  warnings.warn(\n",
      "/Users/ekwan/graph-attention-replanner/.venv/lib/python3.10/site-packages/torchrl/data/tensor_specs.py:6911: DeprecationWarning: The UnboundedContinuousTensorSpec has been deprecated and will be removed in v0.8. Please use Unbounded instead.\n",
      "  warnings.warn(\n",
      "/Users/ekwan/graph-attention-replanner/.venv/lib/python3.10/site-packages/torchrl/data/tensor_specs.py:6911: DeprecationWarning: The CompositeSpec has been deprecated and will be removed in v0.8. Please use Composite instead.\n",
      "  warnings.warn(\n"
     ]
    },
    {
     "name": "stdout",
     "output_type": "stream",
     "text": [
      "------------Loaded Dataset from /Users/ekwan/graph-attention-replanner/cache/data/general/problem5_node6_task3to3_dislevel2to2_agent3to3_seed0_bs10.npz-------------\n",
      "\n",
      "\n",
      "\n",
      "------------------------------------------\n",
      "Avg Mission Time(s): 14.175271987915039 ± 3.8674778938293457. \n",
      "Standard Error: 1.22300386428833\n",
      "Avg Wall Time(s): 0.0011822938919067382\n",
      "------------------------------------------\n",
      "\n",
      "\n",
      "\n"
     ]
    },
    {
     "data": {
      "text/plain": [
       "0"
      ]
     },
     "execution_count": 21,
     "metadata": {},
     "output_type": "execute_result"
    }
   ],
   "source": [
    "# Evaluate the model that solve the problem instance as a mTSP\n",
    "\n",
    "os.system(f\"python ../method/gat/eval_gat.py --method_mtsp_problem_type 1 --method_seed {base_problem_setup.seed} --num_task {base_problem_setup.num_task} --num_agent {base_problem_setup.num_agent} --discretize_level {base_problem_setup.discretize_level} --num_node {base_problem_setup.num_task*base_problem_setup.discretize_level} --mtsp_problem_type 5 --batch_size {base_problem_setup.batch_size} --num_exp {base_problem_setup.batch_size} --seed {base_problem_setup.seed}\")"
   ]
  },
  {
   "cell_type": "code",
   "execution_count": 8,
   "id": "82bf8262",
   "metadata": {},
   "outputs": [
    {
     "name": "stdout",
     "output_type": "stream",
     "text": [
      "WARNING: Number of agent is set to 3. Igoring min_num_agent and max_num_agent.\n",
      "WARNING: Number of task is set to 3. Igoring min_num_task and max_num_task.\n",
      "WARNING: Discretize level is set to 2. Igoring min_discretize_level and max_discretize_level.\n",
      "Evaluating model from /Users/ekwan/graph-attention-replanner/cache/checkpoints/algo_reinforce/problem5_node6_task3to3_dislevel2to2_agent3to3_seed0_20250806094407/epoch_epoch=000.ckpt using data from /Users/ekwan/graph-attention-replanner/cache/data/general/problem5_node6_task3to3_dislevel2to2_agent3to3_seed0_bs10.npz and saving results at /Users/ekwan/graph-attention-replanner/cache/results/gat/problem5_node6_task3to3_dislevel2to2_agent3to3_bs10_exp1_dataseed0_methodseed0.csv ...\n"
     ]
    },
    {
     "name": "stderr",
     "output_type": "stream",
     "text": [
      "/Users/ekwan/graph-attention-replanner/.venv/lib/python3.10/site-packages/lightning/pytorch/utilities/parsing.py:209: Attribute 'env' is an instance of `nn.Module` and is already saved during checkpointing. It is recommended to ignore them using `self.save_hyperparameters(ignore=['env'])`.\n",
      "/Users/ekwan/graph-attention-replanner/.venv/lib/python3.10/site-packages/lightning/pytorch/utilities/parsing.py:209: Attribute 'policy' is an instance of `nn.Module` and is already saved during checkpointing. It is recommended to ignore them using `self.save_hyperparameters(ignore=['policy'])`.\n",
      "/Users/ekwan/graph-attention-replanner/.venv/lib/python3.10/site-packages/lightning/pytorch/core/saving.py:195: Found keys that are not in the model state dict but in the checkpoint: ['baseline.baseline.policy.encoder.init_embedding.init_embed.weight', 'baseline.baseline.policy.encoder.init_embedding.init_embed.bias', 'baseline.baseline.policy.encoder.init_embedding.init_embed_depot.weight', 'baseline.baseline.policy.encoder.init_embedding.init_embed_depot.bias', 'baseline.baseline.policy.encoder.net.layers.0.0.module.Wqkv.weight', 'baseline.baseline.policy.encoder.net.layers.0.0.module.Wqkv.bias', 'baseline.baseline.policy.encoder.net.layers.0.0.module.out_proj.weight', 'baseline.baseline.policy.encoder.net.layers.0.0.module.out_proj.bias', 'baseline.baseline.policy.encoder.net.layers.0.1.normalizer.weight', 'baseline.baseline.policy.encoder.net.layers.0.1.normalizer.bias', 'baseline.baseline.policy.encoder.net.layers.0.1.normalizer.running_mean', 'baseline.baseline.policy.encoder.net.layers.0.1.normalizer.running_var', 'baseline.baseline.policy.encoder.net.layers.0.1.normalizer.num_batches_tracked', 'baseline.baseline.policy.encoder.net.layers.0.2.module.lins.0.weight', 'baseline.baseline.policy.encoder.net.layers.0.2.module.lins.0.bias', 'baseline.baseline.policy.encoder.net.layers.0.2.module.lins.1.weight', 'baseline.baseline.policy.encoder.net.layers.0.2.module.lins.1.bias', 'baseline.baseline.policy.encoder.net.layers.0.3.normalizer.weight', 'baseline.baseline.policy.encoder.net.layers.0.3.normalizer.bias', 'baseline.baseline.policy.encoder.net.layers.0.3.normalizer.running_mean', 'baseline.baseline.policy.encoder.net.layers.0.3.normalizer.running_var', 'baseline.baseline.policy.encoder.net.layers.0.3.normalizer.num_batches_tracked', 'baseline.baseline.policy.encoder.net.layers.1.0.module.Wqkv.weight', 'baseline.baseline.policy.encoder.net.layers.1.0.module.Wqkv.bias', 'baseline.baseline.policy.encoder.net.layers.1.0.module.out_proj.weight', 'baseline.baseline.policy.encoder.net.layers.1.0.module.out_proj.bias', 'baseline.baseline.policy.encoder.net.layers.1.1.normalizer.weight', 'baseline.baseline.policy.encoder.net.layers.1.1.normalizer.bias', 'baseline.baseline.policy.encoder.net.layers.1.1.normalizer.running_mean', 'baseline.baseline.policy.encoder.net.layers.1.1.normalizer.running_var', 'baseline.baseline.policy.encoder.net.layers.1.1.normalizer.num_batches_tracked', 'baseline.baseline.policy.encoder.net.layers.1.2.module.lins.0.weight', 'baseline.baseline.policy.encoder.net.layers.1.2.module.lins.0.bias', 'baseline.baseline.policy.encoder.net.layers.1.2.module.lins.1.weight', 'baseline.baseline.policy.encoder.net.layers.1.2.module.lins.1.bias', 'baseline.baseline.policy.encoder.net.layers.1.3.normalizer.weight', 'baseline.baseline.policy.encoder.net.layers.1.3.normalizer.bias', 'baseline.baseline.policy.encoder.net.layers.1.3.normalizer.running_mean', 'baseline.baseline.policy.encoder.net.layers.1.3.normalizer.running_var', 'baseline.baseline.policy.encoder.net.layers.1.3.normalizer.num_batches_tracked', 'baseline.baseline.policy.encoder.net.layers.2.0.module.Wqkv.weight', 'baseline.baseline.policy.encoder.net.layers.2.0.module.Wqkv.bias', 'baseline.baseline.policy.encoder.net.layers.2.0.module.out_proj.weight', 'baseline.baseline.policy.encoder.net.layers.2.0.module.out_proj.bias', 'baseline.baseline.policy.encoder.net.layers.2.1.normalizer.weight', 'baseline.baseline.policy.encoder.net.layers.2.1.normalizer.bias', 'baseline.baseline.policy.encoder.net.layers.2.1.normalizer.running_mean', 'baseline.baseline.policy.encoder.net.layers.2.1.normalizer.running_var', 'baseline.baseline.policy.encoder.net.layers.2.1.normalizer.num_batches_tracked', 'baseline.baseline.policy.encoder.net.layers.2.2.module.lins.0.weight', 'baseline.baseline.policy.encoder.net.layers.2.2.module.lins.0.bias', 'baseline.baseline.policy.encoder.net.layers.2.2.module.lins.1.weight', 'baseline.baseline.policy.encoder.net.layers.2.2.module.lins.1.bias', 'baseline.baseline.policy.encoder.net.layers.2.3.normalizer.weight', 'baseline.baseline.policy.encoder.net.layers.2.3.normalizer.bias', 'baseline.baseline.policy.encoder.net.layers.2.3.normalizer.running_mean', 'baseline.baseline.policy.encoder.net.layers.2.3.normalizer.running_var', 'baseline.baseline.policy.encoder.net.layers.2.3.normalizer.num_batches_tracked', 'baseline.baseline.policy.encoder.net.layers.3.0.module.Wqkv.weight', 'baseline.baseline.policy.encoder.net.layers.3.0.module.Wqkv.bias', 'baseline.baseline.policy.encoder.net.layers.3.0.module.out_proj.weight', 'baseline.baseline.policy.encoder.net.layers.3.0.module.out_proj.bias', 'baseline.baseline.policy.encoder.net.layers.3.1.normalizer.weight', 'baseline.baseline.policy.encoder.net.layers.3.1.normalizer.bias', 'baseline.baseline.policy.encoder.net.layers.3.1.normalizer.running_mean', 'baseline.baseline.policy.encoder.net.layers.3.1.normalizer.running_var', 'baseline.baseline.policy.encoder.net.layers.3.1.normalizer.num_batches_tracked', 'baseline.baseline.policy.encoder.net.layers.3.2.module.lins.0.weight', 'baseline.baseline.policy.encoder.net.layers.3.2.module.lins.0.bias', 'baseline.baseline.policy.encoder.net.layers.3.2.module.lins.1.weight', 'baseline.baseline.policy.encoder.net.layers.3.2.module.lins.1.bias', 'baseline.baseline.policy.encoder.net.layers.3.3.normalizer.weight', 'baseline.baseline.policy.encoder.net.layers.3.3.normalizer.bias', 'baseline.baseline.policy.encoder.net.layers.3.3.normalizer.running_mean', 'baseline.baseline.policy.encoder.net.layers.3.3.normalizer.running_var', 'baseline.baseline.policy.encoder.net.layers.3.3.normalizer.num_batches_tracked', 'baseline.baseline.policy.encoder.net.layers.4.0.module.Wqkv.weight', 'baseline.baseline.policy.encoder.net.layers.4.0.module.Wqkv.bias', 'baseline.baseline.policy.encoder.net.layers.4.0.module.out_proj.weight', 'baseline.baseline.policy.encoder.net.layers.4.0.module.out_proj.bias', 'baseline.baseline.policy.encoder.net.layers.4.1.normalizer.weight', 'baseline.baseline.policy.encoder.net.layers.4.1.normalizer.bias', 'baseline.baseline.policy.encoder.net.layers.4.1.normalizer.running_mean', 'baseline.baseline.policy.encoder.net.layers.4.1.normalizer.running_var', 'baseline.baseline.policy.encoder.net.layers.4.1.normalizer.num_batches_tracked', 'baseline.baseline.policy.encoder.net.layers.4.2.module.lins.0.weight', 'baseline.baseline.policy.encoder.net.layers.4.2.module.lins.0.bias', 'baseline.baseline.policy.encoder.net.layers.4.2.module.lins.1.weight', 'baseline.baseline.policy.encoder.net.layers.4.2.module.lins.1.bias', 'baseline.baseline.policy.encoder.net.layers.4.3.normalizer.weight', 'baseline.baseline.policy.encoder.net.layers.4.3.normalizer.bias', 'baseline.baseline.policy.encoder.net.layers.4.3.normalizer.running_mean', 'baseline.baseline.policy.encoder.net.layers.4.3.normalizer.running_var', 'baseline.baseline.policy.encoder.net.layers.4.3.normalizer.num_batches_tracked', 'baseline.baseline.policy.encoder.net.layers.5.0.module.Wqkv.weight', 'baseline.baseline.policy.encoder.net.layers.5.0.module.Wqkv.bias', 'baseline.baseline.policy.encoder.net.layers.5.0.module.out_proj.weight', 'baseline.baseline.policy.encoder.net.layers.5.0.module.out_proj.bias', 'baseline.baseline.policy.encoder.net.layers.5.1.normalizer.weight', 'baseline.baseline.policy.encoder.net.layers.5.1.normalizer.bias', 'baseline.baseline.policy.encoder.net.layers.5.1.normalizer.running_mean', 'baseline.baseline.policy.encoder.net.layers.5.1.normalizer.running_var', 'baseline.baseline.policy.encoder.net.layers.5.1.normalizer.num_batches_tracked', 'baseline.baseline.policy.encoder.net.layers.5.2.module.lins.0.weight', 'baseline.baseline.policy.encoder.net.layers.5.2.module.lins.0.bias', 'baseline.baseline.policy.encoder.net.layers.5.2.module.lins.1.weight', 'baseline.baseline.policy.encoder.net.layers.5.2.module.lins.1.bias', 'baseline.baseline.policy.encoder.net.layers.5.3.normalizer.weight', 'baseline.baseline.policy.encoder.net.layers.5.3.normalizer.bias', 'baseline.baseline.policy.encoder.net.layers.5.3.normalizer.running_mean', 'baseline.baseline.policy.encoder.net.layers.5.3.normalizer.running_var', 'baseline.baseline.policy.encoder.net.layers.5.3.normalizer.num_batches_tracked', 'baseline.baseline.policy.encoder.net.layers.6.0.module.Wqkv.weight', 'baseline.baseline.policy.encoder.net.layers.6.0.module.Wqkv.bias', 'baseline.baseline.policy.encoder.net.layers.6.0.module.out_proj.weight', 'baseline.baseline.policy.encoder.net.layers.6.0.module.out_proj.bias', 'baseline.baseline.policy.encoder.net.layers.6.1.normalizer.weight', 'baseline.baseline.policy.encoder.net.layers.6.1.normalizer.bias', 'baseline.baseline.policy.encoder.net.layers.6.1.normalizer.running_mean', 'baseline.baseline.policy.encoder.net.layers.6.1.normalizer.running_var', 'baseline.baseline.policy.encoder.net.layers.6.1.normalizer.num_batches_tracked', 'baseline.baseline.policy.encoder.net.layers.6.2.module.lins.0.weight', 'baseline.baseline.policy.encoder.net.layers.6.2.module.lins.0.bias', 'baseline.baseline.policy.encoder.net.layers.6.2.module.lins.1.weight', 'baseline.baseline.policy.encoder.net.layers.6.2.module.lins.1.bias', 'baseline.baseline.policy.encoder.net.layers.6.3.normalizer.weight', 'baseline.baseline.policy.encoder.net.layers.6.3.normalizer.bias', 'baseline.baseline.policy.encoder.net.layers.6.3.normalizer.running_mean', 'baseline.baseline.policy.encoder.net.layers.6.3.normalizer.running_var', 'baseline.baseline.policy.encoder.net.layers.6.3.normalizer.num_batches_tracked', 'baseline.baseline.policy.encoder.net.layers.7.0.module.Wqkv.weight', 'baseline.baseline.policy.encoder.net.layers.7.0.module.Wqkv.bias', 'baseline.baseline.policy.encoder.net.layers.7.0.module.out_proj.weight', 'baseline.baseline.policy.encoder.net.layers.7.0.module.out_proj.bias', 'baseline.baseline.policy.encoder.net.layers.7.1.normalizer.weight', 'baseline.baseline.policy.encoder.net.layers.7.1.normalizer.bias', 'baseline.baseline.policy.encoder.net.layers.7.1.normalizer.running_mean', 'baseline.baseline.policy.encoder.net.layers.7.1.normalizer.running_var', 'baseline.baseline.policy.encoder.net.layers.7.1.normalizer.num_batches_tracked', 'baseline.baseline.policy.encoder.net.layers.7.2.module.lins.0.weight', 'baseline.baseline.policy.encoder.net.layers.7.2.module.lins.0.bias', 'baseline.baseline.policy.encoder.net.layers.7.2.module.lins.1.weight', 'baseline.baseline.policy.encoder.net.layers.7.2.module.lins.1.bias', 'baseline.baseline.policy.encoder.net.layers.7.3.normalizer.weight', 'baseline.baseline.policy.encoder.net.layers.7.3.normalizer.bias', 'baseline.baseline.policy.encoder.net.layers.7.3.normalizer.running_mean', 'baseline.baseline.policy.encoder.net.layers.7.3.normalizer.running_var', 'baseline.baseline.policy.encoder.net.layers.7.3.normalizer.num_batches_tracked', 'baseline.baseline.policy.decoder.context_embedding.project_context.weight', 'baseline.baseline.policy.decoder.context_embedding.proj_dynamic_feats.weight', 'baseline.baseline.policy.decoder.pointer.project_out.weight', 'baseline.baseline.policy.decoder.project_node_embeddings.weight', 'baseline.baseline.policy.decoder.project_fixed_context.weight']\n",
      "/Users/ekwan/graph-attention-replanner/.venv/lib/python3.10/site-packages/torchrl/data/tensor_specs.py:6911: DeprecationWarning: The BoundedTensorSpec has been deprecated and will be removed in v0.8. Please use Bounded instead.\n",
      "  warnings.warn(\n",
      "/Users/ekwan/graph-attention-replanner/.venv/lib/python3.10/site-packages/torchrl/data/tensor_specs.py:6911: DeprecationWarning: The UnboundedDiscreteTensorSpec has been deprecated and will be removed in v0.8. Please use Unbounded instead.\n",
      "  warnings.warn(\n",
      "/Users/ekwan/graph-attention-replanner/.venv/lib/python3.10/site-packages/torchrl/data/tensor_specs.py:6911: DeprecationWarning: The UnboundedContinuousTensorSpec has been deprecated and will be removed in v0.8. Please use Unbounded instead.\n",
      "  warnings.warn(\n",
      "/Users/ekwan/graph-attention-replanner/.venv/lib/python3.10/site-packages/torchrl/data/tensor_specs.py:6911: DeprecationWarning: The CompositeSpec has been deprecated and will be removed in v0.8. Please use Composite instead.\n",
      "  warnings.warn(\n"
     ]
    },
    {
     "name": "stdout",
     "output_type": "stream",
     "text": [
      "------------Loaded Dataset from /Users/ekwan/graph-attention-replanner/cache/data/general/problem5_node6_task3to3_dislevel2to2_agent3to3_seed0_bs10.npz-------------\n",
      "\n",
      "\n",
      "\n",
      "------------------------------------------\n",
      "Avg Mission Time(s): 27.64629364013672 ± 7.331835746765137. \n",
      "Standard Error: 2.3185300827026367\n",
      "Avg Wall Time(s): 0.0017493009567260743\n",
      "------------------------------------------\n",
      "\n",
      "\n",
      "\n"
     ]
    },
    {
     "data": {
      "text/plain": [
       "0"
      ]
     },
     "execution_count": 8,
     "metadata": {},
     "output_type": "execute_result"
    }
   ],
   "source": [
    "# Evaluate the model that solve the problem instance as a CMRP\n",
    "\n",
    "os.system(f\"python ../method/gat/eval_gat.py --method_mtsp_problem_type 5 --method_seed {base_problem_setup.seed} --num_task {base_problem_setup.num_task} --num_agent {base_problem_setup.num_agent} --discretize_level {base_problem_setup.discretize_level} --num_node {base_problem_setup.num_task*base_problem_setup.discretize_level} --mtsp_problem_type 5 --batch_size {base_problem_setup.batch_size} --num_exp {base_problem_setup.batch_size} --seed {base_problem_setup.seed}\")"
   ]
  },
  {
   "cell_type": "markdown",
   "id": "b1fd2844",
   "metadata": {},
   "source": [
    "# Visualize Results"
   ]
  },
  {
   "cell_type": "code",
   "execution_count": 2,
   "id": "7e2ce956",
   "metadata": {},
   "outputs": [
    {
     "data": {
      "text/html": [
       "<div>\n",
       "<style scoped>\n",
       "    .dataframe tbody tr th:only-of-type {\n",
       "        vertical-align: middle;\n",
       "    }\n",
       "\n",
       "    .dataframe tbody tr th {\n",
       "        vertical-align: top;\n",
       "    }\n",
       "\n",
       "    .dataframe thead th {\n",
       "        text-align: right;\n",
       "    }\n",
       "</style>\n",
       "<table border=\"1\" class=\"dataframe\">\n",
       "  <thead>\n",
       "    <tr style=\"text-align: right;\">\n",
       "      <th></th>\n",
       "      <th>mission_time</th>\n",
       "      <th>runtime</th>\n",
       "    </tr>\n",
       "    <tr>\n",
       "      <th>mtsp_problem_type</th>\n",
       "      <th></th>\n",
       "      <th></th>\n",
       "    </tr>\n",
       "  </thead>\n",
       "  <tbody>\n",
       "    <tr>\n",
       "      <th>1</th>\n",
       "      <td>14.18</td>\n",
       "      <td>0.001182</td>\n",
       "    </tr>\n",
       "    <tr>\n",
       "      <th>5</th>\n",
       "      <td>27.65</td>\n",
       "      <td>0.001749</td>\n",
       "    </tr>\n",
       "  </tbody>\n",
       "</table>\n",
       "</div>"
      ],
      "text/plain": [
       "                   mission_time   runtime\n",
       "mtsp_problem_type                        \n",
       "1                         14.18  0.001182\n",
       "5                         27.65  0.001749"
      ]
     },
     "execution_count": 2,
     "metadata": {},
     "output_type": "execute_result"
    }
   ],
   "source": [
    "def get_saved_data(setup, mtsp_problem_type=5, type=\"result\"):\n",
    "    num_node = setup.num_task * setup.discretize_level\n",
    "    cfg = LogFileConfig(\n",
    "            5,\n",
    "            num_node,\n",
    "            setup.num_task,\n",
    "            setup.num_task,\n",
    "            setup.discretize_level,\n",
    "            setup.discretize_level,\n",
    "            setup.num_agent,\n",
    "            setup.num_agent,\n",
    "            setup.batch_size,\n",
    "            read_only=True,\n",
    "        )\n",
    "    if type == \"result\":\n",
    "        result_path = cfg.get_result_logfilename(\n",
    "            seed=setup.seed,\n",
    "            method_seed=setup.seed,\n",
    "            method=\"gat\",\n",
    "            format=\"csv\",\n",
    "            override_mtsp_problem_type=mtsp_problem_type,\n",
    "        )\n",
    "        return result_path\n",
    "    elif type == \"data\":\n",
    "        data_path = cfg.get_data_logfilename(\n",
    "            seed=setup.seed, format=\"npz\", override_mtsp_problem_type=5\n",
    "        )\n",
    "        return data_path\n",
    "    else:\n",
    "        raise ValueError(\"Invalid type specified. Use 'result' or 'data'.\")\n",
    "\n",
    "df_list = []\n",
    "path = get_saved_data(base_problem_setup, mtsp_problem_type=5, type=\"result\")\n",
    "df = pd.read_csv(path)\n",
    "df_list.append(df)\n",
    "\n",
    "path = get_saved_data(base_problem_setup, mtsp_problem_type=1, type=\"result\")\n",
    "df = pd.read_csv(path)\n",
    "df_list.append(df)\n",
    "\n",
    "MERGED_DF = pd.concat(df_list, ignore_index=True)\n",
    "\n",
    "# Group and aggregate\n",
    "agg_df = MERGED_DF.groupby([\"mtsp_problem_type\"]).agg({\n",
    "    \"mission_time\": lambda x: round(x.mean(), 2),\n",
    "    \"runtime\": lambda x: round(x.mean(), 6)\n",
    "})\n",
    "\n",
    "agg_df"
   ]
  },
  {
   "cell_type": "code",
   "execution_count": 3,
   "id": "bfcc2846",
   "metadata": {},
   "outputs": [],
   "source": [
    "def visualize_action(setup, mtsp_problem_type=5, exp_num=1, ax=None):\n",
    "    num_node = setup.num_task * setup.discretize_level\n",
    "    generator = get_generator(5)(\n",
    "        num_node=num_node,\n",
    "        min_num_task=setup.num_task,\n",
    "        max_num_task=setup.num_task,\n",
    "        min_discretize_level=setup.discretize_level,\n",
    "        max_discretize_level=setup.discretize_level,\n",
    "        min_num_agent=setup.num_agent,\n",
    "        max_num_agent=setup.num_agent,\n",
    "        seed=setup.seed,\n",
    "    )\n",
    "    env = get_env(5)(generator)\n",
    "\n",
    "    path = get_saved_data(setup, mtsp_problem_type, type=\"result\")\n",
    "    df = pd.read_csv(path).iloc[exp_num]\n",
    "    action_str = df[\"tour\"]\n",
    "    action = np.array([int(x) for x in action_str.strip('[]').split(',')])\n",
    "\n",
    "    # Convert action to non splitted version\n",
    "    if mtsp_problem_type == 5:\n",
    "        print(f\"Action: {action}\")\n",
    "        genaction2specificaction = [0]\n",
    "        for d in range(setup.discretize_level):\n",
    "            for t in range(setup.num_task):\n",
    "                genaction2specificaction.append(t+1)\n",
    "        for a in range(setup.num_agent):\n",
    "            offset = setup.num_task + 1\n",
    "            genaction2specificaction.append(offset + a)\n",
    "        print(f\"genaction2specificaction: {genaction2specificaction}\")\n",
    "        action = np.array([genaction2specificaction[a] for a in action])\n",
    "        print(f\"Action: {action}\")\n",
    "\n",
    "    if mtsp_problem_type == 5:\n",
    "        visualize_task_not_splitted = True\n",
    "    else:\n",
    "        visualize_task_not_splitted = False\n",
    "    reward = df[\"mission_time\"]\n",
    "    path = get_saved_data(setup, mtsp_problem_type=mtsp_problem_type, type=\"data\")\n",
    "    td = env.load_data(path, batch_size=setup.batch_size)\n",
    "    env.render(\n",
    "        td[exp_num], action, reward=reward, visualize_task_not_splitted=visualize_task_not_splitted, ax=ax\n",
    "    )"
   ]
  },
  {
   "cell_type": "code",
   "execution_count": 4,
   "id": "387cd319",
   "metadata": {},
   "outputs": [
    {
     "name": "stderr",
     "output_type": "stream",
     "text": [
      "/Users/ekwan/graph-attention-replanner/.venv/lib/python3.10/site-packages/torchrl/data/tensor_specs.py:6911: DeprecationWarning: The BoundedTensorSpec has been deprecated and will be removed in v0.8. Please use Bounded instead.\n",
      "  warnings.warn(\n",
      "/Users/ekwan/graph-attention-replanner/.venv/lib/python3.10/site-packages/torchrl/data/tensor_specs.py:6911: DeprecationWarning: The UnboundedDiscreteTensorSpec has been deprecated and will be removed in v0.8. Please use Unbounded instead.\n",
      "  warnings.warn(\n",
      "/Users/ekwan/graph-attention-replanner/.venv/lib/python3.10/site-packages/torchrl/data/tensor_specs.py:6911: DeprecationWarning: The UnboundedContinuousTensorSpec has been deprecated and will be removed in v0.8. Please use Unbounded instead.\n",
      "  warnings.warn(\n",
      "/Users/ekwan/graph-attention-replanner/.venv/lib/python3.10/site-packages/torchrl/data/tensor_specs.py:6911: DeprecationWarning: The CompositeSpec has been deprecated and will be removed in v0.8. Please use Composite instead.\n",
      "  warnings.warn(\n"
     ]
    },
    {
     "name": "stdout",
     "output_type": "stream",
     "text": [
      "Action: [7 1 0 8 4 0 9 2 5 3 6 0]\n",
      "genaction2specificaction: [0, 1, 2, 3, 1, 2, 3, 4, 5, 6]\n",
      "Action: [4 1 0 5 1 0 6 2 2 3 3 0]\n"
     ]
    },
    {
     "name": "stderr",
     "output_type": "stream",
     "text": [
      "/Users/ekwan/graph-attention-replanner/.venv/lib/python3.10/site-packages/torchrl/data/tensor_specs.py:6911: DeprecationWarning: The BoundedTensorSpec has been deprecated and will be removed in v0.8. Please use Bounded instead.\n",
      "  warnings.warn(\n",
      "/Users/ekwan/graph-attention-replanner/.venv/lib/python3.10/site-packages/torchrl/data/tensor_specs.py:6911: DeprecationWarning: The UnboundedDiscreteTensorSpec has been deprecated and will be removed in v0.8. Please use Unbounded instead.\n",
      "  warnings.warn(\n",
      "/Users/ekwan/graph-attention-replanner/.venv/lib/python3.10/site-packages/torchrl/data/tensor_specs.py:6911: DeprecationWarning: The UnboundedContinuousTensorSpec has been deprecated and will be removed in v0.8. Please use Unbounded instead.\n",
      "  warnings.warn(\n",
      "/Users/ekwan/graph-attention-replanner/.venv/lib/python3.10/site-packages/torchrl/data/tensor_specs.py:6911: DeprecationWarning: The CompositeSpec has been deprecated and will be removed in v0.8. Please use Composite instead.\n",
      "  warnings.warn(\n"
     ]
    },
    {
     "data": {
      "image/png": "[encoded data removed]",
      "text/plain": [
       "<Figure size 1200x800 with 2 Axes>"
      ]
     },
     "metadata": {},
     "output_type": "display_data"
    }
   ],
   "source": [
    "fig, ax = plt.subplots(2, figsize=(12,8))\n",
    "ax[0].text(4, 0.5, \"As a CMRP\", fontsize=12, ha='center')\n",
    "visualize_action(base_problem_setup, 5, ax=ax[0])\n",
    "ax[1].text(4, 0.5, \"As a mTSP\", fontsize=12, ha='center')\n",
    "visualize_action(base_problem_setup, 1, ax=ax[1])"
   ]
  }
 ],
 "metadata": {
  "kernelspec": {
   "display_name": ".venv",
   "language": "python",
   "name": "python3"
  },
  "language_info": {
   "codemirror_mode": {
    "name": "ipython",
    "version": 3
   },
   "file_extension": ".py",
   "mimetype": "text/x-python",
   "name": "python",
   "nbconvert_exporter": "python",
   "pygments_lexer": "ipython3",
   "version": "3.10.13"
  }
 },
 "nbformat": 4,
 "nbformat_minor": 5
}
